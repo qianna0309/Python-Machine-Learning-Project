{
 "cells": [
  {
   "cell_type": "markdown",
   "metadata": {
    "colab_type": "text",
    "id": "niZqPUx-baeH"
   },
   "source": [
    "\n",
    "# Purpose: Hypothesis Testing\n",
    "# Author: Na Qian\n",
    "\n"
   ]
  },
  {
   "cell_type": "markdown",
   "metadata": {
    "colab_type": "text",
    "id": "1v3WhLWzkFYG"
   },
   "source": [
    "# Import necessary packages"
   ]
  },
  {
   "cell_type": "code",
   "execution_count": 1,
   "metadata": {
    "colab": {},
    "colab_type": "code",
    "id": "H6I_F9EGhzvO"
   },
   "outputs": [],
   "source": [
    "import pandas as pd\n",
    "import numpy as np\n",
    "from matplotlib import pyplot as plt\n",
    "import seaborn as sns\n",
    "from scipy.stats import f_oneway\n",
    "from pylab import rcParams\n",
    "rcParams['figure.figsize'] = (15, 6)\n",
    "sns.set_style('whitegrid')"
   ]
  },
  {
   "cell_type": "markdown",
   "metadata": {
    "colab_type": "text",
    "id": "qcadch0hc8Fa"
   },
   "source": [
    "# Explore SFO data"
   ]
  },
  {
   "cell_type": "markdown",
   "metadata": {
    "colab_type": "text",
    "id": "P9Jqb8hWdWSV"
   },
   "source": [
    "# Acquire data "
   ]
  },
  {
   "cell_type": "code",
   "execution_count": 2,
   "metadata": {
    "colab": {},
    "colab_type": "code",
    "id": "saiBDtMbrwri"
   },
   "outputs": [],
   "source": [
    "data_path_sfo=\"https://docs.google.com/spreadsheets/d/e/2PACX-1vRq8NyI_2-froZYCAP7TiMnXuC3PgdNuVDtaC1edLaWTTnycEICe8dFSwtfDRMIIdVUPVdBswjtEfSk/pub?gid=109122768&single=true&output=csv\""
   ]
  },
  {
   "cell_type": "code",
   "execution_count": 3,
   "metadata": {
    "colab": {},
    "colab_type": "code",
    "id": "PO_n9FgNrwv7"
   },
   "outputs": [],
   "source": [
    "df_sfo = pd.read_csv(data_path_sfo)"
   ]
  },
  {
   "cell_type": "code",
   "execution_count": 4,
   "metadata": {
    "colab": {
     "base_uri": "https://localhost:8080/",
     "height": 187
    },
    "colab_type": "code",
    "id": "RLm8_YN8x448",
    "outputId": "3e43da76-3510-4ac8-a31e-0097b37299da"
   },
   "outputs": [
    {
     "name": "stdout",
     "output_type": "stream",
     "text": [
      "<class 'pandas.core.frame.DataFrame'>\n",
      "RangeIndex: 103 entries, 0 to 102\n",
      "Data columns (total 3 columns):\n",
      " #   Column                                  Non-Null Count  Dtype  \n",
      "---  ------                                  --------------  -----  \n",
      " 0   Date                                    103 non-null    object \n",
      " 1   SFO - Avg. Daily Miles Driven Per Hour  103 non-null    float64\n",
      " 2   Marketing_Campaign                      103 non-null    int64  \n",
      "dtypes: float64(1), int64(1), object(1)\n",
      "memory usage: 2.5+ KB\n"
     ]
    }
   ],
   "source": [
    "df_sfo.info()"
   ]
  },
  {
   "cell_type": "code",
   "execution_count": 26,
   "metadata": {
    "colab": {
     "base_uri": "https://localhost:8080/",
     "height": 80
    },
    "colab_type": "code",
    "id": "BhGmzVs6zs0p",
    "outputId": "c0fbc4ff-f5ea-4171-c7ed-2919913be054"
   },
   "outputs": [
    {
     "data": {
      "text/html": [
       "<div>\n",
       "<style scoped>\n",
       "    .dataframe tbody tr th:only-of-type {\n",
       "        vertical-align: middle;\n",
       "    }\n",
       "\n",
       "    .dataframe tbody tr th {\n",
       "        vertical-align: top;\n",
       "    }\n",
       "\n",
       "    .dataframe thead th {\n",
       "        text-align: right;\n",
       "    }\n",
       "</style>\n",
       "<table border=\"1\" class=\"dataframe\">\n",
       "  <thead>\n",
       "    <tr style=\"text-align: right;\">\n",
       "      <th></th>\n",
       "      <th>Date</th>\n",
       "      <th>SFO - Avg. Daily Miles Driven Per Hour</th>\n",
       "      <th>Marketing_Campaign</th>\n",
       "    </tr>\n",
       "  </thead>\n",
       "  <tbody>\n",
       "    <tr>\n",
       "      <th>0</th>\n",
       "      <td>09/14/2019</td>\n",
       "      <td>47.307253</td>\n",
       "      <td>0</td>\n",
       "    </tr>\n",
       "    <tr>\n",
       "      <th>1</th>\n",
       "      <td>09/15/2019</td>\n",
       "      <td>93.586931</td>\n",
       "      <td>0</td>\n",
       "    </tr>\n",
       "    <tr>\n",
       "      <th>2</th>\n",
       "      <td>09/16/2019</td>\n",
       "      <td>38.644196</td>\n",
       "      <td>0</td>\n",
       "    </tr>\n",
       "    <tr>\n",
       "      <th>3</th>\n",
       "      <td>09/17/2019</td>\n",
       "      <td>40.674907</td>\n",
       "      <td>0</td>\n",
       "    </tr>\n",
       "    <tr>\n",
       "      <th>4</th>\n",
       "      <td>09/18/2019</td>\n",
       "      <td>63.256596</td>\n",
       "      <td>0</td>\n",
       "    </tr>\n",
       "  </tbody>\n",
       "</table>\n",
       "</div>"
      ],
      "text/plain": [
       "         Date  SFO - Avg. Daily Miles Driven Per Hour  Marketing_Campaign\n",
       "0  09/14/2019                               47.307253                   0\n",
       "1  09/15/2019                               93.586931                   0\n",
       "2  09/16/2019                               38.644196                   0\n",
       "3  09/17/2019                               40.674907                   0\n",
       "4  09/18/2019                               63.256596                   0"
      ]
     },
     "execution_count": 26,
     "metadata": {},
     "output_type": "execute_result"
    }
   ],
   "source": [
    "df_sfo.head(5)"
   ]
  },
  {
   "cell_type": "markdown",
   "metadata": {
    "colab_type": "text",
    "id": "l_U6I6lnfCh6"
   },
   "source": [
    "# Column list\n",
    "\n",
    "Date - The date that the observation was recorded.\n",
    "\n",
    "SFO - Avg. Daily Miles Driven Per Hour - the daily average mileage a diver dirve per hour in SFO.\n",
    "\n",
    "Marketing_Campaign - A binary field that is set to either 1 for when there has campaign or 0 for when there has no campaign."
   ]
  },
  {
   "cell_type": "markdown",
   "metadata": {
    "colab_type": "text",
    "id": "k0hJMFamgRUJ"
   },
   "source": [
    "# Describe quantitative variable"
   ]
  },
  {
   "cell_type": "code",
   "execution_count": 6,
   "metadata": {
    "colab": {
     "base_uri": "https://localhost:8080/",
     "height": 170
    },
    "colab_type": "code",
    "id": "XTFKNod-ictJ",
    "outputId": "3dca2299-d356-4d82-d0ea-5098d58b0155"
   },
   "outputs": [
    {
     "data": {
      "text/plain": [
       "count    103.000000\n",
       "mean      61.333422\n",
       "std       33.381028\n",
       "min        2.216110\n",
       "25%       40.245369\n",
       "50%       66.652899\n",
       "75%       86.002087\n",
       "max      125.595790\n",
       "Name: SFO - Avg. Daily Miles Driven Per Hour, dtype: float64"
      ]
     },
     "execution_count": 6,
     "metadata": {},
     "output_type": "execute_result"
    }
   ],
   "source": [
    "df_sfo['SFO - Avg. Daily Miles Driven Per Hour'].describe()"
   ]
  },
  {
   "cell_type": "markdown",
   "metadata": {
    "colab_type": "text",
    "id": "vFTocIaSinil"
   },
   "source": [
    "# Graphical Portion"
   ]
  },
  {
   "cell_type": "code",
   "execution_count": 7,
   "metadata": {
    "colab": {
     "base_uri": "https://localhost:8080/",
     "height": 296
    },
    "colab_type": "code",
    "id": "MOmspHmM3NxG",
    "outputId": "74fa052a-8200-465e-de04-4bec8a053011"
   },
   "outputs": [
    {
     "data": {
      "text/plain": [
       "<matplotlib.axes._subplots.AxesSubplot at 0x7f8917b046d0>"
      ]
     },
     "execution_count": 7,
     "metadata": {},
     "output_type": "execute_result"
    },
    {
     "data": {
      "image/png": "[encoded data removed]",
      "text/plain": [
       "<Figure size 1080x432 with 1 Axes>"
      ]
     },
     "metadata": {},
     "output_type": "display_data"
    }
   ],
   "source": [
    "sns.distplot(df_sfo['SFO - Avg. Daily Miles Driven Per Hour'])"
   ]
  },
  {
   "cell_type": "code",
   "execution_count": 12,
   "metadata": {
    "colab": {
     "base_uri": "https://localhost:8080/",
     "height": 297
    },
    "colab_type": "code",
    "id": "sLqLTrza3N5H",
    "outputId": "fb2ac0e2-1d05-429b-d43e-9cc0e775e615"
   },
   "outputs": [
    {
     "data": {
      "text/plain": [
       "<matplotlib.axes._subplots.AxesSubplot at 0x7f8919354c90>"
      ]
     },
     "execution_count": 12,
     "metadata": {},
     "output_type": "execute_result"
    },
    {
     "data": {
      "image/png": "[encoded data removed]",
      "text/plain": [
       "<Figure size 1080x432 with 1 Axes>"
      ]
     },
     "metadata": {},
     "output_type": "display_data"
    }
   ],
   "source": [
    "sns.boxplot(x=\"Marketing_Campaign\",y=\"SFO - Avg. Daily Miles Driven Per Hour\",data=df_sfo)\n"
   ]
  },
  {
   "cell_type": "markdown",
   "metadata": {
    "colab_type": "text",
    "id": "LvF8eWgNjkQ_"
   },
   "source": [
    "# Test Setup:\n",
    "\n",
    "The Null Hypothesis is that the daily average mileage a diver dirve per hour in SFO when there has campaign is same as there has no campaign \n",
    "\n",
    "The Alternate Hypothesis is that the daily average mileage a diver dirve per hour in SFO when there has campaign is greater than there has no campaign \n",
    "\n",
    "The level of significance will be set to 0.05"
   ]
  },
  {
   "cell_type": "markdown",
   "metadata": {
    "colab_type": "text",
    "id": "g0n8eKULmmZ2"
   },
   "source": [
    "# Quantitative Variable Overview"
   ]
  },
  {
   "cell_type": "code",
   "execution_count": 9,
   "metadata": {
    "colab": {
     "base_uri": "https://localhost:8080/",
     "height": 297
    },
    "colab_type": "code",
    "id": "asFWkosa3OIp",
    "outputId": "b1961df2-365b-44bf-f715-5aa42824edac"
   },
   "outputs": [
    {
     "data": {
      "text/html": [
       "<div>\n",
       "<style scoped>\n",
       "    .dataframe tbody tr th:only-of-type {\n",
       "        vertical-align: middle;\n",
       "    }\n",
       "\n",
       "    .dataframe tbody tr th {\n",
       "        vertical-align: top;\n",
       "    }\n",
       "\n",
       "    .dataframe thead th {\n",
       "        text-align: right;\n",
       "    }\n",
       "</style>\n",
       "<table border=\"1\" class=\"dataframe\">\n",
       "  <thead>\n",
       "    <tr style=\"text-align: right;\">\n",
       "      <th></th>\n",
       "      <th>SFO - Avg. Daily Miles Driven Per Hour</th>\n",
       "      <th>Marketing_Campaign</th>\n",
       "    </tr>\n",
       "  </thead>\n",
       "  <tbody>\n",
       "    <tr>\n",
       "      <th>count</th>\n",
       "      <td>103.000000</td>\n",
       "      <td>103.000000</td>\n",
       "    </tr>\n",
       "    <tr>\n",
       "      <th>mean</th>\n",
       "      <td>61.333422</td>\n",
       "      <td>0.281553</td>\n",
       "    </tr>\n",
       "    <tr>\n",
       "      <th>std</th>\n",
       "      <td>33.381028</td>\n",
       "      <td>0.451956</td>\n",
       "    </tr>\n",
       "    <tr>\n",
       "      <th>min</th>\n",
       "      <td>2.216110</td>\n",
       "      <td>0.000000</td>\n",
       "    </tr>\n",
       "    <tr>\n",
       "      <th>25%</th>\n",
       "      <td>40.245369</td>\n",
       "      <td>0.000000</td>\n",
       "    </tr>\n",
       "    <tr>\n",
       "      <th>50%</th>\n",
       "      <td>66.652899</td>\n",
       "      <td>0.000000</td>\n",
       "    </tr>\n",
       "    <tr>\n",
       "      <th>75%</th>\n",
       "      <td>86.002087</td>\n",
       "      <td>1.000000</td>\n",
       "    </tr>\n",
       "    <tr>\n",
       "      <th>max</th>\n",
       "      <td>125.595790</td>\n",
       "      <td>1.000000</td>\n",
       "    </tr>\n",
       "  </tbody>\n",
       "</table>\n",
       "</div>"
      ],
      "text/plain": [
       "       SFO - Avg. Daily Miles Driven Per Hour  Marketing_Campaign\n",
       "count                              103.000000          103.000000\n",
       "mean                                61.333422            0.281553\n",
       "std                                 33.381028            0.451956\n",
       "min                                  2.216110            0.000000\n",
       "25%                                 40.245369            0.000000\n",
       "50%                                 66.652899            0.000000\n",
       "75%                                 86.002087            1.000000\n",
       "max                                125.595790            1.000000"
      ]
     },
     "execution_count": 9,
     "metadata": {},
     "output_type": "execute_result"
    }
   ],
   "source": [
    "df_sfo.describe()"
   ]
  },
  {
   "cell_type": "code",
   "execution_count": 10,
   "metadata": {
    "colab": {
     "base_uri": "https://localhost:8080/",
     "height": 296
    },
    "colab_type": "code",
    "id": "68yQwBg93N-q",
    "outputId": "b888455c-862f-45fe-ce6e-019ccc145fe3"
   },
   "outputs": [
    {
     "data": {
      "text/plain": [
       "<matplotlib.legend.Legend at 0x7f8918f53ad0>"
      ]
     },
     "execution_count": 10,
     "metadata": {},
     "output_type": "execute_result"
    },
    {
     "data": {
      "image/png": "[encoded data removed]",
      "text/plain": [
       "<Figure size 1080x432 with 1 Axes>"
      ]
     },
     "metadata": {},
     "output_type": "display_data"
    }
   ],
   "source": [
    "data_sfo_0 = df_sfo['SFO - Avg. Daily Miles Driven Per Hour'].loc[df_sfo['Marketing_Campaign']==0]\n",
    "data_sfo_1 = df_sfo['SFO - Avg. Daily Miles Driven Per Hour'].loc[df_sfo['Marketing_Campaign']==1]\n",
    "sns.distplot(data_sfo_0)\n",
    "sns.distplot(data_sfo_1)\n",
    "plt.legend(['no_marketing_campaign','has_marketing_campaign'])"
   ]
  },
  {
   "cell_type": "markdown",
   "metadata": {
    "colab_type": "text",
    "id": "KB94zXmzuojo"
   },
   "source": []
  },
  {
   "cell_type": "code",
   "execution_count": 13,
   "metadata": {
    "colab": {
     "base_uri": "https://localhost:8080/",
     "height": 51
    },
    "colab_type": "code",
    "id": "AJx3b-VXupaE",
    "outputId": "10f8fe3f-19b7-41a6-9d0b-c908a7745922"
   },
   "outputs": [
    {
     "name": "stdout",
     "output_type": "stream",
     "text": [
      "Statistics=60.124, p=0.000\n",
      "Different distributions (reject H0)\n"
     ]
    }
   ],
   "source": [
    "#compare samples\n",
    "stat, p = f_oneway(data_sfo_0, data_sfo_1)\n",
    "print('Statistics=%.3f, p=%.3f' % (stat, p))\n",
    "\n",
    "#interpret\n",
    "alpha = 0.05\n",
    "if p > alpha:\n",
    "\tprint('Same distributions (fail to reject H0)')\n",
    "else:\n",
    "\tprint('Different distributions (reject H0)')"
   ]
  },
  {
   "cell_type": "markdown",
   "metadata": {
    "colab_type": "text",
    "id": "OIupaAWnvxwp"
   },
   "source": [
    "# Explore LAX data"
   ]
  },
  {
   "cell_type": "code",
   "execution_count": 14,
   "metadata": {
    "colab": {},
    "colab_type": "code",
    "id": "iNYdynNAupjC"
   },
   "outputs": [],
   "source": [
    "data_path_lax=\"https://docs.google.com/spreadsheets/d/e/2PACX-1vTQxXrChkUMyoaIcn6F-YIPyvmM8KoUNazcBlSc9RNy3SKuTm525brYk7Wtka6kJHrMN0kgoyont08o/pub?gid=292995839&single=true&output=csv\""
   ]
  },
  {
   "cell_type": "code",
   "execution_count": 15,
   "metadata": {
    "colab": {},
    "colab_type": "code",
    "id": "f_GzXOfrupm_"
   },
   "outputs": [],
   "source": [
    "df_lax = pd.read_csv(data_path_lax)"
   ]
  },
  {
   "cell_type": "code",
   "execution_count": 16,
   "metadata": {
    "colab": {
     "base_uri": "https://localhost:8080/",
     "height": 187
    },
    "colab_type": "code",
    "id": "-VS0FiqiuphI",
    "outputId": "f0a91f7b-cd7d-478e-fa58-76f85d06a063"
   },
   "outputs": [
    {
     "name": "stdout",
     "output_type": "stream",
     "text": [
      "<class 'pandas.core.frame.DataFrame'>\n",
      "RangeIndex: 103 entries, 0 to 102\n",
      "Data columns (total 3 columns):\n",
      " #   Column                                  Non-Null Count  Dtype  \n",
      "---  ------                                  --------------  -----  \n",
      " 0   Date                                    103 non-null    object \n",
      " 1   LAX - Avg. Daily Miles Driven Per Hour  103 non-null    float64\n",
      " 2   Marketing_Campaign                      103 non-null    int64  \n",
      "dtypes: float64(1), int64(1), object(1)\n",
      "memory usage: 2.5+ KB\n"
     ]
    }
   ],
   "source": [
    "df_lax.info()"
   ]
  },
  {
   "cell_type": "code",
   "execution_count": 17,
   "metadata": {
    "colab": {
     "base_uri": "https://localhost:8080/",
     "height": 80
    },
    "colab_type": "code",
    "id": "Qf9JzQvbupea",
    "outputId": "52793ea2-46c2-40c9-9af5-e06a2cfaa6ff"
   },
   "outputs": [
    {
     "data": {
      "text/html": [
       "<div>\n",
       "<style scoped>\n",
       "    .dataframe tbody tr th:only-of-type {\n",
       "        vertical-align: middle;\n",
       "    }\n",
       "\n",
       "    .dataframe tbody tr th {\n",
       "        vertical-align: top;\n",
       "    }\n",
       "\n",
       "    .dataframe thead th {\n",
       "        text-align: right;\n",
       "    }\n",
       "</style>\n",
       "<table border=\"1\" class=\"dataframe\">\n",
       "  <thead>\n",
       "    <tr style=\"text-align: right;\">\n",
       "      <th></th>\n",
       "      <th>Date</th>\n",
       "      <th>LAX - Avg. Daily Miles Driven Per Hour</th>\n",
       "      <th>Marketing_Campaign</th>\n",
       "    </tr>\n",
       "  </thead>\n",
       "  <tbody>\n",
       "    <tr>\n",
       "      <th>0</th>\n",
       "      <td>09/14/2019</td>\n",
       "      <td>157.609447</td>\n",
       "      <td>0</td>\n",
       "    </tr>\n",
       "  </tbody>\n",
       "</table>\n",
       "</div>"
      ],
      "text/plain": [
       "         Date  LAX - Avg. Daily Miles Driven Per Hour  Marketing_Campaign\n",
       "0  09/14/2019                              157.609447                   0"
      ]
     },
     "execution_count": 17,
     "metadata": {},
     "output_type": "execute_result"
    }
   ],
   "source": [
    "df_lax.head(1)"
   ]
  },
  {
   "cell_type": "code",
   "execution_count": 18,
   "metadata": {
    "colab": {
     "base_uri": "https://localhost:8080/",
     "height": 419
    },
    "colab_type": "code",
    "id": "GQbZMoC-w04N",
    "outputId": "8ec729e5-d70d-4e48-e13b-0011e91d247f"
   },
   "outputs": [
    {
     "data": {
      "text/html": [
       "<div>\n",
       "<style scoped>\n",
       "    .dataframe tbody tr th:only-of-type {\n",
       "        vertical-align: middle;\n",
       "    }\n",
       "\n",
       "    .dataframe tbody tr th {\n",
       "        vertical-align: top;\n",
       "    }\n",
       "\n",
       "    .dataframe thead th {\n",
       "        text-align: right;\n",
       "    }\n",
       "</style>\n",
       "<table border=\"1\" class=\"dataframe\">\n",
       "  <thead>\n",
       "    <tr style=\"text-align: right;\">\n",
       "      <th></th>\n",
       "      <th>Date</th>\n",
       "      <th>LAX - Avg. Daily Miles Driven Per Hour</th>\n",
       "      <th>Marketing_Campaign</th>\n",
       "    </tr>\n",
       "  </thead>\n",
       "  <tbody>\n",
       "    <tr>\n",
       "      <th>47</th>\n",
       "      <td>10/31/2019</td>\n",
       "      <td>-77.840796</td>\n",
       "      <td>0</td>\n",
       "    </tr>\n",
       "    <tr>\n",
       "      <th>33</th>\n",
       "      <td>10/17/2019</td>\n",
       "      <td>-32.957357</td>\n",
       "      <td>0</td>\n",
       "    </tr>\n",
       "    <tr>\n",
       "      <th>20</th>\n",
       "      <td>10/04/2019</td>\n",
       "      <td>-27.812046</td>\n",
       "      <td>0</td>\n",
       "    </tr>\n",
       "    <tr>\n",
       "      <th>10</th>\n",
       "      <td>09/24/2019</td>\n",
       "      <td>-8.705533</td>\n",
       "      <td>0</td>\n",
       "    </tr>\n",
       "    <tr>\n",
       "      <th>61</th>\n",
       "      <td>11/14/2019</td>\n",
       "      <td>-8.321683</td>\n",
       "      <td>0</td>\n",
       "    </tr>\n",
       "    <tr>\n",
       "      <th>...</th>\n",
       "      <td>...</td>\n",
       "      <td>...</td>\n",
       "      <td>...</td>\n",
       "    </tr>\n",
       "    <tr>\n",
       "      <th>11</th>\n",
       "      <td>09/25/2019</td>\n",
       "      <td>258.413559</td>\n",
       "      <td>0</td>\n",
       "    </tr>\n",
       "    <tr>\n",
       "      <th>95</th>\n",
       "      <td>12/18/2019</td>\n",
       "      <td>268.648616</td>\n",
       "      <td>1</td>\n",
       "    </tr>\n",
       "    <tr>\n",
       "      <th>99</th>\n",
       "      <td>12/22/2019</td>\n",
       "      <td>272.750441</td>\n",
       "      <td>1</td>\n",
       "    </tr>\n",
       "    <tr>\n",
       "      <th>96</th>\n",
       "      <td>12/19/2019</td>\n",
       "      <td>273.965000</td>\n",
       "      <td>1</td>\n",
       "    </tr>\n",
       "    <tr>\n",
       "      <th>94</th>\n",
       "      <td>12/17/2019</td>\n",
       "      <td>299.110556</td>\n",
       "      <td>1</td>\n",
       "    </tr>\n",
       "  </tbody>\n",
       "</table>\n",
       "<p>103 rows × 3 columns</p>\n",
       "</div>"
      ],
      "text/plain": [
       "          Date  LAX - Avg. Daily Miles Driven Per Hour  Marketing_Campaign\n",
       "47  10/31/2019                              -77.840796                   0\n",
       "33  10/17/2019                              -32.957357                   0\n",
       "20  10/04/2019                              -27.812046                   0\n",
       "10  09/24/2019                               -8.705533                   0\n",
       "61  11/14/2019                               -8.321683                   0\n",
       "..         ...                                     ...                 ...\n",
       "11  09/25/2019                              258.413559                   0\n",
       "95  12/18/2019                              268.648616                   1\n",
       "99  12/22/2019                              272.750441                   1\n",
       "96  12/19/2019                              273.965000                   1\n",
       "94  12/17/2019                              299.110556                   1\n",
       "\n",
       "[103 rows x 3 columns]"
      ]
     },
     "execution_count": 18,
     "metadata": {},
     "output_type": "execute_result"
    }
   ],
   "source": [
    "df_lax.sort_values('LAX - Avg. Daily Miles Driven Per Hour')"
   ]
  },
  {
   "cell_type": "code",
   "execution_count": 19,
   "metadata": {
    "colab": {},
    "colab_type": "code",
    "id": "0onPj_71waD2"
   },
   "outputs": [],
   "source": [
    "#Trim outliers:\n",
    "df_lax_cleaned = df_lax.loc[(df_lax['LAX - Avg. Daily Miles Driven Per Hour'] >= 0)]"
   ]
  },
  {
   "cell_type": "code",
   "execution_count": 20,
   "metadata": {
    "colab": {
     "base_uri": "https://localhost:8080/",
     "height": 296
    },
    "colab_type": "code",
    "id": "UVtbcxf4waTF",
    "outputId": "a7dd50d0-a1b5-482c-dd50-3c02dbdfaf83"
   },
   "outputs": [
    {
     "data": {
      "text/plain": [
       "<matplotlib.axes._subplots.AxesSubplot at 0x7f8919535a50>"
      ]
     },
     "execution_count": 20,
     "metadata": {},
     "output_type": "execute_result"
    },
    {
     "data": {
      "image/png": "[encoded data removed]",
      "text/plain": [
       "<Figure size 1080x432 with 1 Axes>"
      ]
     },
     "metadata": {},
     "output_type": "display_data"
    }
   ],
   "source": [
    "sns.distplot(df_lax_cleaned['LAX - Avg. Daily Miles Driven Per Hour'])"
   ]
  },
  {
   "cell_type": "code",
   "execution_count": 21,
   "metadata": {
    "colab": {
     "base_uri": "https://localhost:8080/",
     "height": 296
    },
    "colab_type": "code",
    "id": "a6_WFjJfwZ9G",
    "outputId": "fcb0b626-4615-4e84-b875-c9ad09c19e5a"
   },
   "outputs": [
    {
     "data": {
      "text/plain": [
       "<matplotlib.legend.Legend at 0x7f8919513510>"
      ]
     },
     "execution_count": 21,
     "metadata": {},
     "output_type": "execute_result"
    },
    {
     "data": {
      "image/png": "[encoded data removed]",
      "text/plain": [
       "<Figure size 1080x432 with 1 Axes>"
      ]
     },
     "metadata": {},
     "output_type": "display_data"
    }
   ],
   "source": [
    "data_lax_0 = df_lax['LAX - Avg. Daily Miles Driven Per Hour'].loc[df_lax['Marketing_Campaign']==0]\n",
    "data_lax_1 = df_lax['LAX - Avg. Daily Miles Driven Per Hour'].loc[df_lax['Marketing_Campaign']==1]\n",
    "sns.distplot(data_lax_0)\n",
    "sns.distplot(data_lax_1)\n",
    "plt.legend(['no_marketing_campaign','has_marketing_campaign'])"
   ]
  },
  {
   "cell_type": "code",
   "execution_count": 22,
   "metadata": {
    "colab": {
     "base_uri": "https://localhost:8080/",
     "height": 51
    },
    "colab_type": "code",
    "id": "Jo2uUoXwF-7S",
    "outputId": "120c91dd-5d93-452c-9894-9208579c3c6c"
   },
   "outputs": [
    {
     "name": "stdout",
     "output_type": "stream",
     "text": [
      "Statistics=12.954, p=0.000\n",
      "Different distributions (reject H0)\n"
     ]
    }
   ],
   "source": [
    "#compare samples\n",
    "stat, p = f_oneway(data_lax_0, data_lax_1)\n",
    "print('Statistics=%.3f, p=%.3f' % (stat, p))\n",
    "\n",
    "#interpret\n",
    "alpha = 0.05\n",
    "if p > alpha:\n",
    "\tprint('Same distributions (fail to reject H0)')\n",
    "else:\n",
    "\tprint('Different distributions (reject H0)')"
   ]
  },
  {
   "cell_type": "markdown",
   "metadata": {
    "colab_type": "text",
    "id": "B96Ik4a1Ze4n"
   },
   "source": [
    "# Conclusion\n",
    "1. Market campaign did not raise the average miles driven per Uber driver in SFO.\n",
    "\n",
    "2. Market campaign raises the average miles driven per Uber driver in LAX.\n",
    "\n",
    "3. As the plot showed, the market campaign negatively influence the average miles in SFO. And the hypothesis testing reject H0. This contradictory conclusion can be interpreted as follow: \n",
    "We only take one variable(\"Marketing_Campaign\") into consideration to study Uber drivers' average driven mileage. But other factors cannot control by Uber drivers can influence the average driven mileage. For example, the weather and visitors flowrate. When the weather is bad, travelers prefer Uber than public transportation. In this case, Uber drivers' average driving miles will increase. Plus, during the high visitors flowrate period, for example, summer break, Uber drivers' average driving miles will increase. \n",
    "\n",
    "\n",
    "\n"
   ]
  },
  {
   "cell_type": "code",
   "execution_count": null,
   "metadata": {},
   "outputs": [],
   "source": []
  }
 ],
 "metadata": {
  "colab": {
   "collapsed_sections": [],
   "name": "ALY6015-Spring2020A-Na Qian-Lecture2 colab.ipynb",
   "provenance": []
  },
  "kernelspec": {
   "display_name": "Python 3",
   "language": "python",
   "name": "python3"
  },
  "language_info": {
   "codemirror_mode": {
    "name": "ipython",
    "version": 3
   },
   "file_extension": ".py",
   "mimetype": "text/x-python",
   "name": "python",
   "nbconvert_exporter": "python",
   "pygments_lexer": "ipython3",
   "version": "3.7.6"
  }
 },
 "nbformat": 4,
 "nbformat_minor": 1
}

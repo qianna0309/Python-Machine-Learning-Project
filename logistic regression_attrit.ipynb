{
 "cells": [
  {
   "cell_type": "markdown",
   "metadata": {
    "colab_type": "text",
    "id": "sLacPLTyVW7W"
   },
   "source": [
    "# Author: Na Qian\n",
    "# Purpose: Logistic Regression Predict Attritation\n"
   ]
  },
  {
   "cell_type": "markdown",
   "metadata": {
    "colab_type": "text",
    "id": "fkXtbXCbW68Q"
   },
   "source": [
    "# Import all libraries"
   ]
  },
  {
   "cell_type": "code",
   "execution_count": 1,
   "metadata": {
    "colab": {},
    "colab_type": "code",
    "id": "y2dgKLvac2dk"
   },
   "outputs": [],
   "source": [
    "import numpy as np\n",
    "import pandas as pd\n",
    "from matplotlib import pyplot as plt\n",
    "import seaborn as sns\n",
    "from sklearn.model_selection import train_test_split\n",
    "from sklearn.linear_model import LogisticRegression\n",
    "from sklearn.linear_model import LinearRegression\n",
    "sns.set_style('whitegrid')\n",
    "%matplotlib inline\n",
    "from sklearn.metrics import mean_squared_error, r2_score\n",
    "from sklearn.model_selection import cross_val_score\n",
    "from sklearn.linear_model import Ridge\n",
    "from sklearn.linear_model import Lasso\n",
    "from sklearn.model_selection import GridSearchCV\n",
    "from sklearn.metrics import classification_report\n",
    "from sklearn.metrics import confusion_matrix\n",
    "from pylab import rcParams\n",
    "import warnings\n"
   ]
  },
  {
   "cell_type": "markdown",
   "metadata": {
    "colab_type": "text",
    "id": "whY40PYwXQNy"
   },
   "source": [
    "# Acquire the data"
   ]
  },
  {
   "cell_type": "code",
   "execution_count": 2,
   "metadata": {
    "colab": {
     "base_uri": "https://localhost:8080/",
     "height": 162
    },
    "colab_type": "code",
    "id": "BiBUw5Uhc3Qt",
    "outputId": "2c47d238-ced8-42f9-812b-213ee1ad3b4d"
   },
   "outputs": [
    {
     "data": {
      "text/html": [
       "<div>\n",
       "<style scoped>\n",
       "    .dataframe tbody tr th:only-of-type {\n",
       "        vertical-align: middle;\n",
       "    }\n",
       "\n",
       "    .dataframe tbody tr th {\n",
       "        vertical-align: top;\n",
       "    }\n",
       "\n",
       "    .dataframe thead th {\n",
       "        text-align: right;\n",
       "    }\n",
       "</style>\n",
       "<table border=\"1\" class=\"dataframe\">\n",
       "  <thead>\n",
       "    <tr style=\"text-align: right;\">\n",
       "      <th></th>\n",
       "      <th>employee_satisfaction</th>\n",
       "      <th>last_performance_rating</th>\n",
       "      <th>workload</th>\n",
       "      <th>avg_montly_hours</th>\n",
       "      <th>tenure_years</th>\n",
       "      <th>ergo_issues</th>\n",
       "      <th>attrit</th>\n",
       "      <th>promo_in_last_5_years</th>\n",
       "      <th>dept</th>\n",
       "      <th>salary</th>\n",
       "    </tr>\n",
       "  </thead>\n",
       "  <tbody>\n",
       "    <tr>\n",
       "      <th>0</th>\n",
       "      <td>0.82</td>\n",
       "      <td>0.97</td>\n",
       "      <td>3</td>\n",
       "      <td>244</td>\n",
       "      <td>5</td>\n",
       "      <td>0</td>\n",
       "      <td>0</td>\n",
       "      <td>0</td>\n",
       "      <td>SALES</td>\n",
       "      <td>MEDIUM</td>\n",
       "    </tr>\n",
       "    <tr>\n",
       "      <th>1</th>\n",
       "      <td>0.75</td>\n",
       "      <td>0.81</td>\n",
       "      <td>2</td>\n",
       "      <td>247</td>\n",
       "      <td>4</td>\n",
       "      <td>0</td>\n",
       "      <td>0</td>\n",
       "      <td>0</td>\n",
       "      <td>HR</td>\n",
       "      <td>SMALL</td>\n",
       "    </tr>\n",
       "    <tr>\n",
       "      <th>2</th>\n",
       "      <td>0.54</td>\n",
       "      <td>0.81</td>\n",
       "      <td>4</td>\n",
       "      <td>257</td>\n",
       "      <td>2</td>\n",
       "      <td>0</td>\n",
       "      <td>0</td>\n",
       "      <td>0</td>\n",
       "      <td>ADMIN</td>\n",
       "      <td>SMALL</td>\n",
       "    </tr>\n",
       "  </tbody>\n",
       "</table>\n",
       "</div>"
      ],
      "text/plain": [
       "   employee_satisfaction  last_performance_rating  workload  avg_montly_hours  \\\n",
       "0                   0.82                     0.97         3               244   \n",
       "1                   0.75                     0.81         2               247   \n",
       "2                   0.54                     0.81         4               257   \n",
       "\n",
       "   tenure_years  ergo_issues  attrit  promo_in_last_5_years   dept  salary  \n",
       "0             5            0       0                      0  SALES  MEDIUM  \n",
       "1             4            0       0                      0     HR   SMALL  \n",
       "2             2            0       0                      0  ADMIN   SMALL  "
      ]
     },
     "execution_count": 2,
     "metadata": {},
     "output_type": "execute_result"
    }
   ],
   "source": [
    "attrition_df = pd.read_csv('https://docs.google.com/spreadsheets/d/e/2PACX-1vT3tRWud15OdI7F54MMrRX3kFDp7eUoGPhgHQyOyPBDv7opcWT_YBGAXo6yA7bFrici-r3HIW6eTTdh/pub?gid=1961589212&single=true&output=csv')\n",
    "attrition_df.head(3)"
   ]
  },
  {
   "cell_type": "code",
   "execution_count": 3,
   "metadata": {
    "colab": {
     "base_uri": "https://localhost:8080/",
     "height": 306
    },
    "colab_type": "code",
    "id": "m91gDMFXc3UG",
    "outputId": "79c14744-b00e-4723-999a-b7270b9e68c2"
   },
   "outputs": [
    {
     "name": "stdout",
     "output_type": "stream",
     "text": [
      "<class 'pandas.core.frame.DataFrame'>\n",
      "RangeIndex: 11249 entries, 0 to 11248\n",
      "Data columns (total 10 columns):\n",
      " #   Column                   Non-Null Count  Dtype  \n",
      "---  ------                   --------------  -----  \n",
      " 0   employee_satisfaction    11249 non-null  float64\n",
      " 1   last_performance_rating  11249 non-null  float64\n",
      " 2   workload                 11249 non-null  int64  \n",
      " 3   avg_montly_hours         11249 non-null  int64  \n",
      " 4   tenure_years             11249 non-null  int64  \n",
      " 5   ergo_issues              11249 non-null  int64  \n",
      " 6   attrit                   11249 non-null  int64  \n",
      " 7   promo_in_last_5_years    11249 non-null  int64  \n",
      " 8   dept                     11249 non-null  object \n",
      " 9   salary                   11249 non-null  object \n",
      "dtypes: float64(2), int64(6), object(2)\n",
      "memory usage: 879.0+ KB\n"
     ]
    }
   ],
   "source": [
    "attrition_df.info()"
   ]
  },
  {
   "cell_type": "markdown",
   "metadata": {
    "colab_type": "text",
    "id": "Gxx1BpUD44rs"
   },
   "source": [
    "# Describe categorical variables"
   ]
  },
  {
   "cell_type": "code",
   "execution_count": 4,
   "metadata": {
    "colab": {
     "base_uri": "https://localhost:8080/",
     "height": 204
    },
    "colab_type": "code",
    "id": "4IpPMEWfc3XN",
    "outputId": "596d6b2a-47b3-4a0f-b110-c6ae7c84d3a0"
   },
   "outputs": [
    {
     "data": {
      "text/plain": [
       "SALES    3098\n",
       "TECH     2067\n",
       "ADMIN    1674\n",
       "IS        911\n",
       "PM        682\n",
       "MKT       637\n",
       "FIN       579\n",
       "RTD       571\n",
       "HR        555\n",
       "EXEC      475\n",
       "Name: dept, dtype: int64"
      ]
     },
     "execution_count": 4,
     "metadata": {},
     "output_type": "execute_result"
    }
   ],
   "source": [
    "attrition_df.dept.value_counts()"
   ]
  },
  {
   "cell_type": "code",
   "execution_count": 5,
   "metadata": {
    "colab": {
     "base_uri": "https://localhost:8080/",
     "height": 85
    },
    "colab_type": "code",
    "id": "TE8-tTzDd-A_",
    "outputId": "268f7fe9-1dd0-414d-d114-86fb5ff1db2d"
   },
   "outputs": [
    {
     "data": {
      "text/plain": [
       "SMALL     5445\n",
       "MEDIUM    4845\n",
       "LARGE      959\n",
       "Name: salary, dtype: int64"
      ]
     },
     "execution_count": 5,
     "metadata": {},
     "output_type": "execute_result"
    }
   ],
   "source": [
    "attrition_df.salary.value_counts()"
   ]
  },
  {
   "cell_type": "code",
   "execution_count": 6,
   "metadata": {
    "colab": {
     "base_uri": "https://localhost:8080/",
     "height": 68
    },
    "colab_type": "code",
    "id": "GEITF6e4d-EK",
    "outputId": "bb81d30c-d504-4b8a-c889-560de4146ade"
   },
   "outputs": [
    {
     "data": {
      "text/plain": [
       "0    9618\n",
       "1    1631\n",
       "Name: ergo_issues, dtype: int64"
      ]
     },
     "execution_count": 6,
     "metadata": {},
     "output_type": "execute_result"
    }
   ],
   "source": [
    "attrition_df.ergo_issues.value_counts()"
   ]
  },
  {
   "cell_type": "code",
   "execution_count": 7,
   "metadata": {
    "colab": {
     "base_uri": "https://localhost:8080/",
     "height": 68
    },
    "colab_type": "code",
    "id": "8hudCMSsd-IK",
    "outputId": "d5124151-b9e3-49cf-ddd8-b0a1ae765d0c"
   },
   "outputs": [
    {
     "data": {
      "text/plain": [
       "0    8554\n",
       "1    2695\n",
       "Name: attrit, dtype: int64"
      ]
     },
     "execution_count": 7,
     "metadata": {},
     "output_type": "execute_result"
    }
   ],
   "source": [
    "attrition_df.attrit.value_counts()"
   ]
  },
  {
   "cell_type": "markdown",
   "metadata": {
    "colab_type": "text",
    "id": "u7cY0F9r5spx"
   },
   "source": [
    "# Describe numercial variables"
   ]
  },
  {
   "cell_type": "code",
   "execution_count": 8,
   "metadata": {
    "colab": {
     "base_uri": "https://localhost:8080/",
     "height": 317
    },
    "colab_type": "code",
    "id": "qbc0ji44hLu8",
    "outputId": "d17a0f9a-d076-40dc-e41c-0f1700f9f46e"
   },
   "outputs": [
    {
     "data": {
      "text/html": [
       "<div>\n",
       "<style scoped>\n",
       "    .dataframe tbody tr th:only-of-type {\n",
       "        vertical-align: middle;\n",
       "    }\n",
       "\n",
       "    .dataframe tbody tr th {\n",
       "        vertical-align: top;\n",
       "    }\n",
       "\n",
       "    .dataframe thead th {\n",
       "        text-align: right;\n",
       "    }\n",
       "</style>\n",
       "<table border=\"1\" class=\"dataframe\">\n",
       "  <thead>\n",
       "    <tr style=\"text-align: right;\">\n",
       "      <th></th>\n",
       "      <th>employee_satisfaction</th>\n",
       "      <th>last_performance_rating</th>\n",
       "      <th>workload</th>\n",
       "      <th>avg_montly_hours</th>\n",
       "      <th>tenure_years</th>\n",
       "      <th>ergo_issues</th>\n",
       "      <th>attrit</th>\n",
       "      <th>promo_in_last_5_years</th>\n",
       "    </tr>\n",
       "  </thead>\n",
       "  <tbody>\n",
       "    <tr>\n",
       "      <th>count</th>\n",
       "      <td>11249.000000</td>\n",
       "      <td>11249.000000</td>\n",
       "      <td>11249.000000</td>\n",
       "      <td>11249.000000</td>\n",
       "      <td>11249.000000</td>\n",
       "      <td>11249.000000</td>\n",
       "      <td>11249.000000</td>\n",
       "      <td>11249.000000</td>\n",
       "    </tr>\n",
       "    <tr>\n",
       "      <th>mean</th>\n",
       "      <td>0.612957</td>\n",
       "      <td>0.716225</td>\n",
       "      <td>3.799716</td>\n",
       "      <td>201.176727</td>\n",
       "      <td>3.499600</td>\n",
       "      <td>0.144991</td>\n",
       "      <td>0.239577</td>\n",
       "      <td>0.021869</td>\n",
       "    </tr>\n",
       "    <tr>\n",
       "      <th>std</th>\n",
       "      <td>0.248235</td>\n",
       "      <td>0.171378</td>\n",
       "      <td>1.232190</td>\n",
       "      <td>50.058105</td>\n",
       "      <td>1.469892</td>\n",
       "      <td>0.352107</td>\n",
       "      <td>0.426844</td>\n",
       "      <td>0.146261</td>\n",
       "    </tr>\n",
       "    <tr>\n",
       "      <th>min</th>\n",
       "      <td>0.090000</td>\n",
       "      <td>0.360000</td>\n",
       "      <td>2.000000</td>\n",
       "      <td>96.000000</td>\n",
       "      <td>2.000000</td>\n",
       "      <td>0.000000</td>\n",
       "      <td>0.000000</td>\n",
       "      <td>0.000000</td>\n",
       "    </tr>\n",
       "    <tr>\n",
       "      <th>25%</th>\n",
       "      <td>0.440000</td>\n",
       "      <td>0.560000</td>\n",
       "      <td>3.000000</td>\n",
       "      <td>156.000000</td>\n",
       "      <td>3.000000</td>\n",
       "      <td>0.000000</td>\n",
       "      <td>0.000000</td>\n",
       "      <td>0.000000</td>\n",
       "    </tr>\n",
       "    <tr>\n",
       "      <th>50%</th>\n",
       "      <td>0.640000</td>\n",
       "      <td>0.720000</td>\n",
       "      <td>4.000000</td>\n",
       "      <td>201.000000</td>\n",
       "      <td>3.000000</td>\n",
       "      <td>0.000000</td>\n",
       "      <td>0.000000</td>\n",
       "      <td>0.000000</td>\n",
       "    </tr>\n",
       "    <tr>\n",
       "      <th>75%</th>\n",
       "      <td>0.820000</td>\n",
       "      <td>0.870000</td>\n",
       "      <td>5.000000</td>\n",
       "      <td>245.000000</td>\n",
       "      <td>4.000000</td>\n",
       "      <td>0.000000</td>\n",
       "      <td>0.000000</td>\n",
       "      <td>0.000000</td>\n",
       "    </tr>\n",
       "    <tr>\n",
       "      <th>max</th>\n",
       "      <td>1.000000</td>\n",
       "      <td>1.000000</td>\n",
       "      <td>7.000000</td>\n",
       "      <td>310.000000</td>\n",
       "      <td>10.000000</td>\n",
       "      <td>1.000000</td>\n",
       "      <td>1.000000</td>\n",
       "      <td>1.000000</td>\n",
       "    </tr>\n",
       "  </tbody>\n",
       "</table>\n",
       "</div>"
      ],
      "text/plain": [
       "       employee_satisfaction  last_performance_rating      workload  \\\n",
       "count           11249.000000             11249.000000  11249.000000   \n",
       "mean                0.612957                 0.716225      3.799716   \n",
       "std                 0.248235                 0.171378      1.232190   \n",
       "min                 0.090000                 0.360000      2.000000   \n",
       "25%                 0.440000                 0.560000      3.000000   \n",
       "50%                 0.640000                 0.720000      4.000000   \n",
       "75%                 0.820000                 0.870000      5.000000   \n",
       "max                 1.000000                 1.000000      7.000000   \n",
       "\n",
       "       avg_montly_hours  tenure_years   ergo_issues        attrit  \\\n",
       "count      11249.000000  11249.000000  11249.000000  11249.000000   \n",
       "mean         201.176727      3.499600      0.144991      0.239577   \n",
       "std           50.058105      1.469892      0.352107      0.426844   \n",
       "min           96.000000      2.000000      0.000000      0.000000   \n",
       "25%          156.000000      3.000000      0.000000      0.000000   \n",
       "50%          201.000000      3.000000      0.000000      0.000000   \n",
       "75%          245.000000      4.000000      0.000000      0.000000   \n",
       "max          310.000000     10.000000      1.000000      1.000000   \n",
       "\n",
       "       promo_in_last_5_years  \n",
       "count           11249.000000  \n",
       "mean                0.021869  \n",
       "std                 0.146261  \n",
       "min                 0.000000  \n",
       "25%                 0.000000  \n",
       "50%                 0.000000  \n",
       "75%                 0.000000  \n",
       "max                 1.000000  "
      ]
     },
     "execution_count": 8,
     "metadata": {},
     "output_type": "execute_result"
    }
   ],
   "source": [
    "attrition_df.describe()"
   ]
  },
  {
   "cell_type": "markdown",
   "metadata": {
    "colab_type": "text",
    "id": "mEP95Gjx5_Im"
   },
   "source": [
    "# Graph plot"
   ]
  },
  {
   "cell_type": "code",
   "execution_count": 408,
   "metadata": {
    "colab": {
     "base_uri": "https://localhost:8080/",
     "height": 441
    },
    "colab_type": "code",
    "id": "Yj0aOtIz8Agm",
    "outputId": "a1e8d157-0a83-4909-97b0-0376c7545146"
   },
   "outputs": [
    {
     "data": {
      "image/png": "[encoded data removed]",
      "text/plain": [
       "<Figure size 864x432 with 6 Axes>"
      ]
     },
     "metadata": {
      "needs_background": "light",
      "tags": []
     },
     "output_type": "display_data"
    }
   ],
   "source": [
    "#use plot to visulize the factors that effect on attrit\n",
    "rcParams['figure.figsize'] = (12,6)\n",
    "plt.subplot(2,3,1)\n",
    "sns.countplot(x='attrit',data=attrition_df)\n",
    "plt.title('attrit count')\n",
    "plt.subplot(2,3,2)\n",
    "sns.countplot(x='attrit',hue = 'workload', data=attrition_df)\n",
    "plt.title('attrit count(hue:workload)')\n",
    "plt.legend(loc='best',prop={'size': 8})\n",
    "plt.subplot(2,3,3)\n",
    "sns.countplot(attrition_df['attrit'],hue=attrition_df['dept'])\n",
    "plt.title('attrit count(hue:department)')\n",
    "plt.legend(loc='best',prop={'size': 8})\n",
    "plt.subplot(2,3,4)\n",
    "sns.countplot(x='attrit',hue = 'promo_in_last_5_years', data=attrition_df)\n",
    "plt.title('attrit count(hue:promotion in 5 years)')\n",
    "plt.subplot(2,3,5)\n",
    "sns.countplot(x='attrit',hue = 'ergo_issues', data=attrition_df)\n",
    "plt.title('attrit count(hue:ergo issues)')\n",
    "plt.subplot(2,3,6)\n",
    "sns.countplot(x='attrit',hue = 'salary', data=attrition_df)\n",
    "plt.title('attrit count(hue:salary)')\n",
    "plt.tight_layout()"
   ]
  },
  {
   "cell_type": "markdown",
   "metadata": {
    "colab_type": "text",
    "id": "ISSPdr6_s4KB"
   },
   "source": [
    "Some information can be interpreted from above graphs:\n",
    "1. lowest workload(1)and highest workload(7) cause attrition obviously.\n",
    "2. Employees who did not get promotion in last five years tend to quit their current job.\n",
    "3. Employees whose salary was low tend to quit their current job.\n",
    "4. Different departments did not have significant influence on attrition. In this case, I will drop this column when performing Logistic Regression."
   ]
  },
  {
   "cell_type": "code",
   "execution_count": 409,
   "metadata": {
    "colab": {
     "base_uri": "https://localhost:8080/",
     "height": 441
    },
    "colab_type": "code",
    "id": "JDfj5_d7F-Ti",
    "outputId": "80f8df6c-887c-4c58-fe8a-d9174e16d718"
   },
   "outputs": [
    {
     "data": {
      "image/png": "[encoded data removed]",
      "text/plain": [
       "<Figure size 864x432 with 5 Axes>"
      ]
     },
     "metadata": {
      "needs_background": "light",
      "tags": []
     },
     "output_type": "display_data"
    }
   ],
   "source": [
    "#use boxplot to visulize the factors that effect on attrit\n",
    "plt.subplot(2,3,1)\n",
    "sns.boxplot(x='attrit',y='tenure_years',data=attrition_df)\n",
    "plt.title('attrit vs tenure years')\n",
    "plt.subplot(2,3,2)\n",
    "sns.boxplot(x='attrit',y='avg_montly_hours',data=attrition_df)\n",
    "plt.title('attrit vs average working hours per month')\n",
    "plt.subplot(2,3,3)\n",
    "sns.boxplot(x='attrit',y='workload',data=attrition_df)\n",
    "plt.title('attrit vs workload')\n",
    "plt.subplot(2,3,4)\n",
    "sns.boxplot(x='attrit',y='last_performance_rating',data=attrition_df)\n",
    "plt.title('attrit vs last performance rating')\n",
    "plt.subplot(2,3,5)\n",
    "sns.boxplot(x='attrit',y='employee_satisfaction',data=attrition_df)\n",
    "plt.title('attrit vs employee satisfaction rate')\n",
    "\n",
    "plt.tight_layout()"
   ]
  },
  {
   "cell_type": "markdown",
   "metadata": {
    "colab_type": "text",
    "id": "tnW1_TCnvyOe"
   },
   "source": [
    "Some information can be interpreted from above graphs:\n",
    "\n",
    "1.Employees who work for the company for longer years tend to quit their current job.\n",
    "\n",
    "2.Employees who have low satisfaction rate tend to quit their current job.\n",
    "\n",
    "3.Employees whose last performance rating was very low or very high tend to quit thier current job.\n",
    "\n",
    "4.The extremely low or extremely high average working hours causes the rise of attrition."
   ]
  },
  {
   "cell_type": "markdown",
   "metadata": {
    "colab_type": "text",
    "id": "kIWgKwcM6O3F"
   },
   "source": [
    "# Logistic Regression"
   ]
  },
  {
   "cell_type": "code",
   "execution_count": 9,
   "metadata": {
    "colab": {},
    "colab_type": "code",
    "id": "dWobFywAsSQ1"
   },
   "outputs": [],
   "source": [
    "#convert 'salary' to dummy\n",
    "sal = pd.get_dummies(attrition_df['salary'],drop_first=True)"
   ]
  },
  {
   "cell_type": "code",
   "execution_count": 10,
   "metadata": {
    "colab": {},
    "colab_type": "code",
    "id": "k9H_tLxAhMDI"
   },
   "outputs": [],
   "source": [
    "attrition_df = pd.concat([attrition_df,sal],axis=1)"
   ]
  },
  {
   "cell_type": "code",
   "execution_count": 11,
   "metadata": {
    "colab": {},
    "colab_type": "code",
    "id": "nBSzTEOxmo4P"
   },
   "outputs": [],
   "source": [
    "#drop unnessary columns\n",
    "attrition_df.drop(['salary','dept'],axis=1,inplace=True)"
   ]
  },
  {
   "cell_type": "code",
   "execution_count": 12,
   "metadata": {
    "colab": {},
    "colab_type": "code",
    "id": "AXGBViyulHdb"
   },
   "outputs": [],
   "source": [
    "X=attrition_df.drop(['attrit'],axis=1)\n",
    "y=attrition_df['attrit']"
   ]
  },
  {
   "cell_type": "code",
   "execution_count": 13,
   "metadata": {
    "colab": {},
    "colab_type": "code",
    "id": "PBjHalGPhL2o"
   },
   "outputs": [],
   "source": [
    "X_train, X_test, y_train, y_test = train_test_split(X,y,random_state=101)"
   ]
  },
  {
   "cell_type": "code",
   "execution_count": 14,
   "metadata": {
    "colab": {},
    "colab_type": "code",
    "id": "L7ztyulvhL8r"
   },
   "outputs": [],
   "source": [
    "logmodel=LogisticRegression(max_iter=200)"
   ]
  },
  {
   "cell_type": "code",
   "execution_count": 16,
   "metadata": {
    "colab": {
     "base_uri": "https://localhost:8080/",
     "height": 102
    },
    "colab_type": "code",
    "id": "XuqwnwGplIf-",
    "outputId": "6cdf1e46-c6eb-4ac6-8a4d-a0c7e8f9afee"
   },
   "outputs": [
    {
     "name": "stderr",
     "output_type": "stream",
     "text": [
      "/opt/anaconda3/lib/python3.7/site-packages/sklearn/linear_model/_logistic.py:940: ConvergenceWarning: lbfgs failed to converge (status=1):\n",
      "STOP: TOTAL NO. of ITERATIONS REACHED LIMIT.\n",
      "\n",
      "Increase the number of iterations (max_iter) or scale the data as shown in:\n",
      "    https://scikit-learn.org/stable/modules/preprocessing.html\n",
      "Please also refer to the documentation for alternative solver options:\n",
      "    https://scikit-learn.org/stable/modules/linear_model.html#logistic-regression\n",
      "  extra_warning_msg=_LOGISTIC_SOLVER_CONVERGENCE_MSG)\n"
     ]
    },
    {
     "data": {
      "text/plain": [
       "LogisticRegression(C=1.0, class_weight=None, dual=False, fit_intercept=True,\n",
       "                   intercept_scaling=1, l1_ratio=None, max_iter=200,\n",
       "                   multi_class='auto', n_jobs=None, penalty='l2',\n",
       "                   random_state=None, solver='lbfgs', tol=0.0001, verbose=0,\n",
       "                   warm_start=False)"
      ]
     },
     "execution_count": 16,
     "metadata": {},
     "output_type": "execute_result"
    }
   ],
   "source": [
    "logmodel.fit(X_train,y_train)"
   ]
  },
  {
   "cell_type": "code",
   "execution_count": 17,
   "metadata": {
    "colab": {
     "base_uri": "https://localhost:8080/",
     "height": 34
    },
    "colab_type": "code",
    "id": "3UM_G5dR8kJr",
    "outputId": "a30b9bfb-8371-4f63-ade0-7baa6dd74475"
   },
   "outputs": [
    {
     "data": {
      "text/plain": [
       "0.7987913259864913"
      ]
     },
     "execution_count": 17,
     "metadata": {},
     "output_type": "execute_result"
    }
   ],
   "source": [
    "logmodel.score(X_test, y_test)"
   ]
  },
  {
   "cell_type": "code",
   "execution_count": 18,
   "metadata": {
    "colab": {},
    "colab_type": "code",
    "id": "wx045WHlt0Yu"
   },
   "outputs": [],
   "source": [
    "#use logistic regression make prediction\n",
    "predictions=logmodel.predict(X_test)"
   ]
  },
  {
   "cell_type": "code",
   "execution_count": 27,
   "metadata": {},
   "outputs": [
    {
     "data": {
      "text/html": [
       "<div>\n",
       "<style scoped>\n",
       "    .dataframe tbody tr th:only-of-type {\n",
       "        vertical-align: middle;\n",
       "    }\n",
       "\n",
       "    .dataframe tbody tr th {\n",
       "        vertical-align: top;\n",
       "    }\n",
       "\n",
       "    .dataframe thead th {\n",
       "        text-align: right;\n",
       "    }\n",
       "</style>\n",
       "<table border=\"1\" class=\"dataframe\">\n",
       "  <thead>\n",
       "    <tr style=\"text-align: right;\">\n",
       "      <th></th>\n",
       "      <th>employee_satisfaction</th>\n",
       "      <th>last_performance_rating</th>\n",
       "      <th>workload</th>\n",
       "      <th>avg_montly_hours</th>\n",
       "      <th>tenure_years</th>\n",
       "      <th>ergo_issues</th>\n",
       "      <th>promo_in_last_5_years</th>\n",
       "      <th>MEDIUM</th>\n",
       "      <th>SMALL</th>\n",
       "      <th>attrit</th>\n",
       "      <th>Prediction</th>\n",
       "      <th>0</th>\n",
       "      <th>1</th>\n",
       "    </tr>\n",
       "  </thead>\n",
       "  <tbody>\n",
       "    <tr>\n",
       "      <th>5559</th>\n",
       "      <td>0.44</td>\n",
       "      <td>0.55</td>\n",
       "      <td>2</td>\n",
       "      <td>156</td>\n",
       "      <td>3</td>\n",
       "      <td>0</td>\n",
       "      <td>0</td>\n",
       "      <td>1</td>\n",
       "      <td>0</td>\n",
       "      <td>1</td>\n",
       "      <td>0</td>\n",
       "      <td>0.641324</td>\n",
       "      <td>0.358676</td>\n",
       "    </tr>\n",
       "    <tr>\n",
       "      <th>10877</th>\n",
       "      <td>0.56</td>\n",
       "      <td>0.66</td>\n",
       "      <td>3</td>\n",
       "      <td>139</td>\n",
       "      <td>2</td>\n",
       "      <td>0</td>\n",
       "      <td>0</td>\n",
       "      <td>0</td>\n",
       "      <td>1</td>\n",
       "      <td>0</td>\n",
       "      <td>0</td>\n",
       "      <td>0.752520</td>\n",
       "      <td>0.247480</td>\n",
       "    </tr>\n",
       "    <tr>\n",
       "      <th>9344</th>\n",
       "      <td>0.11</td>\n",
       "      <td>0.92</td>\n",
       "      <td>6</td>\n",
       "      <td>305</td>\n",
       "      <td>4</td>\n",
       "      <td>0</td>\n",
       "      <td>0</td>\n",
       "      <td>0</td>\n",
       "      <td>1</td>\n",
       "      <td>1</td>\n",
       "      <td>1</td>\n",
       "      <td>0.247163</td>\n",
       "      <td>0.752837</td>\n",
       "    </tr>\n",
       "    <tr>\n",
       "      <th>3902</th>\n",
       "      <td>0.85</td>\n",
       "      <td>0.59</td>\n",
       "      <td>2</td>\n",
       "      <td>264</td>\n",
       "      <td>2</td>\n",
       "      <td>0</td>\n",
       "      <td>0</td>\n",
       "      <td>0</td>\n",
       "      <td>1</td>\n",
       "      <td>0</td>\n",
       "      <td>0</td>\n",
       "      <td>0.835304</td>\n",
       "      <td>0.164696</td>\n",
       "    </tr>\n",
       "    <tr>\n",
       "      <th>5886</th>\n",
       "      <td>0.85</td>\n",
       "      <td>0.89</td>\n",
       "      <td>4</td>\n",
       "      <td>177</td>\n",
       "      <td>3</td>\n",
       "      <td>0</td>\n",
       "      <td>0</td>\n",
       "      <td>1</td>\n",
       "      <td>0</td>\n",
       "      <td>0</td>\n",
       "      <td>0</td>\n",
       "      <td>0.928650</td>\n",
       "      <td>0.071350</td>\n",
       "    </tr>\n",
       "    <tr>\n",
       "      <th>...</th>\n",
       "      <td>...</td>\n",
       "      <td>...</td>\n",
       "      <td>...</td>\n",
       "      <td>...</td>\n",
       "      <td>...</td>\n",
       "      <td>...</td>\n",
       "      <td>...</td>\n",
       "      <td>...</td>\n",
       "      <td>...</td>\n",
       "      <td>...</td>\n",
       "      <td>...</td>\n",
       "      <td>...</td>\n",
       "      <td>...</td>\n",
       "    </tr>\n",
       "    <tr>\n",
       "      <th>3424</th>\n",
       "      <td>0.19</td>\n",
       "      <td>0.80</td>\n",
       "      <td>6</td>\n",
       "      <td>157</td>\n",
       "      <td>6</td>\n",
       "      <td>1</td>\n",
       "      <td>0</td>\n",
       "      <td>0</td>\n",
       "      <td>1</td>\n",
       "      <td>0</td>\n",
       "      <td>0</td>\n",
       "      <td>0.684986</td>\n",
       "      <td>0.315014</td>\n",
       "    </tr>\n",
       "    <tr>\n",
       "      <th>3501</th>\n",
       "      <td>0.82</td>\n",
       "      <td>0.89</td>\n",
       "      <td>4</td>\n",
       "      <td>239</td>\n",
       "      <td>2</td>\n",
       "      <td>0</td>\n",
       "      <td>0</td>\n",
       "      <td>1</td>\n",
       "      <td>0</td>\n",
       "      <td>0</td>\n",
       "      <td>0</td>\n",
       "      <td>0.921461</td>\n",
       "      <td>0.078539</td>\n",
       "    </tr>\n",
       "    <tr>\n",
       "      <th>1489</th>\n",
       "      <td>0.94</td>\n",
       "      <td>0.70</td>\n",
       "      <td>3</td>\n",
       "      <td>176</td>\n",
       "      <td>3</td>\n",
       "      <td>0</td>\n",
       "      <td>0</td>\n",
       "      <td>0</td>\n",
       "      <td>1</td>\n",
       "      <td>0</td>\n",
       "      <td>0</td>\n",
       "      <td>0.907907</td>\n",
       "      <td>0.092093</td>\n",
       "    </tr>\n",
       "    <tr>\n",
       "      <th>6364</th>\n",
       "      <td>0.82</td>\n",
       "      <td>0.56</td>\n",
       "      <td>2</td>\n",
       "      <td>227</td>\n",
       "      <td>5</td>\n",
       "      <td>1</td>\n",
       "      <td>0</td>\n",
       "      <td>0</td>\n",
       "      <td>0</td>\n",
       "      <td>0</td>\n",
       "      <td>0</td>\n",
       "      <td>0.984190</td>\n",
       "      <td>0.015810</td>\n",
       "    </tr>\n",
       "    <tr>\n",
       "      <th>5889</th>\n",
       "      <td>0.63</td>\n",
       "      <td>0.93</td>\n",
       "      <td>4</td>\n",
       "      <td>233</td>\n",
       "      <td>3</td>\n",
       "      <td>0</td>\n",
       "      <td>0</td>\n",
       "      <td>1</td>\n",
       "      <td>0</td>\n",
       "      <td>0</td>\n",
       "      <td>0</td>\n",
       "      <td>0.806894</td>\n",
       "      <td>0.193106</td>\n",
       "    </tr>\n",
       "  </tbody>\n",
       "</table>\n",
       "<p>2813 rows × 13 columns</p>\n",
       "</div>"
      ],
      "text/plain": [
       "       employee_satisfaction  last_performance_rating  workload  \\\n",
       "5559                    0.44                     0.55         2   \n",
       "10877                   0.56                     0.66         3   \n",
       "9344                    0.11                     0.92         6   \n",
       "3902                    0.85                     0.59         2   \n",
       "5886                    0.85                     0.89         4   \n",
       "...                      ...                      ...       ...   \n",
       "3424                    0.19                     0.80         6   \n",
       "3501                    0.82                     0.89         4   \n",
       "1489                    0.94                     0.70         3   \n",
       "6364                    0.82                     0.56         2   \n",
       "5889                    0.63                     0.93         4   \n",
       "\n",
       "       avg_montly_hours  tenure_years  ergo_issues  promo_in_last_5_years  \\\n",
       "5559                156             3            0                      0   \n",
       "10877               139             2            0                      0   \n",
       "9344                305             4            0                      0   \n",
       "3902                264             2            0                      0   \n",
       "5886                177             3            0                      0   \n",
       "...                 ...           ...          ...                    ...   \n",
       "3424                157             6            1                      0   \n",
       "3501                239             2            0                      0   \n",
       "1489                176             3            0                      0   \n",
       "6364                227             5            1                      0   \n",
       "5889                233             3            0                      0   \n",
       "\n",
       "       MEDIUM  SMALL  attrit  Prediction         0         1  \n",
       "5559        1      0       1           0  0.641324  0.358676  \n",
       "10877       0      1       0           0  0.752520  0.247480  \n",
       "9344        0      1       1           1  0.247163  0.752837  \n",
       "3902        0      1       0           0  0.835304  0.164696  \n",
       "5886        1      0       0           0  0.928650  0.071350  \n",
       "...       ...    ...     ...         ...       ...       ...  \n",
       "3424        0      1       0           0  0.684986  0.315014  \n",
       "3501        1      0       0           0  0.921461  0.078539  \n",
       "1489        0      1       0           0  0.907907  0.092093  \n",
       "6364        0      0       0           0  0.984190  0.015810  \n",
       "5889        1      0       0           0  0.806894  0.193106  \n",
       "\n",
       "[2813 rows x 13 columns]"
      ]
     },
     "execution_count": 27,
     "metadata": {},
     "output_type": "execute_result"
    }
   ],
   "source": [
    "prediction_df = pd.DataFrame(logmodel.predict(X_test),X_test.index, columns = ['Prediction'])\n",
    "probability_df = pd.DataFrame(logmodel.predict_proba(X_test), X_test.index)\n",
    "all_together_df=pd.concat([X_test,y_test,prediction_df,probability_df],axis=1)\n",
    "all_together_df"
   ]
  },
  {
   "cell_type": "markdown",
   "metadata": {
    "colab_type": "text",
    "id": "PKBMdh_p7Rru"
   },
   "source": [
    "# Arbitrary values prediction"
   ]
  },
  {
   "cell_type": "code",
   "execution_count": 28,
   "metadata": {
    "colab": {},
    "colab_type": "code",
    "id": "g1Xjn2xuvcNV"
   },
   "outputs": [],
   "source": [
    "#make arbitrary variables\n",
    "arbitrary_values = pd.DataFrame(data = {'employee_satisfaction': [0.91,0.95,0.3,0.2,0.92],'last_performance_rating':[0.5,0.9,0.9,0.2,0.6],'workload':[3,5,4,3,4],'avg_montly_hours':[150,200,230,220,170],'tenure_years':[1,3,4,5,6],'ergo_issues':[1,1,0,0,1],'promo_in_last_5_years':[1,1,0,0,1],'MEDIUM':[0,0,0,0,1],'SMALL':[0,1,1,1,0]})"
   ]
  },
  {
   "cell_type": "code",
   "execution_count": 29,
   "metadata": {
    "colab": {
     "base_uri": "https://localhost:8080/",
     "height": 224
    },
    "colab_type": "code",
    "id": "d3lugwSYvc0N",
    "outputId": "c3f59685-3752-4861-a476-ce1277e2abc9"
   },
   "outputs": [
    {
     "data": {
      "text/html": [
       "<div>\n",
       "<style scoped>\n",
       "    .dataframe tbody tr th:only-of-type {\n",
       "        vertical-align: middle;\n",
       "    }\n",
       "\n",
       "    .dataframe tbody tr th {\n",
       "        vertical-align: top;\n",
       "    }\n",
       "\n",
       "    .dataframe thead th {\n",
       "        text-align: right;\n",
       "    }\n",
       "</style>\n",
       "<table border=\"1\" class=\"dataframe\">\n",
       "  <thead>\n",
       "    <tr style=\"text-align: right;\">\n",
       "      <th></th>\n",
       "      <th>employee_satisfaction</th>\n",
       "      <th>last_performance_rating</th>\n",
       "      <th>workload</th>\n",
       "      <th>avg_montly_hours</th>\n",
       "      <th>tenure_years</th>\n",
       "      <th>ergo_issues</th>\n",
       "      <th>promo_in_last_5_years</th>\n",
       "      <th>MEDIUM</th>\n",
       "      <th>SMALL</th>\n",
       "    </tr>\n",
       "  </thead>\n",
       "  <tbody>\n",
       "    <tr>\n",
       "      <th>0</th>\n",
       "      <td>0.91</td>\n",
       "      <td>0.5</td>\n",
       "      <td>3</td>\n",
       "      <td>150</td>\n",
       "      <td>1</td>\n",
       "      <td>1</td>\n",
       "      <td>1</td>\n",
       "      <td>0</td>\n",
       "      <td>0</td>\n",
       "    </tr>\n",
       "    <tr>\n",
       "      <th>1</th>\n",
       "      <td>0.95</td>\n",
       "      <td>0.9</td>\n",
       "      <td>5</td>\n",
       "      <td>200</td>\n",
       "      <td>3</td>\n",
       "      <td>1</td>\n",
       "      <td>1</td>\n",
       "      <td>0</td>\n",
       "      <td>1</td>\n",
       "    </tr>\n",
       "    <tr>\n",
       "      <th>2</th>\n",
       "      <td>0.30</td>\n",
       "      <td>0.9</td>\n",
       "      <td>4</td>\n",
       "      <td>230</td>\n",
       "      <td>4</td>\n",
       "      <td>0</td>\n",
       "      <td>0</td>\n",
       "      <td>0</td>\n",
       "      <td>1</td>\n",
       "    </tr>\n",
       "    <tr>\n",
       "      <th>3</th>\n",
       "      <td>0.20</td>\n",
       "      <td>0.2</td>\n",
       "      <td>3</td>\n",
       "      <td>220</td>\n",
       "      <td>5</td>\n",
       "      <td>0</td>\n",
       "      <td>0</td>\n",
       "      <td>0</td>\n",
       "      <td>1</td>\n",
       "    </tr>\n",
       "    <tr>\n",
       "      <th>4</th>\n",
       "      <td>0.92</td>\n",
       "      <td>0.6</td>\n",
       "      <td>4</td>\n",
       "      <td>170</td>\n",
       "      <td>6</td>\n",
       "      <td>1</td>\n",
       "      <td>1</td>\n",
       "      <td>1</td>\n",
       "      <td>0</td>\n",
       "    </tr>\n",
       "  </tbody>\n",
       "</table>\n",
       "</div>"
      ],
      "text/plain": [
       "   employee_satisfaction  last_performance_rating  workload  avg_montly_hours  \\\n",
       "0                   0.91                      0.5         3               150   \n",
       "1                   0.95                      0.9         5               200   \n",
       "2                   0.30                      0.9         4               230   \n",
       "3                   0.20                      0.2         3               220   \n",
       "4                   0.92                      0.6         4               170   \n",
       "\n",
       "   tenure_years  ergo_issues  promo_in_last_5_years  MEDIUM  SMALL  \n",
       "0             1            1                      1       0      0  \n",
       "1             3            1                      1       0      1  \n",
       "2             4            0                      0       0      1  \n",
       "3             5            0                      0       0      1  \n",
       "4             6            1                      1       1      0  "
      ]
     },
     "execution_count": 29,
     "metadata": {},
     "output_type": "execute_result"
    }
   ],
   "source": [
    "arbitrary_values"
   ]
  },
  {
   "cell_type": "code",
   "execution_count": 30,
   "metadata": {
    "colab": {
     "base_uri": "https://localhost:8080/",
     "height": 204
    },
    "colab_type": "code",
    "id": "ZyyH0jmPv9Zg",
    "outputId": "a9333b36-bef1-4a13-9465-74f5b4e00151"
   },
   "outputs": [
    {
     "data": {
      "text/html": [
       "<div>\n",
       "<style scoped>\n",
       "    .dataframe tbody tr th:only-of-type {\n",
       "        vertical-align: middle;\n",
       "    }\n",
       "\n",
       "    .dataframe tbody tr th {\n",
       "        vertical-align: top;\n",
       "    }\n",
       "\n",
       "    .dataframe thead th {\n",
       "        text-align: right;\n",
       "    }\n",
       "</style>\n",
       "<table border=\"1\" class=\"dataframe\">\n",
       "  <thead>\n",
       "    <tr style=\"text-align: right;\">\n",
       "      <th></th>\n",
       "      <th>predictions</th>\n",
       "    </tr>\n",
       "  </thead>\n",
       "  <tbody>\n",
       "    <tr>\n",
       "      <th>0</th>\n",
       "      <td>0</td>\n",
       "    </tr>\n",
       "    <tr>\n",
       "      <th>1</th>\n",
       "      <td>0</td>\n",
       "    </tr>\n",
       "    <tr>\n",
       "      <th>2</th>\n",
       "      <td>1</td>\n",
       "    </tr>\n",
       "    <tr>\n",
       "      <th>3</th>\n",
       "      <td>1</td>\n",
       "    </tr>\n",
       "    <tr>\n",
       "      <th>4</th>\n",
       "      <td>0</td>\n",
       "    </tr>\n",
       "  </tbody>\n",
       "</table>\n",
       "</div>"
      ],
      "text/plain": [
       "   predictions\n",
       "0            0\n",
       "1            0\n",
       "2            1\n",
       "3            1\n",
       "4            0"
      ]
     },
     "execution_count": 30,
     "metadata": {},
     "output_type": "execute_result"
    }
   ],
   "source": [
    "#make prediction\n",
    "pd.DataFrame(logmodel.predict(arbitrary_values),columns=['predictions'])"
   ]
  },
  {
   "cell_type": "code",
   "execution_count": 31,
   "metadata": {
    "colab": {
     "base_uri": "https://localhost:8080/",
     "height": 224
    },
    "colab_type": "code",
    "id": "5LMexwZqyz-J",
    "outputId": "553146e1-0383-40c6-d480-f9f0a28a79e3"
   },
   "outputs": [
    {
     "data": {
      "text/html": [
       "<div>\n",
       "<style scoped>\n",
       "    .dataframe tbody tr th:only-of-type {\n",
       "        vertical-align: middle;\n",
       "    }\n",
       "\n",
       "    .dataframe tbody tr th {\n",
       "        vertical-align: top;\n",
       "    }\n",
       "\n",
       "    .dataframe thead th {\n",
       "        text-align: right;\n",
       "    }\n",
       "</style>\n",
       "<table border=\"1\" class=\"dataframe\">\n",
       "  <thead>\n",
       "    <tr style=\"text-align: right;\">\n",
       "      <th></th>\n",
       "      <th>employee_satisfaction</th>\n",
       "      <th>last_performance_rating</th>\n",
       "      <th>workload</th>\n",
       "      <th>avg_montly_hours</th>\n",
       "      <th>tenure_years</th>\n",
       "      <th>ergo_issues</th>\n",
       "      <th>promo_in_last_5_years</th>\n",
       "      <th>MEDIUM</th>\n",
       "      <th>SMALL</th>\n",
       "      <th>0</th>\n",
       "      <th>1</th>\n",
       "      <th>prediction</th>\n",
       "    </tr>\n",
       "  </thead>\n",
       "  <tbody>\n",
       "    <tr>\n",
       "      <th>0</th>\n",
       "      <td>0.91</td>\n",
       "      <td>0.5</td>\n",
       "      <td>3</td>\n",
       "      <td>150</td>\n",
       "      <td>1</td>\n",
       "      <td>1</td>\n",
       "      <td>1</td>\n",
       "      <td>0</td>\n",
       "      <td>0</td>\n",
       "      <td>0.999293</td>\n",
       "      <td>0.000707</td>\n",
       "      <td>0</td>\n",
       "    </tr>\n",
       "    <tr>\n",
       "      <th>1</th>\n",
       "      <td>0.95</td>\n",
       "      <td>0.9</td>\n",
       "      <td>5</td>\n",
       "      <td>200</td>\n",
       "      <td>3</td>\n",
       "      <td>1</td>\n",
       "      <td>1</td>\n",
       "      <td>0</td>\n",
       "      <td>1</td>\n",
       "      <td>0.995121</td>\n",
       "      <td>0.004879</td>\n",
       "      <td>0</td>\n",
       "    </tr>\n",
       "    <tr>\n",
       "      <th>2</th>\n",
       "      <td>0.30</td>\n",
       "      <td>0.9</td>\n",
       "      <td>4</td>\n",
       "      <td>230</td>\n",
       "      <td>4</td>\n",
       "      <td>0</td>\n",
       "      <td>0</td>\n",
       "      <td>0</td>\n",
       "      <td>1</td>\n",
       "      <td>0.346709</td>\n",
       "      <td>0.653291</td>\n",
       "      <td>1</td>\n",
       "    </tr>\n",
       "    <tr>\n",
       "      <th>3</th>\n",
       "      <td>0.20</td>\n",
       "      <td>0.2</td>\n",
       "      <td>3</td>\n",
       "      <td>220</td>\n",
       "      <td>5</td>\n",
       "      <td>0</td>\n",
       "      <td>0</td>\n",
       "      <td>0</td>\n",
       "      <td>1</td>\n",
       "      <td>0.252948</td>\n",
       "      <td>0.747052</td>\n",
       "      <td>1</td>\n",
       "    </tr>\n",
       "    <tr>\n",
       "      <th>4</th>\n",
       "      <td>0.92</td>\n",
       "      <td>0.6</td>\n",
       "      <td>4</td>\n",
       "      <td>170</td>\n",
       "      <td>6</td>\n",
       "      <td>1</td>\n",
       "      <td>1</td>\n",
       "      <td>1</td>\n",
       "      <td>0</td>\n",
       "      <td>0.993114</td>\n",
       "      <td>0.006886</td>\n",
       "      <td>0</td>\n",
       "    </tr>\n",
       "  </tbody>\n",
       "</table>\n",
       "</div>"
      ],
      "text/plain": [
       "   employee_satisfaction  last_performance_rating  workload  avg_montly_hours  \\\n",
       "0                   0.91                      0.5         3               150   \n",
       "1                   0.95                      0.9         5               200   \n",
       "2                   0.30                      0.9         4               230   \n",
       "3                   0.20                      0.2         3               220   \n",
       "4                   0.92                      0.6         4               170   \n",
       "\n",
       "   tenure_years  ergo_issues  promo_in_last_5_years  MEDIUM  SMALL         0  \\\n",
       "0             1            1                      1       0      0  0.999293   \n",
       "1             3            1                      1       0      1  0.995121   \n",
       "2             4            0                      0       0      1  0.346709   \n",
       "3             5            0                      0       0      1  0.252948   \n",
       "4             6            1                      1       1      0  0.993114   \n",
       "\n",
       "          1  prediction  \n",
       "0  0.000707           0  \n",
       "1  0.004879           0  \n",
       "2  0.653291           1  \n",
       "3  0.747052           1  \n",
       "4  0.006886           0  "
      ]
     },
     "execution_count": 31,
     "metadata": {},
     "output_type": "execute_result"
    }
   ],
   "source": [
    "# make dataframe to show the predictions and probabilities\n",
    "arbitrary_values_pred=pd.DataFrame(logmodel.predict(arbitrary_values),columns=['prediction'])\n",
    "arbitrary_values_pred_prob=pd.DataFrame(logmodel.predict_proba(arbitrary_values))\n",
    "arbitrary_values_pred_alltogether = pd.concat([arbitrary_values,arbitrary_values_pred_prob,arbitrary_values_pred],axis=1)\n",
    "arbitrary_values_pred_alltogether"
   ]
  },
  {
   "cell_type": "markdown",
   "metadata": {
    "colab_type": "text",
    "id": "LkGFr3SH7sGA"
   },
   "source": [
    "# Logistic Regression model evaluate"
   ]
  },
  {
   "cell_type": "code",
   "execution_count": 32,
   "metadata": {
    "colab": {},
    "colab_type": "code",
    "id": "zD-NpiewufgM"
   },
   "outputs": [],
   "source": [
    "#make confusion matrix\n",
    "con_mat = confusion_matrix(y_test,predictions)"
   ]
  },
  {
   "cell_type": "code",
   "execution_count": 33,
   "metadata": {
    "colab": {
     "base_uri": "https://localhost:8080/",
     "height": 51
    },
    "colab_type": "code",
    "id": "28yNel6D7m4Y",
    "outputId": "e9f0930e-8e15-4236-85fa-aff999e30fc4"
   },
   "outputs": [
    {
     "data": {
      "text/plain": [
       "array([[1998,  147],\n",
       "       [ 419,  249]])"
      ]
     },
     "execution_count": 33,
     "metadata": {},
     "output_type": "execute_result"
    }
   ],
   "source": [
    "con_mat"
   ]
  },
  {
   "cell_type": "code",
   "execution_count": 34,
   "metadata": {
    "colab": {
     "base_uri": "https://localhost:8080/",
     "height": 362
    },
    "colab_type": "code",
    "id": "0_6mAXPkt0kp",
    "outputId": "2d83d782-87c4-4e8e-c575-30dd8a76484b"
   },
   "outputs": [
    {
     "data": {
      "text/plain": [
       "Text(0.5, 16.0, 'Predicted label')"
      ]
     },
     "execution_count": 34,
     "metadata": {},
     "output_type": "execute_result"
    },
    {
     "data": {
      "image/png": "[encoded data removed]",
      "text/plain": [
       "<Figure size 576x288 with 2 Axes>"
      ]
     },
     "metadata": {
      "needs_background": "light"
     },
     "output_type": "display_data"
    }
   ],
   "source": [
    "#Visualizing Confusion Matrix using Heatmap\n",
    "rcParams['figure.figsize'] = (8,4)\n",
    "sns.heatmap(pd.DataFrame(con_mat), annot=True, cmap=\"coolwarm\",fmt='g')\n",
    "plt.tight_layout()\n",
    "plt.title('Confusion matrix',fontsize=25)\n",
    "plt.ylabel('Actual label',fontsize=20)\n",
    "plt.xlabel('Predicted label',fontsize=20)"
   ]
  },
  {
   "cell_type": "code",
   "execution_count": 35,
   "metadata": {
    "colab": {
     "base_uri": "https://localhost:8080/",
     "height": 170
    },
    "colab_type": "code",
    "id": "sJgFXcPal3qQ",
    "outputId": "f336bfe7-0771-486b-d89f-8b1af641f1f0"
   },
   "outputs": [
    {
     "name": "stdout",
     "output_type": "stream",
     "text": [
      "              precision    recall  f1-score   support\n",
      "\n",
      "           0       0.83      0.93      0.88      2145\n",
      "           1       0.63      0.37      0.47       668\n",
      "\n",
      "    accuracy                           0.80      2813\n",
      "   macro avg       0.73      0.65      0.67      2813\n",
      "weighted avg       0.78      0.80      0.78      2813\n",
      "\n"
     ]
    }
   ],
   "source": [
    "#make classification report\n",
    "print(classification_report(y_test,predictions))"
   ]
  },
  {
   "cell_type": "markdown",
   "metadata": {
    "colab_type": "text",
    "id": "OZleZ6pL8SeY"
   },
   "source": [
    "# Conclusion\n",
    "\n",
    " causes for attrition:\n",
    "\n",
    "*   Low satisfaction rate\n",
    "\n",
    "*   Very low workload or high workload\n",
    "*   No promotation in last 5 years\n",
    "\n",
    "\n",
    "*   low salary\n",
    "\n",
    "*   work for the company for longer years\n",
    "*   Very high or low last performance rating\n",
    "\n",
    "*   Very high or low average working hours per month\n",
    "\n",
    "Logistic Regression model evaluate\n",
    "\n",
    "\n",
    "\n",
    "*   The logsitic regression model accuracy was 0.8\n",
    "\n",
    "\n",
    "\n",
    "\n",
    "*   The model had a good performance on predicting no attrit, the precision was 0.83, the recall was 0.93, the f1-score was 0.88.\n",
    "\n",
    "*   The model made many type II errors. The prediction on attrit has precision 0.63, recall 0.37, f1-score 0.47\n",
    "\n",
    "\n",
    "\n",
    "\n",
    "\n",
    "\n",
    "\n",
    "\n",
    "\n"
   ]
  }
 ],
 "metadata": {
  "colab": {
   "collapsed_sections": [],
   "name": "ALY6015_SpringA 2020_Na Qian_Lecture#3Colab.ipynb",
   "provenance": []
  },
  "kernelspec": {
   "display_name": "Python 3",
   "language": "python",
   "name": "python3"
  },
  "language_info": {
   "codemirror_mode": {
    "name": "ipython",
    "version": 3
   },
   "file_extension": ".py",
   "mimetype": "text/x-python",
   "name": "python",
   "nbconvert_exporter": "python",
   "pygments_lexer": "ipython3",
   "version": "3.7.6"
  }
 },
 "nbformat": 4,
 "nbformat_minor": 1
}

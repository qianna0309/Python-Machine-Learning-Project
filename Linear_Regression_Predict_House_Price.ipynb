{
  "nbformat": 4,
  "nbformat_minor": 0,
  "metadata": {
    "colab": {
      "name": "Linear Regression Predict House Price.ipynb",
      "provenance": [],
      "collapsed_sections": []
    },
    "kernelspec": {
      "name": "python3",
      "display_name": "Python 3"
    }
  },
  "cells": [
    {
      "cell_type": "markdown",
      "metadata": {
        "id": "-kbn3VKn_twl",
        "colab_type": "text"
      },
      "source": [
        "# Linear Regression Predict House Price\n",
        "\n",
        "# Author: Na Qian"
      ]
    },
    {
      "cell_type": "markdown",
      "metadata": {
        "id": "HkwptTOaUziN",
        "colab_type": "text"
      },
      "source": [
        "# Import necessary packages"
      ]
    },
    {
      "cell_type": "code",
      "metadata": {
        "id": "yqAa-9yzHG80",
        "colab_type": "code",
        "colab": {
          "base_uri": "https://localhost:8080/",
          "height": 71
        },
        "outputId": "e861a928-9db3-4343-b8d0-0435f76bd4b0"
      },
      "source": [
        "import pandas as pd\n",
        "import numpy as np\n",
        "import os\n",
        "from matplotlib import pyplot as plt\n",
        "import seaborn as sns\n",
        "from sklearn.model_selection import train_test_split\n",
        "from sklearn.linear_model import LinearRegression\n",
        "from sklearn.metrics import mean_squared_error, r2_score\n",
        "sns.set_style('whitegrid')\n",
        "from pylab import rcParams\n",
        "rcParams['figure.figsize'] = (15,6)\n"
      ],
      "execution_count": 2,
      "outputs": [
        {
          "output_type": "stream",
          "text": [
            "/usr/local/lib/python3.6/dist-packages/statsmodels/tools/_testing.py:19: FutureWarning: pandas.util.testing is deprecated. Use the functions in the public API at pandas.testing instead.\n",
            "  import pandas.util.testing as tm\n"
          ],
          "name": "stderr"
        }
      ]
    },
    {
      "cell_type": "markdown",
      "metadata": {
        "id": "c-OfycscVZ1M",
        "colab_type": "text"
      },
      "source": [
        "# Acquire data and perform light modifications"
      ]
    },
    {
      "cell_type": "code",
      "metadata": {
        "id": "7IbTmS8YF_XP",
        "colab_type": "code",
        "colab": {}
      },
      "source": [
        "data_path=\"https://docs.google.com/spreadsheets/d/e/2PACX-1vQuE3VHZCSebNyAqbOp9trWkwPw9FfDX59Zd_Ka9HLisxat1wTPpZGuIBgLICZBcBB7ai7Rv8HajBFB/pub?gid=573019161&single=true&output=csv\"\n",
        "df= pd.read_csv(data_path)"
      ],
      "execution_count": 3,
      "outputs": []
    },
    {
      "cell_type": "code",
      "metadata": {
        "id": "rUwj1R_wHHI-",
        "colab_type": "code",
        "colab": {
          "base_uri": "https://localhost:8080/",
          "height": 187
        },
        "outputId": "18a55920-79e9-49ef-a4e2-c3fe1e83d80c"
      },
      "source": [
        "df.info()"
      ],
      "execution_count": 4,
      "outputs": [
        {
          "output_type": "stream",
          "text": [
            "<class 'pandas.core.frame.DataFrame'>\n",
            "RangeIndex: 1460 entries, 0 to 1459\n",
            "Data columns (total 3 columns):\n",
            " #   Column     Non-Null Count  Dtype\n",
            "---  ------     --------------  -----\n",
            " 0   Id         1460 non-null   int64\n",
            " 1   SF         1460 non-null   int64\n",
            " 2   SalePrice  1460 non-null   int64\n",
            "dtypes: int64(3)\n",
            "memory usage: 34.3 KB\n"
          ],
          "name": "stdout"
        }
      ]
    },
    {
      "cell_type": "code",
      "metadata": {
        "id": "V_4Z02YmHuPk",
        "colab_type": "code",
        "colab": {
          "base_uri": "https://localhost:8080/",
          "height": 204
        },
        "outputId": "25b1e9cb-d5a6-451b-f1e4-e71e667b0575"
      },
      "source": [
        "df.head(5)"
      ],
      "execution_count": 5,
      "outputs": [
        {
          "output_type": "execute_result",
          "data": {
            "text/html": [
              "<div>\n",
              "<style scoped>\n",
              "    .dataframe tbody tr th:only-of-type {\n",
              "        vertical-align: middle;\n",
              "    }\n",
              "\n",
              "    .dataframe tbody tr th {\n",
              "        vertical-align: top;\n",
              "    }\n",
              "\n",
              "    .dataframe thead th {\n",
              "        text-align: right;\n",
              "    }\n",
              "</style>\n",
              "<table border=\"1\" class=\"dataframe\">\n",
              "  <thead>\n",
              "    <tr style=\"text-align: right;\">\n",
              "      <th></th>\n",
              "      <th>Id</th>\n",
              "      <th>SF</th>\n",
              "      <th>SalePrice</th>\n",
              "    </tr>\n",
              "  </thead>\n",
              "  <tbody>\n",
              "    <tr>\n",
              "      <th>0</th>\n",
              "      <td>1</td>\n",
              "      <td>4316</td>\n",
              "      <td>755000</td>\n",
              "    </tr>\n",
              "    <tr>\n",
              "      <th>1</th>\n",
              "      <td>2</td>\n",
              "      <td>4476</td>\n",
              "      <td>745000</td>\n",
              "    </tr>\n",
              "    <tr>\n",
              "      <th>2</th>\n",
              "      <td>3</td>\n",
              "      <td>3627</td>\n",
              "      <td>625000</td>\n",
              "    </tr>\n",
              "    <tr>\n",
              "      <th>3</th>\n",
              "      <td>4</td>\n",
              "      <td>2364</td>\n",
              "      <td>611657</td>\n",
              "    </tr>\n",
              "    <tr>\n",
              "      <th>4</th>\n",
              "      <td>5</td>\n",
              "      <td>2822</td>\n",
              "      <td>582933</td>\n",
              "    </tr>\n",
              "  </tbody>\n",
              "</table>\n",
              "</div>"
            ],
            "text/plain": [
              "   Id    SF  SalePrice\n",
              "0   1  4316     755000\n",
              "1   2  4476     745000\n",
              "2   3  3627     625000\n",
              "3   4  2364     611657\n",
              "4   5  2822     582933"
            ]
          },
          "metadata": {
            "tags": []
          },
          "execution_count": 5
        }
      ]
    },
    {
      "cell_type": "markdown",
      "metadata": {
        "id": "5DX5TE8RFr4F",
        "colab_type": "text"
      },
      "source": [
        "This data set has 1460 rows and 3 columns.\n",
        "\n",
        "Id-- The id of this record\n",
        "\n",
        "SF-- The square feet of the room\n",
        "\n",
        "SalePrice: The price of the room"
      ]
    },
    {
      "cell_type": "code",
      "metadata": {
        "id": "B3Y8L0nUKQ74",
        "colab_type": "code",
        "colab": {}
      },
      "source": [
        "#Change all data set into lowercase \n",
        "df.rename(columns=lambda x: x.lower(), inplace=True)"
      ],
      "execution_count": 6,
      "outputs": []
    },
    {
      "cell_type": "code",
      "metadata": {
        "id": "5Yu28FqhMJxP",
        "colab_type": "code",
        "colab": {
          "base_uri": "https://localhost:8080/",
          "height": 204
        },
        "outputId": "a50abae8-d817-4f98-9e7e-169a4f11f16d"
      },
      "source": [
        "df.sf.sort_values().head(10)"
      ],
      "execution_count": 7,
      "outputs": [
        {
          "output_type": "execute_result",
          "data": {
            "text/plain": [
              "1047      0\n",
              "76        0\n",
              "1406      0\n",
              "266       0\n",
              "1456    334\n",
              "1448    438\n",
              "1458    480\n",
              "1438    520\n",
              "1404    520\n",
              "1395    605\n",
              "Name: sf, dtype: int64"
            ]
          },
          "metadata": {
            "tags": []
          },
          "execution_count": 7
        }
      ]
    },
    {
      "cell_type": "code",
      "metadata": {
        "id": "OOmj4_uyM8lx",
        "colab_type": "code",
        "colab": {
          "base_uri": "https://localhost:8080/",
          "height": 204
        },
        "outputId": "e4d8b603-ea04-4cf0-8cee-603455ec85c4"
      },
      "source": [
        "df.sf.sort_values().tail(10)"
      ],
      "execution_count": 8,
      "outputs": [
        {
          "output_type": "execute_result",
          "data": {
            "text/plain": [
              "18     3228\n",
              "24     3238\n",
              "7      3279\n",
              "38     3447\n",
              "118    3493\n",
              "2      3627\n",
              "0      4316\n",
              "1      4476\n",
              "538    4676\n",
              "754    5642\n",
              "Name: sf, dtype: int64"
            ]
          },
          "metadata": {
            "tags": []
          },
          "execution_count": 8
        }
      ]
    },
    {
      "cell_type": "code",
      "metadata": {
        "id": "OhVCur7tMrfW",
        "colab_type": "code",
        "colab": {
          "base_uri": "https://localhost:8080/",
          "height": 221
        },
        "outputId": "fa7a1f22-954e-477f-b37c-b451f1553f2b"
      },
      "source": [
        "df.saleprice.sort_values()"
      ],
      "execution_count": 9,
      "outputs": [
        {
          "output_type": "execute_result",
          "data": {
            "text/plain": [
              "1459     34900\n",
              "1458     35311\n",
              "1457     37900\n",
              "1456     39300\n",
              "1455     40000\n",
              "         ...  \n",
              "4       582933\n",
              "3       611657\n",
              "2       625000\n",
              "1       745000\n",
              "0       755000\n",
              "Name: saleprice, Length: 1460, dtype: int64"
            ]
          },
          "metadata": {
            "tags": []
          },
          "execution_count": 9
        }
      ]
    },
    {
      "cell_type": "code",
      "metadata": {
        "id": "-Yahr97IHow0",
        "colab_type": "code",
        "colab": {}
      },
      "source": [
        "#drop the record where sf=0\n",
        "df =df[df['sf'] !=0]"
      ],
      "execution_count": 10,
      "outputs": []
    },
    {
      "cell_type": "markdown",
      "metadata": {
        "id": "4tZUi_IUWJ0h",
        "colab_type": "text"
      },
      "source": [
        "# Explore numerical variables"
      ]
    },
    {
      "cell_type": "code",
      "metadata": {
        "id": "BKnxSc9sM25I",
        "colab_type": "code",
        "colab": {
          "base_uri": "https://localhost:8080/",
          "height": 405
        },
        "outputId": "263aeaef-bd03-4d47-ed99-c48e4bba2708"
      },
      "source": [
        "sns.distplot(df[\"saleprice\"],kde=False)\n",
        "plt.xlabel('sale price($)')"
      ],
      "execution_count": 11,
      "outputs": [
        {
          "output_type": "execute_result",
          "data": {
            "text/plain": [
              "Text(0.5, 0, 'sale price($)')"
            ]
          },
          "metadata": {
            "tags": []
          },
          "execution_count": 11
        },
        {
          "output_type": "display_data",
          "data": {
            "image/png": "[encoded data removed]",
            "text/plain": [
              "<Figure size 1080x432 with 1 Axes>"
            ]
          },
          "metadata": {
            "tags": []
          }
        }
      ]
    },
    {
      "cell_type": "code",
      "metadata": {
        "id": "NScum8ZuOeYF",
        "colab_type": "code",
        "colab": {
          "base_uri": "https://localhost:8080/",
          "height": 405
        },
        "outputId": "10c10159-b22b-4540-d51c-7764bc06943c"
      },
      "source": [
        "sns.distplot(df[\"sf\"], kde=False)\n",
        "plt.xlabel('squarefeet')"
      ],
      "execution_count": 12,
      "outputs": [
        {
          "output_type": "execute_result",
          "data": {
            "text/plain": [
              "Text(0.5, 0, 'squarefeet')"
            ]
          },
          "metadata": {
            "tags": []
          },
          "execution_count": 12
        },
        {
          "output_type": "display_data",
          "data": {
            "image/png": "[encoded data removed]",
            "text/plain": [
              "<Figure size 1080x432 with 1 Axes>"
            ]
          },
          "metadata": {
            "tags": []
          }
        }
      ]
    },
    {
      "cell_type": "code",
      "metadata": {
        "id": "ogyW6Ox7HRNZ",
        "colab_type": "code",
        "colab": {
          "base_uri": "https://localhost:8080/",
          "height": 458
        },
        "outputId": "d2b2381f-4f58-4ad1-b860-e5877af1653a"
      },
      "source": [
        "sns.jointplot(x=\"sf\",y=\"saleprice\",data=df,kind=\"hex\")\n"
      ],
      "execution_count": 13,
      "outputs": [
        {
          "output_type": "execute_result",
          "data": {
            "text/plain": [
              "<seaborn.axisgrid.JointGrid at 0x7fc8200353c8>"
            ]
          },
          "metadata": {
            "tags": []
          },
          "execution_count": 13
        },
        {
          "output_type": "display_data",
          "data": {
            "image/png": "[encoded data removed]",
            "text/plain": [
              "<Figure size 432x432 with 3 Axes>"
            ]
          },
          "metadata": {
            "tags": []
          }
        }
      ]
    },
    {
      "cell_type": "markdown",
      "metadata": {
        "id": "awyDtAA3R_6P",
        "colab_type": "text"
      },
      "source": [
        "# Describe Regression approach"
      ]
    },
    {
      "cell_type": "code",
      "metadata": {
        "id": "lAwlDsbNBQhZ",
        "colab_type": "code",
        "colab": {}
      },
      "source": [
        "X=df[['sf']]\n",
        "y= df['saleprice']"
      ],
      "execution_count": 14,
      "outputs": []
    },
    {
      "cell_type": "code",
      "metadata": {
        "id": "IIgswNK-01sh",
        "colab_type": "code",
        "colab": {}
      },
      "source": [
        "X_train, X_test, y_train, y_test = train_test_split(X,y,test_size=0.3,random_state=101)"
      ],
      "execution_count": 15,
      "outputs": []
    },
    {
      "cell_type": "code",
      "metadata": {
        "id": "3OqvnmGZSm7t",
        "colab_type": "code",
        "colab": {}
      },
      "source": [
        "lin_reg = LinearRegression()"
      ],
      "execution_count": 16,
      "outputs": []
    },
    {
      "cell_type": "code",
      "metadata": {
        "id": "7eajviCTSnGp",
        "colab_type": "code",
        "colab": {
          "base_uri": "https://localhost:8080/",
          "height": 34
        },
        "outputId": "5eaecfbb-83b9-4d3b-f652-b76cdb4d7451"
      },
      "source": [
        "lin_reg.fit(X_train, y_train)"
      ],
      "execution_count": 17,
      "outputs": [
        {
          "output_type": "execute_result",
          "data": {
            "text/plain": [
              "LinearRegression(copy_X=True, fit_intercept=True, n_jobs=None, normalize=False)"
            ]
          },
          "metadata": {
            "tags": []
          },
          "execution_count": 17
        }
      ]
    },
    {
      "cell_type": "code",
      "metadata": {
        "id": "LGTqvZw28e5u",
        "colab_type": "code",
        "colab": {}
      },
      "source": [
        "saleprice_y_pred = lin_reg.predict(X_test)"
      ],
      "execution_count": 18,
      "outputs": []
    },
    {
      "cell_type": "markdown",
      "metadata": {
        "id": "MZcc6Itj3JYc",
        "colab_type": "text"
      },
      "source": [
        "Take the results from above and print out a few pieces of information"
      ]
    },
    {
      "cell_type": "code",
      "metadata": {
        "id": "2kSswoeF-xCm",
        "colab_type": "code",
        "colab": {
          "base_uri": "https://localhost:8080/",
          "height": 136
        },
        "outputId": "6f1f192f-9532-4f07-8bb8-cacad719c992"
      },
      "source": [
        "print((pd.DataFrame(saleprice_y_pred, columns={'y_prediction'}).head(5)))\n",
        "print()"
      ],
      "execution_count": 19,
      "outputs": [
        {
          "output_type": "stream",
          "text": [
            "    y_prediction\n",
            "0  358047.981565\n",
            "1  277288.833822\n",
            "2  194968.620080\n",
            "3  192262.772346\n",
            "4  171656.701144\n",
            "\n"
          ],
          "name": "stdout"
        }
      ]
    },
    {
      "cell_type": "code",
      "metadata": {
        "id": "DAJhhn7i2yap",
        "colab_type": "code",
        "colab": {
          "base_uri": "https://localhost:8080/",
          "height": 51
        },
        "outputId": "2669c13f-a701-4ff6-90c9-fa4c0e330fb4"
      },
      "source": [
        "print('Coefficients: \\n', lin_reg.coef_)"
      ],
      "execution_count": 20,
      "outputs": [
        {
          "output_type": "stream",
          "text": [
            "Coefficients: \n",
            " [104.07106668]\n"
          ],
          "name": "stdout"
        }
      ]
    },
    {
      "cell_type": "code",
      "metadata": {
        "id": "i6ltOasx2ylg",
        "colab_type": "code",
        "colab": {
          "base_uri": "https://localhost:8080/",
          "height": 51
        },
        "outputId": "c6fd4d7e-07f0-460c-eaa5-aba2d9c7d8f5"
      },
      "source": [
        "print('Intercept: \\n',lin_reg.intercept_)"
      ],
      "execution_count": 21,
      "outputs": [
        {
          "output_type": "stream",
          "text": [
            "Intercept: \n",
            " 22106.57832785751\n"
          ],
          "name": "stdout"
        }
      ]
    },
    {
      "cell_type": "code",
      "metadata": {
        "id": "naXoyLhk9yzW",
        "colab_type": "code",
        "colab": {
          "base_uri": "https://localhost:8080/",
          "height": 34
        },
        "outputId": "3182290d-1d3c-495d-e1e4-2440742e3198"
      },
      "source": [
        "print(\"Mean Squared Error (MSE):%.2f\" % mean_squared_error(y_test, saleprice_y_pred))\n"
      ],
      "execution_count": 22,
      "outputs": [
        {
          "output_type": "stream",
          "text": [
            "Mean Squared Error (MSE):3267141043.33\n"
          ],
          "name": "stdout"
        }
      ]
    },
    {
      "cell_type": "code",
      "metadata": {
        "id": "8ALDheUZ9y28",
        "colab_type": "code",
        "colab": {
          "base_uri": "https://localhost:8080/",
          "height": 34
        },
        "outputId": "ada98dba-c40e-4a89-f58b-e954ce338c6c"
      },
      "source": [
        "print('Variance Score (R^2):%.2f' % r2_score(y_test, saleprice_y_pred))"
      ],
      "execution_count": 23,
      "outputs": [
        {
          "output_type": "stream",
          "text": [
            "Variance Score (R^2):0.54\n"
          ],
          "name": "stdout"
        }
      ]
    },
    {
      "cell_type": "markdown",
      "metadata": {
        "id": "IL7AGAiC_RJE",
        "colab_type": "text"
      },
      "source": [
        "Re-plot the graph using the results from Scikit-Learn"
      ]
    },
    {
      "cell_type": "code",
      "metadata": {
        "id": "8xeO3mlg9zC2",
        "colab_type": "code",
        "colab": {
          "base_uri": "https://localhost:8080/",
          "height": 405
        },
        "outputId": "a3c10392-39c9-4467-e496-d66bd8242aa0"
      },
      "source": [
        "sns.scatterplot(x = 'sf', y = 'saleprice', data = df)\n",
        "plt.plot(X_test, saleprice_y_pred, color='red')\n",
        "plt.ylabel('Pred sale Price($)')"
      ],
      "execution_count": 31,
      "outputs": [
        {
          "output_type": "execute_result",
          "data": {
            "text/plain": [
              "Text(0, 0.5, 'Pred sale Price($)')"
            ]
          },
          "metadata": {
            "tags": []
          },
          "execution_count": 31
        },
        {
          "output_type": "display_data",
          "data": {
            "image/png": "[encoded data removed]",
            "text/plain": [
              "<Figure size 1080x432 with 1 Axes>"
            ]
          },
          "metadata": {
            "tags": []
          }
        }
      ]
    },
    {
      "cell_type": "markdown",
      "metadata": {
        "id": "wVQQEoi2cMoH",
        "colab_type": "text"
      },
      "source": [
        "Plot the residual"
      ]
    },
    {
      "cell_type": "code",
      "metadata": {
        "id": "pYRRbUS4IEqG",
        "colab_type": "code",
        "colab": {
          "base_uri": "https://localhost:8080/",
          "height": 416
        },
        "outputId": "adf61e44-2da5-4d1f-901b-f5635056daac"
      },
      "source": [
        "sns.distplot(y_test-saleprice_y_pred)"
      ],
      "execution_count": 25,
      "outputs": [
        {
          "output_type": "execute_result",
          "data": {
            "text/plain": [
              "<matplotlib.axes._subplots.AxesSubplot at 0x7fc81d5c7da0>"
            ]
          },
          "metadata": {
            "tags": []
          },
          "execution_count": 25
        },
        {
          "output_type": "display_data",
          "data": {
            "image/png": "[encoded data removed]",
            "text/plain": [
              "<Figure size 1080x432 with 1 Axes>"
            ]
          },
          "metadata": {
            "tags": []
          }
        }
      ]
    },
    {
      "cell_type": "markdown",
      "metadata": {
        "id": "3LKx8FgE_hls",
        "colab_type": "text"
      },
      "source": [
        "# Make some predictions"
      ]
    },
    {
      "cell_type": "code",
      "metadata": {
        "id": "GIBdRETlAmv3",
        "colab_type": "code",
        "colab": {}
      },
      "source": [
        "def price(sf):\n",
        "  coef=lin_reg.coef_\n",
        "  b=float(coef)\n",
        "  inter=lin_reg.intercept_\n",
        "  a=float(inter)\n",
        "  return round((a+b*sf),1)"
      ],
      "execution_count": 26,
      "outputs": []
    },
    {
      "cell_type": "code",
      "metadata": {
        "id": "zi7CymDoCrCt",
        "colab_type": "code",
        "colab": {
          "base_uri": "https://localhost:8080/",
          "height": 34
        },
        "outputId": "4bcfa1a9-ebe3-44dc-d64e-8d4bf421f250"
      },
      "source": [
        "price(1000)"
      ],
      "execution_count": 27,
      "outputs": [
        {
          "output_type": "execute_result",
          "data": {
            "text/plain": [
              "126177.6"
            ]
          },
          "metadata": {
            "tags": []
          },
          "execution_count": 27
        }
      ]
    },
    {
      "cell_type": "code",
      "metadata": {
        "id": "eahXwgIvCrI9",
        "colab_type": "code",
        "colab": {
          "base_uri": "https://localhost:8080/",
          "height": 34
        },
        "outputId": "456c26c1-4164-47c2-8f4c-7257c20a49b2"
      },
      "source": [
        "print(\"The sale price of a house is {} when the sq footage is 1000\".format(price(1000)))"
      ],
      "execution_count": 28,
      "outputs": [
        {
          "output_type": "stream",
          "text": [
            "The sale price of a house is 126177.6 when the sq footage is 1000\n"
          ],
          "name": "stdout"
        }
      ]
    },
    {
      "cell_type": "code",
      "metadata": {
        "id": "CsX97GXJCrGa",
        "colab_type": "code",
        "colab": {}
      },
      "source": [
        "def sqft(price):\n",
        "  coef=lin_reg.coef_\n",
        "  b=float(coef)\n",
        "  inter=lin_reg.intercept_\n",
        "  a=float(inter)\n",
        "  return round((price-a)/b,1)\n"
      ],
      "execution_count": 29,
      "outputs": []
    },
    {
      "cell_type": "code",
      "metadata": {
        "id": "pig967k0Eth1",
        "colab_type": "code",
        "colab": {
          "base_uri": "https://localhost:8080/",
          "height": 34
        },
        "outputId": "3953da5a-23e0-4f7e-a6e6-50fdbddce330"
      },
      "source": [
        "print(\"1,000,000 can buy a house with {} sq footage\".format(sqft(1000000)))"
      ],
      "execution_count": 30,
      "outputs": [
        {
          "output_type": "stream",
          "text": [
            "1,000,000 can buy a house with 9396.4 sq footage\n"
          ],
          "name": "stdout"
        }
      ]
    },
    {
      "cell_type": "markdown",
      "metadata": {
        "id": "s5P38d3QUu3B",
        "colab_type": "text"
      },
      "source": [
        "# Conclusion"
      ]
    },
    {
      "cell_type": "markdown",
      "metadata": {
        "id": "ROYWFS0nbseX",
        "colab_type": "text"
      },
      "source": [
        "1.The record with sf=0 were removed before analysis, because it is abnormal that a home without area.\n",
        "\n",
        "2.From the histogram of the sale price, it is a right-skewed distribution. The average sale price is about $150000.\n",
        "\n",
        "3.There is a linear relationship between price and square feet, the bigger the house the more expensive will be. \n",
        "\n",
        "4.The mean square error was 3267141043.33. Because we are dealing with house prices, which have comparatively large numbers. So, the mean square error was large.\n",
        "\n",
        "5.the R^2 was 0.54, which means that 54% of the variance in the price can be explained by the square feet.\n",
        "\n",
        "6.The distribution of residual is a normal distribution. This tells us that the regression model is reliable."
      ]
    }
  ]
}
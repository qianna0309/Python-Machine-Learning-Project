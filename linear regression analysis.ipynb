{
 "cells": [
  {
   "cell_type": "markdown",
   "metadata": {
    "colab_type": "text",
    "id": "niZqPUx-baeH"
   },
   "source": [
    "\n",
    "# Purpose: Linear Regression Analysis\n",
    "# Author: Na Qian\n",
    "data source: https://docs.google.com/spreadsheets/d/e/2PACX-1vQJyZXPL7BF7zBsObirBYlXfeeG3oITymKt_x22J1FTsWlWluYxHKASR1-9QAEnximmX4z-vm98O9H4/pub?gid=290006635&single=true&output=csv\n"
   ]
  },
  {
   "cell_type": "markdown",
   "metadata": {
    "colab_type": "text",
    "id": "1v3WhLWzkFYG"
   },
   "source": [
    "# Import necessary packages"
   ]
  },
  {
   "cell_type": "code",
   "execution_count": 24,
   "metadata": {
    "colab": {},
    "colab_type": "code",
    "id": "H6I_F9EGhzvO"
   },
   "outputs": [],
   "source": [
    "import pandas as pd\n",
    "import numpy as np\n",
    "import os\n",
    "from matplotlib import pyplot as plt\n",
    "import seaborn as sns\n",
    "from sklearn.model_selection import train_test_split\n",
    "from sklearn.linear_model import LinearRegression\n",
    "from sklearn.metrics import mean_squared_error, r2_score\n",
    "from sklearn import metrics\n",
    "from numpy.random import seed\n",
    "from numpy.random import randn\n",
    "from scipy.stats import f_oneway\n",
    "from pylab import rcParams\n",
    "rcParams['figure.figsize'] = (15, 6)\n",
    "sns.set_style('whitegrid')"
   ]
  },
  {
   "cell_type": "markdown",
   "metadata": {
    "colab_type": "text",
    "id": "i6rxhCVelHYR"
   },
   "source": [
    "# Acquire data and perform light modifictions"
   ]
  },
  {
   "cell_type": "code",
   "execution_count": 25,
   "metadata": {
    "colab": {},
    "colab_type": "code",
    "id": "a3xBcNuuiIzS"
   },
   "outputs": [],
   "source": [
    "data_path=\"https://docs.google.com/spreadsheets/d/e/2PACX-1vQJyZXPL7BF7zBsObirBYlXfeeG3oITymKt_x22J1FTsWlWluYxHKASR1-9QAEnximmX4z-vm98O9H4/pub?gid=290006635&single=true&output=csv\"\n",
    "df = pd.read_csv(data_path)"
   ]
  },
  {
   "cell_type": "code",
   "execution_count": 26,
   "metadata": {
    "colab": {
     "base_uri": "https://localhost:8080/",
     "height": 34
    },
    "colab_type": "code",
    "id": "IQe9KzRjiI2U",
    "outputId": "0428d201-855f-4452-c745-2ef0cbd2d773"
   },
   "outputs": [
    {
     "name": "stdout",
     "output_type": "stream",
     "text": [
      "<class 'pandas.core.frame.DataFrame'>\n",
      "RangeIndex: 3974 entries, 0 to 3973\n",
      "Data columns (total 11 columns):\n",
      " #   Column                  Non-Null Count  Dtype  \n",
      "---  ------                  --------------  -----  \n",
      " 0   id                      3974 non-null   int64  \n",
      " 1   country                 3974 non-null   object \n",
      " 2   state                   3781 non-null   object \n",
      " 3   neighbourhood_cleansed  3974 non-null   object \n",
      " 4   property_type           3974 non-null   object \n",
      " 5   square_meters           3974 non-null   float64\n",
      " 6   price                   3974 non-null   object \n",
      " 7   room_type               3974 non-null   object \n",
      " 8   bathrooms               3969 non-null   float64\n",
      " 9   bedrooms                3972 non-null   float64\n",
      " 10  beds                    3973 non-null   float64\n",
      "dtypes: float64(4), int64(1), object(6)\n",
      "memory usage: 341.6+ KB\n"
     ]
    }
   ],
   "source": [
    "df.info()"
   ]
  },
  {
   "cell_type": "code",
   "execution_count": 27,
   "metadata": {
    "colab": {
     "base_uri": "https://localhost:8080/",
     "height": 204
    },
    "colab_type": "code",
    "id": "sn3QpJI9iI5e",
    "outputId": "e5720986-2cd0-46d4-ece8-1cba96024cdb"
   },
   "outputs": [
    {
     "data": {
      "text/html": [
       "<div>\n",
       "<style scoped>\n",
       "    .dataframe tbody tr th:only-of-type {\n",
       "        vertical-align: middle;\n",
       "    }\n",
       "\n",
       "    .dataframe tbody tr th {\n",
       "        vertical-align: top;\n",
       "    }\n",
       "\n",
       "    .dataframe thead th {\n",
       "        text-align: right;\n",
       "    }\n",
       "</style>\n",
       "<table border=\"1\" class=\"dataframe\">\n",
       "  <thead>\n",
       "    <tr style=\"text-align: right;\">\n",
       "      <th></th>\n",
       "      <th>id</th>\n",
       "      <th>country</th>\n",
       "      <th>state</th>\n",
       "      <th>neighbourhood_cleansed</th>\n",
       "      <th>property_type</th>\n",
       "      <th>square_meters</th>\n",
       "      <th>price</th>\n",
       "      <th>room_type</th>\n",
       "      <th>bathrooms</th>\n",
       "      <th>bedrooms</th>\n",
       "      <th>beds</th>\n",
       "    </tr>\n",
       "  </thead>\n",
       "  <tbody>\n",
       "    <tr>\n",
       "      <th>0</th>\n",
       "      <td>3363954</td>\n",
       "      <td>Australia</td>\n",
       "      <td>NSW</td>\n",
       "      <td>BALLINA SHIRE COUNCIL</td>\n",
       "      <td>House</td>\n",
       "      <td>0.00</td>\n",
       "      <td>$2,900.00</td>\n",
       "      <td>Entire home/apt</td>\n",
       "      <td>3.0</td>\n",
       "      <td>4.0</td>\n",
       "      <td>4.0</td>\n",
       "    </tr>\n",
       "    <tr>\n",
       "      <th>1</th>\n",
       "      <td>13048065</td>\n",
       "      <td>Australia</td>\n",
       "      <td>NSW</td>\n",
       "      <td>BALLINA SHIRE COUNCIL</td>\n",
       "      <td>House</td>\n",
       "      <td>1.55</td>\n",
       "      <td>$28.00</td>\n",
       "      <td>Private room</td>\n",
       "      <td>1.0</td>\n",
       "      <td>1.0</td>\n",
       "      <td>1.0</td>\n",
       "    </tr>\n",
       "    <tr>\n",
       "      <th>2</th>\n",
       "      <td>1451202</td>\n",
       "      <td>Australia</td>\n",
       "      <td>NSW</td>\n",
       "      <td>BALLINA SHIRE COUNCIL</td>\n",
       "      <td>Guest suite</td>\n",
       "      <td>15.00</td>\n",
       "      <td>$141.00</td>\n",
       "      <td>Entire home/apt</td>\n",
       "      <td>1.0</td>\n",
       "      <td>1.0</td>\n",
       "      <td>1.0</td>\n",
       "    </tr>\n",
       "    <tr>\n",
       "      <th>3</th>\n",
       "      <td>2345959</td>\n",
       "      <td>Australia</td>\n",
       "      <td>NSW</td>\n",
       "      <td>BALLINA SHIRE COUNCIL</td>\n",
       "      <td>House</td>\n",
       "      <td>16.43</td>\n",
       "      <td>$50.00</td>\n",
       "      <td>Private room</td>\n",
       "      <td>4.0</td>\n",
       "      <td>4.0</td>\n",
       "      <td>3.0</td>\n",
       "    </tr>\n",
       "    <tr>\n",
       "      <th>4</th>\n",
       "      <td>26087141</td>\n",
       "      <td>Australia</td>\n",
       "      <td>NSW</td>\n",
       "      <td>BALLINA SHIRE COUNCIL</td>\n",
       "      <td>House</td>\n",
       "      <td>17.79</td>\n",
       "      <td>$52.00</td>\n",
       "      <td>Private room</td>\n",
       "      <td>1.0</td>\n",
       "      <td>1.0</td>\n",
       "      <td>1.0</td>\n",
       "    </tr>\n",
       "  </tbody>\n",
       "</table>\n",
       "</div>"
      ],
      "text/plain": [
       "         id    country state neighbourhood_cleansed property_type  \\\n",
       "0   3363954  Australia   NSW  BALLINA SHIRE COUNCIL         House   \n",
       "1  13048065  Australia   NSW  BALLINA SHIRE COUNCIL         House   \n",
       "2   1451202  Australia   NSW  BALLINA SHIRE COUNCIL   Guest suite   \n",
       "3   2345959  Australia   NSW  BALLINA SHIRE COUNCIL         House   \n",
       "4  26087141  Australia   NSW  BALLINA SHIRE COUNCIL         House   \n",
       "\n",
       "   square_meters      price        room_type  bathrooms  bedrooms  beds  \n",
       "0           0.00  $2,900.00  Entire home/apt        3.0       4.0   4.0  \n",
       "1           1.55     $28.00     Private room        1.0       1.0   1.0  \n",
       "2          15.00    $141.00  Entire home/apt        1.0       1.0   1.0  \n",
       "3          16.43     $50.00     Private room        4.0       4.0   3.0  \n",
       "4          17.79     $52.00     Private room        1.0       1.0   1.0  "
      ]
     },
     "execution_count": 27,
     "metadata": {},
     "output_type": "execute_result"
    }
   ],
   "source": [
    "df.head()"
   ]
  },
  {
   "cell_type": "code",
   "execution_count": 28,
   "metadata": {
    "colab": {},
    "colab_type": "code",
    "id": "6BYanCO25EN4"
   },
   "outputs": [],
   "source": [
    "#conver price's data type from string to float\n",
    "df['price'] = df['price'].replace({'\\$': '', ',': ''}, regex=True).astype(float)"
   ]
  },
  {
   "cell_type": "code",
   "execution_count": 29,
   "metadata": {},
   "outputs": [
    {
     "data": {
      "text/plain": [
       "3115     1.0\n",
       "1       28.0\n",
       "3075    30.0\n",
       "455     30.0\n",
       "459     35.0\n",
       "454     36.0\n",
       "457     38.0\n",
       "3074    40.0\n",
       "458     40.0\n",
       "2994    40.0\n",
       "3025    40.0\n",
       "2960    42.0\n",
       "3043    43.0\n",
       "2975    43.0\n",
       "470     44.0\n",
       "2969    45.0\n",
       "462     45.0\n",
       "463     45.0\n",
       "6       45.0\n",
       "2971    45.0\n",
       "Name: price, dtype: float64"
      ]
     },
     "execution_count": 29,
     "metadata": {},
     "output_type": "execute_result"
    }
   ],
   "source": [
    "df.price.sort_values().head(20)"
   ]
  },
  {
   "cell_type": "code",
   "execution_count": 30,
   "metadata": {},
   "outputs": [
    {
     "data": {
      "text/plain": [
       "2879     5191.0\n",
       "2937     5220.0\n",
       "2924     5285.0\n",
       "2942     5294.0\n",
       "2873     5600.0\n",
       "2920     5901.0\n",
       "2889     5951.0\n",
       "2893     5995.0\n",
       "2927     6000.0\n",
       "2899     6196.0\n",
       "2915     6226.0\n",
       "2943     6250.0\n",
       "2939     6500.0\n",
       "2928     6595.0\n",
       "2941     6750.0\n",
       "2947     7000.0\n",
       "3051     7190.0\n",
       "2944     7540.0\n",
       "2945    10047.0\n",
       "2946    11500.0\n",
       "Name: price, dtype: float64"
      ]
     },
     "execution_count": 30,
     "metadata": {},
     "output_type": "execute_result"
    }
   ],
   "source": [
    "df.price.sort_values().tail(20)"
   ]
  },
  {
   "cell_type": "code",
   "execution_count": 31,
   "metadata": {
    "colab": {
     "base_uri": "https://localhost:8080/",
     "height": 170
    },
    "colab_type": "code",
    "id": "UsmkmvItCnov",
    "outputId": "0e999fba-05a0-4586-c705-bd6c1dbcc5f3"
   },
   "outputs": [
    {
     "data": {
      "text/plain": [
       "NSW                3609\n",
       "New South Wales     115\n",
       "QLD                  46\n",
       "Nsw                   4\n",
       "nsw                   3\n",
       "Qld                   2\n",
       "queensland            1\n",
       "Queensland            1\n",
       "Name: state, dtype: int64"
      ]
     },
     "execution_count": 31,
     "metadata": {},
     "output_type": "execute_result"
    }
   ],
   "source": [
    "df[\"state\"].value_counts()"
   ]
  },
  {
   "cell_type": "code",
   "execution_count": 32,
   "metadata": {
    "colab": {},
    "colab_type": "code",
    "id": "xY3y9XICGdfU"
   },
   "outputs": [],
   "source": [
    "# Replace New South Wales, nsw and Nsw as NSW\n",
    "df['state'] = df['state'].replace({'New South Wales':'NSW','nsw':\"NSW\",'Nsw':'NSW','Qld':'QLD','Queensland':'QLD','queensland':'QLD'},regex = True)\n"
   ]
  },
  {
   "cell_type": "code",
   "execution_count": 33,
   "metadata": {},
   "outputs": [
    {
     "data": {
      "text/plain": [
       "NSW    3731\n",
       "QLD      50\n",
       "Name: state, dtype: int64"
      ]
     },
     "execution_count": 33,
     "metadata": {},
     "output_type": "execute_result"
    }
   ],
   "source": [
    "df[\"state\"].value_counts()"
   ]
  },
  {
   "cell_type": "code",
   "execution_count": 34,
   "metadata": {
    "colab": {
     "base_uri": "https://localhost:8080/",
     "height": 119
    },
    "colab_type": "code",
    "id": "sZ5LCcoaZk1h",
    "outputId": "e33742f1-4ed7-484c-aded-42b0b0da67a2"
   },
   "outputs": [
    {
     "data": {
      "text/plain": [
       "BYRON SHIRE COUNCIL        2496\n",
       "TWEED SHIRE COUNCIL         880\n",
       "BALLINA SHIRE COUNCIL       453\n",
       "LISMORE CITY COUNCIL        127\n",
       "RICHMOND VALLEY COUNCIL      18\n",
       "Name: neighbourhood_cleansed, dtype: int64"
      ]
     },
     "execution_count": 34,
     "metadata": {},
     "output_type": "execute_result"
    }
   ],
   "source": [
    "df[\"neighbourhood_cleansed\"].value_counts()"
   ]
  },
  {
   "cell_type": "code",
   "execution_count": 35,
   "metadata": {},
   "outputs": [
    {
     "data": {
      "text/plain": [
       "Entire home/apt    3222\n",
       "Private room        749\n",
       "Shared room           3\n",
       "Name: room_type, dtype: int64"
      ]
     },
     "execution_count": 35,
     "metadata": {},
     "output_type": "execute_result"
    }
   ],
   "source": [
    "df['room_type'].value_counts()"
   ]
  },
  {
   "cell_type": "code",
   "execution_count": 23,
   "metadata": {},
   "outputs": [
    {
     "data": {
      "text/plain": [
       "House           2331\n",
       "Apartment        857\n",
       "Guest suite      260\n",
       "Guesthouse       218\n",
       "Camper/RV         42\n",
       "Loft              23\n",
       "Nature lodge      23\n",
       "Other             19\n",
       "Name: property_type, dtype: int64"
      ]
     },
     "execution_count": 23,
     "metadata": {},
     "output_type": "execute_result"
    }
   ],
   "source": [
    "df['property_type'].value_counts()"
   ]
  },
  {
   "cell_type": "code",
   "execution_count": 36,
   "metadata": {
    "colab": {},
    "colab_type": "code",
    "id": "MMSdyzrO3sv7"
   },
   "outputs": [],
   "source": [
    "#Trim outliers:\n",
    "starting_price = df['price'].quantile(.01)\n",
    "ending_price = df['price'].quantile(.99)\n",
    "starting_square_meters = df['square_meters'].quantile(.01)\n",
    "ending_square_meters = df['square_meters'].quantile(.99)\n",
    "df_trimmed = df.loc[(df['price'] > starting_price) & (df['price'] < ending_price) & (df['square_meters'] > starting_square_meters) & (df['square_meters'] <ending_square_meters)]\n",
    "#Peform additional conversions to \n",
    "df_trimmed_cleaned = df_trimmed.copy()\n",
    "#Perform filters to focus on specific areas\n",
    "df_filtered = df_trimmed.loc[(df_trimmed['state'].isin(['NSW']))]\n",
    "df_filtered = df_filtered.loc[(df_filtered['neighbourhood_cleansed'].isin(['BYRON SHIRE COUNCIL']))]\n",
    "df_filtered = df_filtered.loc[(df_filtered['property_type'] == 'House')]\n",
    "df_filtered = df_filtered.loc[(df_filtered['room_type'] == 'Entire home/apt')]\n"
   ]
  },
  {
   "cell_type": "code",
   "execution_count": 37,
   "metadata": {
    "colab": {
     "base_uri": "https://localhost:8080/",
     "height": 204
    },
    "colab_type": "code",
    "id": "Mrd_DVxyDa9u",
    "outputId": "be98bef2-d35b-4881-ec0b-b1b366ff2198"
   },
   "outputs": [
    {
     "data": {
      "text/html": [
       "<div>\n",
       "<style scoped>\n",
       "    .dataframe tbody tr th:only-of-type {\n",
       "        vertical-align: middle;\n",
       "    }\n",
       "\n",
       "    .dataframe tbody tr th {\n",
       "        vertical-align: top;\n",
       "    }\n",
       "\n",
       "    .dataframe thead th {\n",
       "        text-align: right;\n",
       "    }\n",
       "</style>\n",
       "<table border=\"1\" class=\"dataframe\">\n",
       "  <thead>\n",
       "    <tr style=\"text-align: right;\">\n",
       "      <th></th>\n",
       "      <th>id</th>\n",
       "      <th>country</th>\n",
       "      <th>state</th>\n",
       "      <th>neighbourhood_cleansed</th>\n",
       "      <th>property_type</th>\n",
       "      <th>square_meters</th>\n",
       "      <th>price</th>\n",
       "      <th>room_type</th>\n",
       "      <th>bathrooms</th>\n",
       "      <th>bedrooms</th>\n",
       "      <th>beds</th>\n",
       "    </tr>\n",
       "  </thead>\n",
       "  <tbody>\n",
       "    <tr>\n",
       "      <th>580</th>\n",
       "      <td>23906053</td>\n",
       "      <td>Australia</td>\n",
       "      <td>NSW</td>\n",
       "      <td>BYRON SHIRE COUNCIL</td>\n",
       "      <td>House</td>\n",
       "      <td>19.29</td>\n",
       "      <td>85.0</td>\n",
       "      <td>Entire home/apt</td>\n",
       "      <td>1.0</td>\n",
       "      <td>0.0</td>\n",
       "      <td>1.0</td>\n",
       "    </tr>\n",
       "    <tr>\n",
       "      <th>586</th>\n",
       "      <td>20332367</td>\n",
       "      <td>Australia</td>\n",
       "      <td>NSW</td>\n",
       "      <td>BYRON SHIRE COUNCIL</td>\n",
       "      <td>House</td>\n",
       "      <td>18.41</td>\n",
       "      <td>79.0</td>\n",
       "      <td>Entire home/apt</td>\n",
       "      <td>1.0</td>\n",
       "      <td>0.0</td>\n",
       "      <td>1.0</td>\n",
       "    </tr>\n",
       "    <tr>\n",
       "      <th>594</th>\n",
       "      <td>13484355</td>\n",
       "      <td>Australia</td>\n",
       "      <td>NSW</td>\n",
       "      <td>BYRON SHIRE COUNCIL</td>\n",
       "      <td>House</td>\n",
       "      <td>20.40</td>\n",
       "      <td>100.0</td>\n",
       "      <td>Entire home/apt</td>\n",
       "      <td>1.5</td>\n",
       "      <td>3.0</td>\n",
       "      <td>4.0</td>\n",
       "    </tr>\n",
       "    <tr>\n",
       "      <th>639</th>\n",
       "      <td>11660091</td>\n",
       "      <td>Australia</td>\n",
       "      <td>NSW</td>\n",
       "      <td>BYRON SHIRE COUNCIL</td>\n",
       "      <td>House</td>\n",
       "      <td>21.02</td>\n",
       "      <td>115.0</td>\n",
       "      <td>Entire home/apt</td>\n",
       "      <td>1.0</td>\n",
       "      <td>2.0</td>\n",
       "      <td>2.0</td>\n",
       "    </tr>\n",
       "    <tr>\n",
       "      <th>642</th>\n",
       "      <td>20873919</td>\n",
       "      <td>Australia</td>\n",
       "      <td>NSW</td>\n",
       "      <td>BYRON SHIRE COUNCIL</td>\n",
       "      <td>House</td>\n",
       "      <td>20.65</td>\n",
       "      <td>128.0</td>\n",
       "      <td>Entire home/apt</td>\n",
       "      <td>1.0</td>\n",
       "      <td>1.0</td>\n",
       "      <td>1.0</td>\n",
       "    </tr>\n",
       "  </tbody>\n",
       "</table>\n",
       "</div>"
      ],
      "text/plain": [
       "           id    country state neighbourhood_cleansed property_type  \\\n",
       "580  23906053  Australia   NSW    BYRON SHIRE COUNCIL         House   \n",
       "586  20332367  Australia   NSW    BYRON SHIRE COUNCIL         House   \n",
       "594  13484355  Australia   NSW    BYRON SHIRE COUNCIL         House   \n",
       "639  11660091  Australia   NSW    BYRON SHIRE COUNCIL         House   \n",
       "642  20873919  Australia   NSW    BYRON SHIRE COUNCIL         House   \n",
       "\n",
       "     square_meters  price        room_type  bathrooms  bedrooms  beds  \n",
       "580          19.29   85.0  Entire home/apt        1.0       0.0   1.0  \n",
       "586          18.41   79.0  Entire home/apt        1.0       0.0   1.0  \n",
       "594          20.40  100.0  Entire home/apt        1.5       3.0   4.0  \n",
       "639          21.02  115.0  Entire home/apt        1.0       2.0   2.0  \n",
       "642          20.65  128.0  Entire home/apt        1.0       1.0   1.0  "
      ]
     },
     "execution_count": 37,
     "metadata": {},
     "output_type": "execute_result"
    }
   ],
   "source": [
    "df_filtered.head()"
   ]
  },
  {
   "cell_type": "markdown",
   "metadata": {
    "colab_type": "text",
    "id": "PdqJCJYrDYc7"
   },
   "source": [
    "#  Column list:\n",
    "\n",
    "id - the id number of a record\n",
    "\n",
    "country - the country of a record -- only \"Australia\" is included\n",
    "\n",
    "state - the state of a record(e.g., NSW,QLD,)--Only \"NSW\" is included\n",
    "\n",
    "neighbourhood_cleansed - A modified version of the neighborhood that can be used for grouping -- Only \"BYRON SHIRE COUNCIL\" is included\n",
    "\n",
    "property_type - The type of property that is being listed (e.g., house, apartent, loft)--Only \"House\" is included\n",
    "\n",
    "square_meters - The size of the Airbnb home in unit sq footage.\n",
    "\n",
    "price - The cost of the rental per night in USD.\n",
    "\n",
    "room_type - The type of room that is available for rent (e.g., a shared room)---Only \"Entire home/apt\" is included.\n",
    "\n",
    "bedrooms - The count of bedrooms available (e.g., 0, 1, 2).\n",
    "\n",
    "bathrooms - The count of bathrooms available (e.g., 1, 2, 1.5).\n",
    "\n",
    "beds - The count of beds available in the rental (e.g., 0, 1, 2).\n",
    "\n",
    "\n"
   ]
  },
  {
   "cell_type": "markdown",
   "metadata": {
    "colab_type": "text",
    "id": "6LA6Qy3gcTH-"
   },
   "source": [
    "# Describe quantitative variables"
   ]
  },
  {
   "cell_type": "code",
   "execution_count": 38,
   "metadata": {
    "colab": {
     "base_uri": "https://localhost:8080/",
     "height": 297
    },
    "colab_type": "code",
    "id": "rjGPXHXbqQ5d",
    "outputId": "d38e552c-0ff5-41d5-c97d-44c4fd4276e4"
   },
   "outputs": [
    {
     "data": {
      "text/html": [
       "<div>\n",
       "<style scoped>\n",
       "    .dataframe tbody tr th:only-of-type {\n",
       "        vertical-align: middle;\n",
       "    }\n",
       "\n",
       "    .dataframe tbody tr th {\n",
       "        vertical-align: top;\n",
       "    }\n",
       "\n",
       "    .dataframe thead th {\n",
       "        text-align: right;\n",
       "    }\n",
       "</style>\n",
       "<table border=\"1\" class=\"dataframe\">\n",
       "  <thead>\n",
       "    <tr style=\"text-align: right;\">\n",
       "      <th></th>\n",
       "      <th>id</th>\n",
       "      <th>square_meters</th>\n",
       "      <th>price</th>\n",
       "      <th>bathrooms</th>\n",
       "      <th>bedrooms</th>\n",
       "      <th>beds</th>\n",
       "    </tr>\n",
       "  </thead>\n",
       "  <tbody>\n",
       "    <tr>\n",
       "      <th>count</th>\n",
       "      <td>1.178000e+03</td>\n",
       "      <td>1178.000000</td>\n",
       "      <td>1178.000000</td>\n",
       "      <td>1178.000000</td>\n",
       "      <td>1178.000000</td>\n",
       "      <td>1178.000000</td>\n",
       "    </tr>\n",
       "    <tr>\n",
       "      <th>mean</th>\n",
       "      <td>1.763836e+07</td>\n",
       "      <td>30.020458</td>\n",
       "      <td>1293.271647</td>\n",
       "      <td>2.041596</td>\n",
       "      <td>3.192699</td>\n",
       "      <td>4.105263</td>\n",
       "    </tr>\n",
       "    <tr>\n",
       "      <th>std</th>\n",
       "      <td>9.556176e+06</td>\n",
       "      <td>3.556916</td>\n",
       "      <td>856.590077</td>\n",
       "      <td>0.927702</td>\n",
       "      <td>1.153936</td>\n",
       "      <td>1.916912</td>\n",
       "    </tr>\n",
       "    <tr>\n",
       "      <th>min</th>\n",
       "      <td>2.817860e+05</td>\n",
       "      <td>18.410000</td>\n",
       "      <td>79.000000</td>\n",
       "      <td>0.000000</td>\n",
       "      <td>0.000000</td>\n",
       "      <td>0.000000</td>\n",
       "    </tr>\n",
       "    <tr>\n",
       "      <th>25%</th>\n",
       "      <td>9.794766e+06</td>\n",
       "      <td>27.992500</td>\n",
       "      <td>653.500000</td>\n",
       "      <td>1.000000</td>\n",
       "      <td>3.000000</td>\n",
       "      <td>3.000000</td>\n",
       "    </tr>\n",
       "    <tr>\n",
       "      <th>50%</th>\n",
       "      <td>1.805329e+07</td>\n",
       "      <td>30.390000</td>\n",
       "      <td>1100.000000</td>\n",
       "      <td>2.000000</td>\n",
       "      <td>3.000000</td>\n",
       "      <td>4.000000</td>\n",
       "    </tr>\n",
       "    <tr>\n",
       "      <th>75%</th>\n",
       "      <td>2.429335e+07</td>\n",
       "      <td>32.410000</td>\n",
       "      <td>1712.000000</td>\n",
       "      <td>2.500000</td>\n",
       "      <td>4.000000</td>\n",
       "      <td>5.000000</td>\n",
       "    </tr>\n",
       "    <tr>\n",
       "      <th>max</th>\n",
       "      <td>3.423125e+07</td>\n",
       "      <td>37.770000</td>\n",
       "      <td>4000.000000</td>\n",
       "      <td>9.000000</td>\n",
       "      <td>12.000000</td>\n",
       "      <td>18.000000</td>\n",
       "    </tr>\n",
       "  </tbody>\n",
       "</table>\n",
       "</div>"
      ],
      "text/plain": [
       "                 id  square_meters        price    bathrooms     bedrooms  \\\n",
       "count  1.178000e+03    1178.000000  1178.000000  1178.000000  1178.000000   \n",
       "mean   1.763836e+07      30.020458  1293.271647     2.041596     3.192699   \n",
       "std    9.556176e+06       3.556916   856.590077     0.927702     1.153936   \n",
       "min    2.817860e+05      18.410000    79.000000     0.000000     0.000000   \n",
       "25%    9.794766e+06      27.992500   653.500000     1.000000     3.000000   \n",
       "50%    1.805329e+07      30.390000  1100.000000     2.000000     3.000000   \n",
       "75%    2.429335e+07      32.410000  1712.000000     2.500000     4.000000   \n",
       "max    3.423125e+07      37.770000  4000.000000     9.000000    12.000000   \n",
       "\n",
       "              beds  \n",
       "count  1178.000000  \n",
       "mean      4.105263  \n",
       "std       1.916912  \n",
       "min       0.000000  \n",
       "25%       3.000000  \n",
       "50%       4.000000  \n",
       "75%       5.000000  \n",
       "max      18.000000  "
      ]
     },
     "execution_count": 38,
     "metadata": {},
     "output_type": "execute_result"
    }
   ],
   "source": [
    "df_filtered.describe()"
   ]
  },
  {
   "cell_type": "markdown",
   "metadata": {
    "colab_type": "text",
    "id": "DcMEO-M5hY92"
   },
   "source": [
    "# Describe qualitative variables"
   ]
  },
  {
   "cell_type": "code",
   "execution_count": 39,
   "metadata": {
    "colab": {
     "base_uri": "https://localhost:8080/",
     "height": 173
    },
    "colab_type": "code",
    "id": "frOZKbrfqQ8_",
    "outputId": "6f7e7d2a-e9c5-4cf9-fe5f-565e87630c4c"
   },
   "outputs": [
    {
     "data": {
      "text/html": [
       "<div>\n",
       "<style scoped>\n",
       "    .dataframe tbody tr th:only-of-type {\n",
       "        vertical-align: middle;\n",
       "    }\n",
       "\n",
       "    .dataframe tbody tr th {\n",
       "        vertical-align: top;\n",
       "    }\n",
       "\n",
       "    .dataframe thead th {\n",
       "        text-align: right;\n",
       "    }\n",
       "</style>\n",
       "<table border=\"1\" class=\"dataframe\">\n",
       "  <thead>\n",
       "    <tr style=\"text-align: right;\">\n",
       "      <th></th>\n",
       "      <th>country</th>\n",
       "      <th>state</th>\n",
       "      <th>neighbourhood_cleansed</th>\n",
       "      <th>property_type</th>\n",
       "      <th>room_type</th>\n",
       "    </tr>\n",
       "  </thead>\n",
       "  <tbody>\n",
       "    <tr>\n",
       "      <th>count</th>\n",
       "      <td>1178</td>\n",
       "      <td>1178</td>\n",
       "      <td>1178</td>\n",
       "      <td>1178</td>\n",
       "      <td>1178</td>\n",
       "    </tr>\n",
       "    <tr>\n",
       "      <th>unique</th>\n",
       "      <td>1</td>\n",
       "      <td>1</td>\n",
       "      <td>1</td>\n",
       "      <td>1</td>\n",
       "      <td>1</td>\n",
       "    </tr>\n",
       "    <tr>\n",
       "      <th>top</th>\n",
       "      <td>Australia</td>\n",
       "      <td>NSW</td>\n",
       "      <td>BYRON SHIRE COUNCIL</td>\n",
       "      <td>House</td>\n",
       "      <td>Entire home/apt</td>\n",
       "    </tr>\n",
       "    <tr>\n",
       "      <th>freq</th>\n",
       "      <td>1178</td>\n",
       "      <td>1178</td>\n",
       "      <td>1178</td>\n",
       "      <td>1178</td>\n",
       "      <td>1178</td>\n",
       "    </tr>\n",
       "  </tbody>\n",
       "</table>\n",
       "</div>"
      ],
      "text/plain": [
       "          country state neighbourhood_cleansed property_type        room_type\n",
       "count        1178  1178                   1178          1178             1178\n",
       "unique          1     1                      1             1                1\n",
       "top     Australia   NSW    BYRON SHIRE COUNCIL         House  Entire home/apt\n",
       "freq         1178  1178                   1178          1178             1178"
      ]
     },
     "execution_count": 39,
     "metadata": {},
     "output_type": "execute_result"
    }
   ],
   "source": [
    "df_filtered[['country','state','neighbourhood_cleansed','property_type','room_type']].describe()"
   ]
  },
  {
   "cell_type": "markdown",
   "metadata": {
    "colab_type": "text",
    "id": "ClYLAvG-h0SD"
   },
   "source": [
    "# Graphical Portion"
   ]
  },
  {
   "cell_type": "code",
   "execution_count": 42,
   "metadata": {
    "colab": {
     "base_uri": "https://localhost:8080/",
     "height": 299
    },
    "colab_type": "code",
    "id": "vkdiVLB2h0EM",
    "outputId": "20364387-c29e-4096-b44a-516ec1feb77e"
   },
   "outputs": [
    {
     "data": {
      "text/plain": [
       "Text(0.5, 0, 'price($)')"
      ]
     },
     "execution_count": 42,
     "metadata": {},
     "output_type": "execute_result"
    },
    {
     "data": {
      "image/png": "[encoded data removed]",
      "text/plain": [
       "<Figure size 1080x432 with 1 Axes>"
      ]
     },
     "metadata": {},
     "output_type": "display_data"
    }
   ],
   "source": [
    "sns.distplot(df_filtered['price'],kde=False)\n",
    "plt.xlabel('price($)')"
   ]
  },
  {
   "cell_type": "code",
   "execution_count": 41,
   "metadata": {
    "colab": {
     "base_uri": "https://localhost:8080/",
     "height": 458
    },
    "colab_type": "code",
    "id": "JQJD6mnwqRA8",
    "outputId": "8d0530db-5468-4459-eb02-da21ef8f3d47"
   },
   "outputs": [
    {
     "data": {
      "text/plain": [
       "<seaborn.axisgrid.JointGrid at 0x7fb403140cd0>"
      ]
     },
     "execution_count": 41,
     "metadata": {},
     "output_type": "execute_result"
    },
    {
     "data": {
      "image/png": "[encoded data removed]",
      "text/plain": [
       "<Figure size 432x432 with 3 Axes>"
      ]
     },
     "metadata": {},
     "output_type": "display_data"
    }
   ],
   "source": [
    "sns.jointplot(x=\"square_meters\", y=\"price\",data=df_filtered)"
   ]
  },
  {
   "cell_type": "code",
   "execution_count": 43,
   "metadata": {
    "colab": {
     "base_uri": "https://localhost:8080/",
     "height": 458
    },
    "colab_type": "code",
    "id": "GFl5-m8eyQIn",
    "outputId": "866f55e0-ca01-422f-9d7f-053530567534"
   },
   "outputs": [
    {
     "data": {
      "text/plain": [
       "<seaborn.axisgrid.JointGrid at 0x7fb402f335d0>"
      ]
     },
     "execution_count": 43,
     "metadata": {},
     "output_type": "execute_result"
    },
    {
     "data": {
      "image/png": "[encoded data removed]",
      "text/plain": [
       "<Figure size 432x432 with 3 Axes>"
      ]
     },
     "metadata": {},
     "output_type": "display_data"
    }
   ],
   "source": [
    "sns.jointplot(x=\"bedrooms\",y=\"price\",data=df_filtered, kind=\"hex\",color=\"red\")"
   ]
  },
  {
   "cell_type": "code",
   "execution_count": 44,
   "metadata": {
    "colab": {
     "base_uri": "https://localhost:8080/",
     "height": 458
    },
    "colab_type": "code",
    "id": "HzaA9dUVyQPs",
    "outputId": "6cd9abd1-0a6a-4b58-e1b2-492f46c060dd"
   },
   "outputs": [
    {
     "data": {
      "text/plain": [
       "<seaborn.axisgrid.JointGrid at 0x7fb404886810>"
      ]
     },
     "execution_count": 44,
     "metadata": {},
     "output_type": "execute_result"
    },
    {
     "data": {
      "image/png": "[encoded data removed]",
      "text/plain": [
       "<Figure size 432x432 with 3 Axes>"
      ]
     },
     "metadata": {},
     "output_type": "display_data"
    }
   ],
   "source": [
    "sns.jointplot(x=\"beds\",y=\"price\",data=df_filtered,color=\"green\")"
   ]
  },
  {
   "cell_type": "markdown",
   "metadata": {
    "colab_type": "text",
    "id": "St_7YxhWmcn9"
   },
   "source": [
    "# Regression approach"
   ]
  },
  {
   "cell_type": "code",
   "execution_count": 46,
   "metadata": {
    "colab": {},
    "colab_type": "code",
    "id": "cr5m1JER9IvE"
   },
   "outputs": [],
   "source": [
    "X_cols = ['square_meters']\n",
    "\n",
    "#Load the X data set\n",
    "X = df_filtered[X_cols].values\n",
    "\n",
    "#Initialize the data and column length variables\n",
    "data_length = len(df_filtered)\n",
    "column_length = len(df_filtered[X_cols].columns)\n",
    "\n",
    "#Reshape and load remaining data sets\n",
    "X = X.reshape(data_length,column_length)\n",
    "y = df_filtered['price'].values\n",
    "y = y.reshape(data_length,1)\n",
    "\n",
    "#Split the data into training and testing sets\n",
    "X_train, X_test, y_train, y_test = train_test_split(X,y)\n",
    "\n",
    "#Create the linear regression object and train/fit models\n",
    "lin_reg = LinearRegression()\n",
    "lin_reg.fit(X_train, y_train)\n",
    "\n",
    "#Make predictions using the testing set\n",
    "y_pred = lin_reg.predict(X_test)"
   ]
  },
  {
   "cell_type": "markdown",
   "metadata": {
    "colab_type": "text",
    "id": "IZ54gq28rp3H"
   },
   "source": [
    "# Take the results from above and print out a few pieces of information"
   ]
  },
  {
   "cell_type": "code",
   "execution_count": 47,
   "metadata": {
    "colab": {
     "base_uri": "https://localhost:8080/",
     "height": 204
    },
    "colab_type": "code",
    "id": "IZrKR5n2yQ62",
    "outputId": "9742edc4-28c8-4b20-80ef-de79b5db3539"
   },
   "outputs": [
    {
     "name": "stdout",
     "output_type": "stream",
     "text": [
      "   y_prediction\n",
      "0   2660.616181\n",
      "1   1213.145184\n",
      "2    216.281898\n",
      "3   1961.324026\n",
      "4   2184.502373\n",
      "The intercept is: -5082.609725618362\n",
      "The coefficient is : 212.55080721855705\n",
      "MSE: 151964.62887164275\n",
      "RMSE: 389.8264086380536\n",
      "Variance Score (R^2):0.78\n"
     ]
    }
   ],
   "source": [
    "#Print a few predictions\n",
    "print((pd.DataFrame(y_pred, columns={'y_prediction'}).head(5)))\n",
    "#Print the intercept\n",
    "print('The intercept is: {}'.format(float(lin_reg.intercept_)))\n",
    "#Print the coefficient(s)\n",
    "print('The coefficient is : {}'.format(float(lin_reg.coef_)))\n",
    "#Performance Metric: Mean Squared Error\n",
    "print('MSE:', metrics.mean_squared_error(y_test, y_pred))\n",
    "#performance Metric: Root_Mean_Square_Error\n",
    "print('RMSE:', np.sqrt(metrics.mean_squared_error(y_test, y_pred)))\n",
    "print('Variance Score (R^2):%.2f' % r2_score(y_test,y_pred))"
   ]
  },
  {
   "cell_type": "code",
   "execution_count": 48,
   "metadata": {
    "colab": {
     "base_uri": "https://localhost:8080/",
     "height": 297
    },
    "colab_type": "code",
    "id": "mmtdwh5JyRED",
    "outputId": "3195ab9c-52f1-41f6-c0a0-8c4125059b81"
   },
   "outputs": [
    {
     "data": {
      "text/plain": [
       "[<matplotlib.lines.Line2D at 0x7fb404c14cd0>]"
      ]
     },
     "execution_count": 48,
     "metadata": {},
     "output_type": "execute_result"
    },
    {
     "data": {
      "image/png": "[encoded data removed]",
      "text/plain": [
       "<Figure size 1080x432 with 1 Axes>"
      ]
     },
     "metadata": {},
     "output_type": "display_data"
    }
   ],
   "source": [
    "sns.scatterplot(x=\"square_meters\", y=\"price\",data=df_filtered)\n",
    "plt.plot(X_test,y_pred)"
   ]
  },
  {
   "cell_type": "code",
   "execution_count": 49,
   "metadata": {
    "colab": {
     "base_uri": "https://localhost:8080/",
     "height": 282
    },
    "colab_type": "code",
    "id": "jBG4BRyayRY4",
    "outputId": "8687546c-c783-4f63-cc33-c5f8d7c42c47"
   },
   "outputs": [
    {
     "data": {
      "text/plain": [
       "<matplotlib.axes._subplots.AxesSubplot at 0x7fb404eef0d0>"
      ]
     },
     "execution_count": 49,
     "metadata": {},
     "output_type": "execute_result"
    },
    {
     "data": {
      "image/png": "[encoded data removed]",
      "text/plain": [
       "<Figure size 1080x432 with 1 Axes>"
      ]
     },
     "metadata": {},
     "output_type": "display_data"
    }
   ],
   "source": [
    "#Plot the residual\n",
    "sns.distplot(y_test-y_pred)"
   ]
  },
  {
   "cell_type": "markdown",
   "metadata": {
    "colab_type": "text",
    "id": "4wP4v9p1S7v2"
   },
   "source": [
    "#Repeat the previous analysis, but with a few more variables."
   ]
  },
  {
   "cell_type": "code",
   "execution_count": 50,
   "metadata": {
    "colab": {},
    "colab_type": "code",
    "id": "R82ndZS6yRc2"
   },
   "outputs": [],
   "source": [
    "X2 = df_filtered[['square_meters','bathrooms','bedrooms','beds']] \n",
    "y2 =df_filtered['price']"
   ]
  },
  {
   "cell_type": "code",
   "execution_count": 51,
   "metadata": {
    "colab": {},
    "colab_type": "code",
    "id": "8O4Z_Wt8rP93"
   },
   "outputs": [],
   "source": [
    "#Split the data into training and testing sets\n",
    "X_train2, X_test2, y_train2, y_test2 = train_test_split(X2,y2)"
   ]
  },
  {
   "cell_type": "code",
   "execution_count": 52,
   "metadata": {
    "colab": {
     "base_uri": "https://localhost:8080/",
     "height": 34
    },
    "colab_type": "code",
    "id": "UNC5ZhyarP0g",
    "outputId": "c42113fb-143e-46cc-da5e-f6e5cb99d1f8"
   },
   "outputs": [
    {
     "data": {
      "text/plain": [
       "LinearRegression(copy_X=True, fit_intercept=True, n_jobs=None, normalize=False)"
      ]
     },
     "execution_count": 52,
     "metadata": {},
     "output_type": "execute_result"
    }
   ],
   "source": [
    "#Create the linear regression object and train/fit models\n",
    "lin_reg2= LinearRegression()\n",
    "lin_reg2.fit(X_train2, y_train2)"
   ]
  },
  {
   "cell_type": "code",
   "execution_count": 53,
   "metadata": {
    "colab": {},
    "colab_type": "code",
    "id": "Qli4j1sSrPy0"
   },
   "outputs": [],
   "source": [
    "#Make predictions using the testing set\n",
    "y_pred2 = lin_reg2.predict(X_test2)"
   ]
  },
  {
   "cell_type": "code",
   "execution_count": 54,
   "metadata": {},
   "outputs": [
    {
     "data": {
      "text/plain": [
       "Index(['square_meters', 'bathrooms', 'bedrooms', 'beds'], dtype='object')"
      ]
     },
     "execution_count": 54,
     "metadata": {},
     "output_type": "execute_result"
    }
   ],
   "source": [
    "X2.columns"
   ]
  },
  {
   "cell_type": "code",
   "execution_count": 55,
   "metadata": {},
   "outputs": [],
   "source": [
    "cdf=pd.DataFrame(lin_reg2.coef_, X2.columns, columns=['coeff'])"
   ]
  },
  {
   "cell_type": "code",
   "execution_count": 56,
   "metadata": {},
   "outputs": [
    {
     "data": {
      "text/html": [
       "<div>\n",
       "<style scoped>\n",
       "    .dataframe tbody tr th:only-of-type {\n",
       "        vertical-align: middle;\n",
       "    }\n",
       "\n",
       "    .dataframe tbody tr th {\n",
       "        vertical-align: top;\n",
       "    }\n",
       "\n",
       "    .dataframe thead th {\n",
       "        text-align: right;\n",
       "    }\n",
       "</style>\n",
       "<table border=\"1\" class=\"dataframe\">\n",
       "  <thead>\n",
       "    <tr style=\"text-align: right;\">\n",
       "      <th></th>\n",
       "      <th>coeff</th>\n",
       "    </tr>\n",
       "  </thead>\n",
       "  <tbody>\n",
       "    <tr>\n",
       "      <th>square_meters</th>\n",
       "      <td>197.232302</td>\n",
       "    </tr>\n",
       "    <tr>\n",
       "      <th>bathrooms</th>\n",
       "      <td>90.678668</td>\n",
       "    </tr>\n",
       "    <tr>\n",
       "      <th>bedrooms</th>\n",
       "      <td>53.515614</td>\n",
       "    </tr>\n",
       "    <tr>\n",
       "      <th>beds</th>\n",
       "      <td>-7.945235</td>\n",
       "    </tr>\n",
       "  </tbody>\n",
       "</table>\n",
       "</div>"
      ],
      "text/plain": [
       "                    coeff\n",
       "square_meters  197.232302\n",
       "bathrooms       90.678668\n",
       "bedrooms        53.515614\n",
       "beds            -7.945235"
      ]
     },
     "execution_count": 56,
     "metadata": {},
     "output_type": "execute_result"
    }
   ],
   "source": [
    "cdf"
   ]
  },
  {
   "cell_type": "markdown",
   "metadata": {
    "colab_type": "text",
    "id": "jwTTlBgkWUv9"
   },
   "source": [
    "# Take the results from above and print out a few pieces of information"
   ]
  },
  {
   "cell_type": "code",
   "execution_count": 57,
   "metadata": {
    "colab": {
     "base_uri": "https://localhost:8080/",
     "height": 221
    },
    "colab_type": "code",
    "id": "9_XOCz4xrPsu",
    "outputId": "3ab23023-0d04-4615-9a3f-0b28b741dc1f",
    "scrolled": true
   },
   "outputs": [
    {
     "name": "stdout",
     "output_type": "stream",
     "text": [
      "   y_prediction\n",
      "0   1184.384882\n",
      "1   1480.234653\n",
      "2   1253.162365\n",
      "3   1900.084316\n",
      "4   1481.951835\n",
      "The intercept is: -4946.166408879679\n",
      "                    coeff\n",
      "square_meters  197.232302\n",
      "bathrooms       90.678668\n",
      "bedrooms        53.515614\n",
      "beds            -7.945235\n",
      "MSE: 142531.9562461151\n",
      "RMSE: 377.5340464727851\n",
      "Variance Score (R^2):0.79\n"
     ]
    }
   ],
   "source": [
    "#Print a few predictions\n",
    "print((pd.DataFrame(y_pred2, columns={'y_prediction'}).head(5)))\n",
    "#Print the intercept\n",
    "print('The intercept is: {}'.format(float(lin_reg2.intercept_)))\n",
    "#Print the coefficient(s)\n",
    "#print(coeff_df2)\n",
    "cdf=pd.DataFrame(lin_reg2.coef_,X2.columns,columns=['coeff'])\n",
    "print(cdf)\n",
    "#print('Coefficients: \\n', lin_reg2.coef_)\n",
    "#Performance Metric: Mean Squared Error\n",
    "print('MSE:', metrics.mean_squared_error(y_test2, y_pred2))\n",
    "#performance Metric: Root_Mean_Square_Error\n",
    "print('RMSE:', np.sqrt(metrics.mean_squared_error(y_test2, y_pred2)))\n",
    "print('Variance Score (R^2):%.2f' % r2_score(y_test2,y_pred2))"
   ]
  },
  {
   "cell_type": "code",
   "execution_count": 58,
   "metadata": {
    "colab": {
     "base_uri": "https://localhost:8080/",
     "height": 296
    },
    "colab_type": "code",
    "id": "eeMdu6LWUSas",
    "outputId": "a649b132-4627-4bbc-93cf-7fec595fd556"
   },
   "outputs": [
    {
     "data": {
      "text/plain": [
       "<matplotlib.axes._subplots.AxesSubplot at 0x7fb4052a2350>"
      ]
     },
     "execution_count": 58,
     "metadata": {},
     "output_type": "execute_result"
    },
    {
     "data": {
      "image/png": "[encoded data removed]",
      "text/plain": [
       "<Figure size 1080x432 with 1 Axes>"
      ]
     },
     "metadata": {},
     "output_type": "display_data"
    }
   ],
   "source": [
    "#Plot the residual\n",
    "sns.distplot(y_test2-y_pred2)"
   ]
  },
  {
   "cell_type": "markdown",
   "metadata": {
    "colab_type": "text",
    "id": "yIiI1yD2w28N"
   },
   "source": [
    "# EXplore more neighbourhood"
   ]
  },
  {
   "cell_type": "code",
   "execution_count": 59,
   "metadata": {
    "colab": {
     "base_uri": "https://localhost:8080/",
     "height": 119
    },
    "colab_type": "code",
    "id": "hRj0kJgbw0xk",
    "outputId": "f79e0086-b5a1-49d1-a5a1-137f07b9705f"
   },
   "outputs": [
    {
     "data": {
      "text/plain": [
       "BYRON SHIRE COUNCIL        2496\n",
       "TWEED SHIRE COUNCIL         880\n",
       "BALLINA SHIRE COUNCIL       453\n",
       "LISMORE CITY COUNCIL        127\n",
       "RICHMOND VALLEY COUNCIL      18\n",
       "Name: neighbourhood_cleansed, dtype: int64"
      ]
     },
     "execution_count": 59,
     "metadata": {},
     "output_type": "execute_result"
    }
   ],
   "source": [
    "\n",
    "df[\"neighbourhood_cleansed\"].value_counts()"
   ]
  },
  {
   "cell_type": "code",
   "execution_count": 60,
   "metadata": {
    "colab": {},
    "colab_type": "code",
    "id": "PCro7zpJz42B"
   },
   "outputs": [],
   "source": [
    "df_filtered = df_trimmed.loc[(df_trimmed['state'].isin(['NSW']))]\n",
    "df_filtered = df_filtered.loc[(df_filtered['neighbourhood_cleansed'].isin(['BYRON SHIRE COUNCIL','TWEED SHIRE COUNCIL','BALLINA SHIRE COUNCIL']))]\n",
    "df_filtered = df_filtered.loc[(df_filtered['property_type'] == 'House')]\n",
    "df_filtered = df_filtered.loc[(df_filtered['room_type'] == 'Entire home/apt')]\n"
   ]
  },
  {
   "cell_type": "code",
   "execution_count": 63,
   "metadata": {
    "colab": {
     "base_uri": "https://localhost:8080/",
     "height": 381
    },
    "colab_type": "code",
    "id": "JoQi12eQw1Mv",
    "outputId": "a884fffb-647b-4e60-daa2-7c9e48317a17"
   },
   "outputs": [
    {
     "data": {
      "text/plain": [
       "Text(0, 0.5, 'price($)')"
      ]
     },
     "execution_count": 63,
     "metadata": {},
     "output_type": "execute_result"
    },
    {
     "data": {
      "image/png": "[encoded data removed]",
      "text/plain": [
       "<Figure size 1080x432 with 1 Axes>"
      ]
     },
     "metadata": {},
     "output_type": "display_data"
    }
   ],
   "source": [
    "sns.boxplot(x=\"neighbourhood_cleansed\",y=\"price\",data=df_filtered)\n",
    "plt.ylabel('price($)')"
   ]
  },
  {
   "cell_type": "markdown",
   "metadata": {
    "colab_type": "text",
    "id": "qOxnflmM5-Je"
   },
   "source": [
    "# Explore the price of TWEED SHIRE COUNCIL"
   ]
  },
  {
   "cell_type": "code",
   "execution_count": 64,
   "metadata": {
    "colab": {},
    "colab_type": "code",
    "id": "_ZxlswQ2z4vU"
   },
   "outputs": [],
   "source": [
    "df_filtered = df_filtered.loc[(df_filtered['neighbourhood_cleansed'].isin(['TWEED SHIRE COUNCIL']))]"
   ]
  },
  {
   "cell_type": "markdown",
   "metadata": {
    "colab_type": "text",
    "id": "gZPF8JYx6TdK"
   },
   "source": [
    "variable -- 'square_meters'"
   ]
  },
  {
   "cell_type": "code",
   "execution_count": 65,
   "metadata": {
    "colab": {},
    "colab_type": "code",
    "id": "BGvLCFjFw1oc"
   },
   "outputs": [],
   "source": [
    "X3 = df_filtered[['square_meters']] \n",
    "y3 =df_filtered['price']"
   ]
  },
  {
   "cell_type": "code",
   "execution_count": 66,
   "metadata": {
    "colab": {},
    "colab_type": "code",
    "id": "tEiPB34yw1bD"
   },
   "outputs": [],
   "source": [
    "X_train3, X_test3, y_train3, y_test3 = train_test_split(X3,y3)"
   ]
  },
  {
   "cell_type": "code",
   "execution_count": 67,
   "metadata": {
    "colab": {
     "base_uri": "https://localhost:8080/",
     "height": 34
    },
    "colab_type": "code",
    "id": "ensIR_nhw1ZN",
    "outputId": "b9884025-641b-4210-dc71-f20ecd5a7728"
   },
   "outputs": [
    {
     "data": {
      "text/plain": [
       "LinearRegression(copy_X=True, fit_intercept=True, n_jobs=None, normalize=False)"
      ]
     },
     "execution_count": 67,
     "metadata": {},
     "output_type": "execute_result"
    }
   ],
   "source": [
    "lin_reg3= LinearRegression()\n",
    "lin_reg3.fit(X_train3, y_train3)"
   ]
  },
  {
   "cell_type": "code",
   "execution_count": 68,
   "metadata": {
    "colab": {},
    "colab_type": "code",
    "id": "D9P0Jty9w1WM"
   },
   "outputs": [],
   "source": [
    "y_pred3 = lin_reg3.predict(X_test3)"
   ]
  },
  {
   "cell_type": "code",
   "execution_count": 69,
   "metadata": {},
   "outputs": [],
   "source": [
    "cdf3=pd.DataFrame(lin_reg3.coef_,X3.columns, columns = ['coeff'])"
   ]
  },
  {
   "cell_type": "code",
   "execution_count": 70,
   "metadata": {},
   "outputs": [
    {
     "data": {
      "text/html": [
       "<div>\n",
       "<style scoped>\n",
       "    .dataframe tbody tr th:only-of-type {\n",
       "        vertical-align: middle;\n",
       "    }\n",
       "\n",
       "    .dataframe tbody tr th {\n",
       "        vertical-align: top;\n",
       "    }\n",
       "\n",
       "    .dataframe thead th {\n",
       "        text-align: right;\n",
       "    }\n",
       "</style>\n",
       "<table border=\"1\" class=\"dataframe\">\n",
       "  <thead>\n",
       "    <tr style=\"text-align: right;\">\n",
       "      <th></th>\n",
       "      <th>coeff</th>\n",
       "    </tr>\n",
       "  </thead>\n",
       "  <tbody>\n",
       "    <tr>\n",
       "      <th>square_meters</th>\n",
       "      <td>-9.246404</td>\n",
       "    </tr>\n",
       "  </tbody>\n",
       "</table>\n",
       "</div>"
      ],
      "text/plain": [
       "                  coeff\n",
       "square_meters -9.246404"
      ]
     },
     "execution_count": 70,
     "metadata": {},
     "output_type": "execute_result"
    }
   ],
   "source": [
    "cdf3"
   ]
  },
  {
   "cell_type": "code",
   "execution_count": 71,
   "metadata": {
    "colab": {
     "base_uri": "https://localhost:8080/",
     "height": 204
    },
    "colab_type": "code",
    "id": "QZe8r4tA5Q2b",
    "outputId": "83e62663-dcfb-459f-dc3b-504731eeee8a"
   },
   "outputs": [
    {
     "name": "stdout",
     "output_type": "stream",
     "text": [
      "   y_prediction\n",
      "0    774.507241\n",
      "1    789.024095\n",
      "2    898.593977\n",
      "3    740.295548\n",
      "4    830.355519\n",
      "The intercept is: 1275.7547783201776\n",
      "The coefficient is : -9.246403564046643\n",
      "MSE: 223403.94534856608\n",
      "RMSE: 472.65626553402006\n",
      "Variance Score (R^2):-0.03\n"
     ]
    }
   ],
   "source": [
    "#print a few predictions\n",
    "print((pd.DataFrame(y_pred3, columns=['y_prediction']).head(5)))\n",
    "#Print the intercept\n",
    "print('The intercept is: {}'.format(float(lin_reg3.intercept_)))\n",
    "#Print the coefficient(s)\n",
    "print('The coefficient is : {}'.format(float(lin_reg3.coef_)))\n",
    "#Performance Metric: Mean Squared Error\n",
    "print('MSE:', metrics.mean_squared_error(y_test3, y_pred3))\n",
    "#performance Metric: Root_Mean_Square_Error\n",
    "print('RMSE:', np.sqrt(metrics.mean_squared_error(y_test3, y_pred3)))\n",
    "print('Variance Score (R^2):%.2f' % r2_score(y_test3,y_pred3))"
   ]
  },
  {
   "cell_type": "code",
   "execution_count": 72,
   "metadata": {
    "colab": {
     "base_uri": "https://localhost:8080/",
     "height": 297
    },
    "colab_type": "code",
    "id": "TLCCUiUUw1Tu",
    "outputId": "cddbe56c-259b-4208-c573-c08828a535c7"
   },
   "outputs": [
    {
     "data": {
      "text/plain": [
       "[<matplotlib.lines.Line2D at 0x7fb4057a7150>]"
      ]
     },
     "execution_count": 72,
     "metadata": {},
     "output_type": "execute_result"
    },
    {
     "data": {
      "image/png": "[encoded data removed]",
      "text/plain": [
       "<Figure size 1080x432 with 1 Axes>"
      ]
     },
     "metadata": {},
     "output_type": "display_data"
    }
   ],
   "source": [
    "sns.scatterplot(x=\"square_meters\", y=\"price\",data=df_filtered)\n",
    "plt.plot(X_test3,y_pred3)"
   ]
  },
  {
   "cell_type": "code",
   "execution_count": 73,
   "metadata": {
    "colab": {
     "base_uri": "https://localhost:8080/",
     "height": 296
    },
    "colab_type": "code",
    "id": "V5jBwsnb7RtN",
    "outputId": "5ce589c7-439f-4329-fb30-c58bafec84b3"
   },
   "outputs": [
    {
     "data": {
      "text/plain": [
       "<matplotlib.axes._subplots.AxesSubplot at 0x7fb4057c5fd0>"
      ]
     },
     "execution_count": 73,
     "metadata": {},
     "output_type": "execute_result"
    },
    {
     "data": {
      "image/png": "[encoded data removed]",
      "text/plain": [
       "<Figure size 1080x432 with 1 Axes>"
      ]
     },
     "metadata": {},
     "output_type": "display_data"
    }
   ],
   "source": [
    "#Plot the residual\n",
    "sns.distplot(y_test3-y_pred3)"
   ]
  },
  {
   "cell_type": "markdown",
   "metadata": {
    "colab_type": "text",
    "id": "DqGQlznE6rkO"
   },
   "source": [
    "Variables - 'square_meters' , 'bathrooms' , 'bedrooms' , 'beds'"
   ]
  },
  {
   "cell_type": "code",
   "execution_count": 74,
   "metadata": {
    "colab": {},
    "colab_type": "code",
    "id": "_FT1OuCd5Q8k"
   },
   "outputs": [],
   "source": [
    "X4 = df_filtered[['square_meters','bathrooms','bedrooms','beds']] \n",
    "y4 =df_filtered['price']"
   ]
  },
  {
   "cell_type": "code",
   "execution_count": 75,
   "metadata": {
    "colab": {},
    "colab_type": "code",
    "id": "Dr3npQGgw1Rg"
   },
   "outputs": [],
   "source": [
    "X_train4, X_test4, y_train4, y_test4 = train_test_split(X4,y4)"
   ]
  },
  {
   "cell_type": "code",
   "execution_count": 76,
   "metadata": {
    "colab": {
     "base_uri": "https://localhost:8080/",
     "height": 34
    },
    "colab_type": "code",
    "id": "xuZQOeEGw04Y",
    "outputId": "497a3d4b-5e1b-4e71-ba23-f2788709dfdc"
   },
   "outputs": [
    {
     "data": {
      "text/plain": [
       "LinearRegression(copy_X=True, fit_intercept=True, n_jobs=None, normalize=False)"
      ]
     },
     "execution_count": 76,
     "metadata": {},
     "output_type": "execute_result"
    }
   ],
   "source": [
    "lin_reg4= LinearRegression()\n",
    "lin_reg4.fit(X_train4, y_train4)"
   ]
  },
  {
   "cell_type": "code",
   "execution_count": 77,
   "metadata": {
    "colab": {},
    "colab_type": "code",
    "id": "A7adrG9bw02I"
   },
   "outputs": [],
   "source": [
    "y_pred4 = lin_reg4.predict(X_test4)"
   ]
  },
  {
   "cell_type": "code",
   "execution_count": 78,
   "metadata": {},
   "outputs": [],
   "source": [
    "#cdf4=pd.DataFrame(lin_reg4,X4.columns,X4.columns, columns=['coeff'])\n",
    "cdf4=pd.DataFrame(lin_reg4.coef_,X4.columns, columns = ['coeff'])"
   ]
  },
  {
   "cell_type": "code",
   "execution_count": 79,
   "metadata": {},
   "outputs": [
    {
     "data": {
      "text/html": [
       "<div>\n",
       "<style scoped>\n",
       "    .dataframe tbody tr th:only-of-type {\n",
       "        vertical-align: middle;\n",
       "    }\n",
       "\n",
       "    .dataframe tbody tr th {\n",
       "        vertical-align: top;\n",
       "    }\n",
       "\n",
       "    .dataframe thead th {\n",
       "        text-align: right;\n",
       "    }\n",
       "</style>\n",
       "<table border=\"1\" class=\"dataframe\">\n",
       "  <thead>\n",
       "    <tr style=\"text-align: right;\">\n",
       "      <th></th>\n",
       "      <th>coeff</th>\n",
       "    </tr>\n",
       "  </thead>\n",
       "  <tbody>\n",
       "    <tr>\n",
       "      <th>square_meters</th>\n",
       "      <td>-10.917884</td>\n",
       "    </tr>\n",
       "    <tr>\n",
       "      <th>bathrooms</th>\n",
       "      <td>265.987045</td>\n",
       "    </tr>\n",
       "    <tr>\n",
       "      <th>bedrooms</th>\n",
       "      <td>66.465214</td>\n",
       "    </tr>\n",
       "    <tr>\n",
       "      <th>beds</th>\n",
       "      <td>-7.377872</td>\n",
       "    </tr>\n",
       "  </tbody>\n",
       "</table>\n",
       "</div>"
      ],
      "text/plain": [
       "                    coeff\n",
       "square_meters  -10.917884\n",
       "bathrooms      265.987045\n",
       "bedrooms        66.465214\n",
       "beds            -7.377872"
      ]
     },
     "execution_count": 79,
     "metadata": {},
     "output_type": "execute_result"
    }
   ],
   "source": [
    "cdf4"
   ]
  },
  {
   "cell_type": "code",
   "execution_count": 80,
   "metadata": {
    "colab": {
     "base_uri": "https://localhost:8080/",
     "height": 221
    },
    "colab_type": "code",
    "id": "tcRWvdwOw0uU",
    "outputId": "67127015-2ac6-470c-e413-d2886d6f0fd4"
   },
   "outputs": [
    {
     "name": "stdout",
     "output_type": "stream",
     "text": [
      "   y_prediction\n",
      "0    536.973142\n",
      "1    885.010588\n",
      "2    703.246720\n",
      "3    524.654835\n",
      "4    739.739840\n",
      "The intercept is: 594.9583327721081\n",
      "Coefficients: \n",
      " [-10.91788414 265.98704459  66.46521445  -7.37787179]\n",
      "MSE: 130994.72629834391\n",
      "RMSE: 361.9319360022598\n",
      "Variance Score (R^2):0.41\n"
     ]
    }
   ],
   "source": [
    "#Print a few predictions\n",
    "print((pd.DataFrame(y_pred4, columns={'y_prediction'}).head(5)))\n",
    "#Print the intercept\n",
    "print('The intercept is: {}'.format(float(lin_reg4.intercept_)))\n",
    "#Print the coefficient(s)\n",
    "print('Coefficients: \\n', lin_reg4.coef_)\n",
    "#Performance Metric: Mean Squared Error\n",
    "print('MSE:', metrics.mean_squared_error(y_test4, y_pred4))\n",
    "#performance Metric: Root_Mean_Square_Error\n",
    "print('RMSE:', np.sqrt(metrics.mean_squared_error(y_test4, y_pred4)))\n",
    "print('Variance Score (R^2):%.2f' % r2_score(y_test4,y_pred4))"
   ]
  },
  {
   "cell_type": "code",
   "execution_count": 81,
   "metadata": {
    "colab": {
     "base_uri": "https://localhost:8080/",
     "height": 296
    },
    "colab_type": "code",
    "id": "KysWLT5N7-5m",
    "outputId": "551ffc22-a3f7-41e0-b6c0-159c0877944b"
   },
   "outputs": [
    {
     "data": {
      "text/plain": [
       "<matplotlib.axes._subplots.AxesSubplot at 0x7fb40269d610>"
      ]
     },
     "execution_count": 81,
     "metadata": {},
     "output_type": "execute_result"
    },
    {
     "data": {
      "image/png": "[encoded data removed]",
      "text/plain": [
       "<Figure size 1080x432 with 1 Axes>"
      ]
     },
     "metadata": {},
     "output_type": "display_data"
    }
   ],
   "source": [
    "#Plot the residual\n",
    "sns.distplot(y_test4-y_pred4)"
   ]
  },
  {
   "cell_type": "markdown",
   "metadata": {
    "colab_type": "text",
    "id": "N4h-kI3q87TQ"
   },
   "source": [
    "# Explore the price of BALLINA SHIRE COUNCIL"
   ]
  },
  {
   "cell_type": "code",
   "execution_count": 82,
   "metadata": {
    "colab": {},
    "colab_type": "code",
    "id": "t4-JotBK7_E3"
   },
   "outputs": [],
   "source": [
    "df_filtered = df_trimmed.loc[(df_trimmed['state'].isin(['NSW']))]\n",
    "df_filtered = df_filtered.loc[(df_filtered['neighbourhood_cleansed'].isin(['BALLINA SHIRE COUNCIL']))]\n",
    "df_filtered = df_filtered.loc[(df_filtered['property_type'] == 'House')]\n",
    "df_filtered = df_filtered.loc[(df_filtered['room_type'] == 'Entire home/apt')]"
   ]
  },
  {
   "cell_type": "markdown",
   "metadata": {
    "colab_type": "text",
    "id": "vUjbg0gM99M7"
   },
   "source": [
    "variable -- 'square_meters'"
   ]
  },
  {
   "cell_type": "code",
   "execution_count": 83,
   "metadata": {
    "colab": {},
    "colab_type": "code",
    "id": "Rk2S3-1h98by"
   },
   "outputs": [],
   "source": [
    "X5 = df_filtered[['square_meters']] \n",
    "y5 =df_filtered['price']"
   ]
  },
  {
   "cell_type": "code",
   "execution_count": 84,
   "metadata": {
    "colab": {},
    "colab_type": "code",
    "id": "gNXu_GV07_As"
   },
   "outputs": [],
   "source": [
    "X_train5, X_test5, y_train5, y_test5 = train_test_split(X5,y5)"
   ]
  },
  {
   "cell_type": "code",
   "execution_count": 85,
   "metadata": {
    "colab": {
     "base_uri": "https://localhost:8080/",
     "height": 34
    },
    "colab_type": "code",
    "id": "vEMhdnfR7-95",
    "outputId": "c5990cec-3d03-47cc-e93e-472983d1c5b1"
   },
   "outputs": [
    {
     "data": {
      "text/plain": [
       "LinearRegression(copy_X=True, fit_intercept=True, n_jobs=None, normalize=False)"
      ]
     },
     "execution_count": 85,
     "metadata": {},
     "output_type": "execute_result"
    }
   ],
   "source": [
    "lin_reg5= LinearRegression()\n",
    "lin_reg5.fit(X_train5, y_train5)"
   ]
  },
  {
   "cell_type": "code",
   "execution_count": 86,
   "metadata": {
    "colab": {},
    "colab_type": "code",
    "id": "G_fNdW3q7-2k"
   },
   "outputs": [],
   "source": [
    "y_pred5 = lin_reg5.predict(X_test5)"
   ]
  },
  {
   "cell_type": "code",
   "execution_count": 87,
   "metadata": {
    "colab": {
     "base_uri": "https://localhost:8080/",
     "height": 204
    },
    "colab_type": "code",
    "id": "qoOBaToW7-zY",
    "outputId": "bc4b30a9-c423-406e-bda8-bf103439df70"
   },
   "outputs": [
    {
     "name": "stdout",
     "output_type": "stream",
     "text": [
      "   y_prediction\n",
      "0    475.877510\n",
      "1    208.541188\n",
      "2   1596.676649\n",
      "3    735.943178\n",
      "4    384.155424\n",
      "The intercept is: -1207.5583239853277\n",
      "The coefficient is : 55.92810078373171\n",
      "MSE: 35911.27279775645\n",
      "RMSE: 189.50269865560344\n",
      "Variance Score (R^2):0.89\n"
     ]
    }
   ],
   "source": [
    "#print a few predictions\n",
    "print((pd.DataFrame(y_pred5, columns={'y_prediction'}).head(5)))\n",
    "#Print the intercept\n",
    "print('The intercept is: {}'.format(float(lin_reg5.intercept_)))\n",
    "#Print the coefficient(s)\n",
    "print('The coefficient is : {}'.format(float(lin_reg5.coef_)))\n",
    "#Performance Metric: Mean Squared Error\n",
    "print('MSE:', metrics.mean_squared_error(y_test5, y_pred5))\n",
    "#performance Metric: Root_Mean_Square_Error\n",
    "print('RMSE:', np.sqrt(metrics.mean_squared_error(y_test5, y_pred5)))\n",
    "print('Variance Score (R^2):%.2f' % r2_score(y_test5,y_pred5))"
   ]
  },
  {
   "cell_type": "code",
   "execution_count": 88,
   "metadata": {
    "colab": {
     "base_uri": "https://localhost:8080/",
     "height": 297
    },
    "colab_type": "code",
    "id": "rl-Pil4u7-wV",
    "outputId": "a2547ef6-b755-4a38-8296-c1cf2c70f78a"
   },
   "outputs": [
    {
     "data": {
      "text/plain": [
       "[<matplotlib.lines.Line2D at 0x7fb4042bbb90>]"
      ]
     },
     "execution_count": 88,
     "metadata": {},
     "output_type": "execute_result"
    },
    {
     "data": {
      "image/png": "[encoded data removed]",
      "text/plain": [
       "<Figure size 1080x432 with 1 Axes>"
      ]
     },
     "metadata": {},
     "output_type": "display_data"
    }
   ],
   "source": [
    "sns.scatterplot(x=\"square_meters\", y=\"price\",data=df_filtered)\n",
    "plt.plot(X_test5,y_pred5)"
   ]
  },
  {
   "cell_type": "code",
   "execution_count": 89,
   "metadata": {
    "colab": {
     "base_uri": "https://localhost:8080/",
     "height": 296
    },
    "colab_type": "code",
    "id": "Ipkclc64w0rf",
    "outputId": "30f4fd1f-62a5-4b67-821d-ad9f9ee08414"
   },
   "outputs": [
    {
     "data": {
      "text/plain": [
       "<matplotlib.axes._subplots.AxesSubplot at 0x7fb405bb7310>"
      ]
     },
     "execution_count": 89,
     "metadata": {},
     "output_type": "execute_result"
    },
    {
     "data": {
      "image/png": "[encoded data removed]",
      "text/plain": [
       "<Figure size 1080x432 with 1 Axes>"
      ]
     },
     "metadata": {},
     "output_type": "display_data"
    }
   ],
   "source": [
    "#Plot the residual\n",
    "sns.distplot(y_test5-y_pred5)"
   ]
  },
  {
   "cell_type": "markdown",
   "metadata": {
    "colab_type": "text",
    "id": "5zZLVnevA4IM"
   },
   "source": [
    "Variables - 'square_meters' , 'bathrooms' , 'bedrooms' , 'beds'"
   ]
  },
  {
   "cell_type": "code",
   "execution_count": 90,
   "metadata": {
    "colab": {},
    "colab_type": "code",
    "id": "GX9FROm3Ai2G"
   },
   "outputs": [],
   "source": [
    "X6 = df_filtered[['square_meters','bathrooms','bedrooms','beds']] \n",
    "y6 =df_filtered['price']"
   ]
  },
  {
   "cell_type": "code",
   "execution_count": 91,
   "metadata": {
    "colab": {},
    "colab_type": "code",
    "id": "DESLkUdAAixK"
   },
   "outputs": [],
   "source": [
    "X_train6, X_test6, y_train6, y_test6 = train_test_split(X6,y6)"
   ]
  },
  {
   "cell_type": "code",
   "execution_count": 92,
   "metadata": {
    "colab": {
     "base_uri": "https://localhost:8080/",
     "height": 34
    },
    "colab_type": "code",
    "id": "hgO9jzn2AitZ",
    "outputId": "59da8a15-9bd8-434f-8cec-0b9e6633e774"
   },
   "outputs": [
    {
     "data": {
      "text/plain": [
       "LinearRegression(copy_X=True, fit_intercept=True, n_jobs=None, normalize=False)"
      ]
     },
     "execution_count": 92,
     "metadata": {},
     "output_type": "execute_result"
    }
   ],
   "source": [
    "lin_reg6= LinearRegression()\n",
    "lin_reg6.fit(X_train6, y_train6)"
   ]
  },
  {
   "cell_type": "code",
   "execution_count": 93,
   "metadata": {
    "colab": {},
    "colab_type": "code",
    "id": "UYSaFhIQAipp"
   },
   "outputs": [],
   "source": [
    "y_pred6 = lin_reg6.predict(X_test6)"
   ]
  },
  {
   "cell_type": "code",
   "execution_count": 94,
   "metadata": {
    "colab": {
     "base_uri": "https://localhost:8080/",
     "height": 221
    },
    "colab_type": "code",
    "id": "0PFlG1TDAill",
    "outputId": "753d473b-4c2a-4501-d11a-a3ccc1690e54"
   },
   "outputs": [
    {
     "name": "stdout",
     "output_type": "stream",
     "text": [
      "   y_prediction\n",
      "0    270.998706\n",
      "1    447.673038\n",
      "2    159.680260\n",
      "3   1530.443102\n",
      "4     61.720396\n",
      "The intercept is: -1209.6192408461634\n",
      "Coefficients: \n",
      " [53.7935918  53.5476576  -6.1683527  -4.07213594]\n",
      "MSE: 30319.560658734434\n",
      "RMSE: 174.12512931433656\n",
      "Variance Score (R^2):0.92\n"
     ]
    }
   ],
   "source": [
    "#Print a few predictions\n",
    "print((pd.DataFrame(y_pred6, columns={'y_prediction'}).head(5)))\n",
    "#Print the intercept\n",
    "print('The intercept is: {}'.format(float(lin_reg6.intercept_)))\n",
    "#Print the coefficient(s)\n",
    "print('Coefficients: \\n', lin_reg6.coef_)\n",
    "#Performance Metric: Mean Squared Error\n",
    "print('MSE:', metrics.mean_squared_error(y_test6, y_pred6))\n",
    "#performance Metric: Root_Mean_Square_Error\n",
    "print('RMSE:', np.sqrt(metrics.mean_squared_error(y_test6, y_pred6)))\n",
    "print('Variance Score (R^2):%.2f' % r2_score(y_test6,y_pred6))"
   ]
  },
  {
   "cell_type": "code",
   "execution_count": 98,
   "metadata": {
    "colab": {
     "base_uri": "https://localhost:8080/",
     "height": 296
    },
    "colab_type": "code",
    "id": "vGX48bWQAiic",
    "outputId": "9bf0382a-b978-4965-8b4e-030494cdcfb6",
    "scrolled": true
   },
   "outputs": [
    {
     "data": {
      "text/plain": [
       "<matplotlib.axes._subplots.AxesSubplot at 0x7fb4063916d0>"
      ]
     },
     "execution_count": 98,
     "metadata": {},
     "output_type": "execute_result"
    },
    {
     "data": {
      "image/png": "[encoded data removed]",
      "text/plain": [
       "<Figure size 1080x432 with 1 Axes>"
      ]
     },
     "metadata": {},
     "output_type": "display_data"
    }
   ],
   "source": [
    "#Plot the residual\n",
    "sns.distplot(y_test6-y_pred6,bins=10)"
   ]
  },
  {
   "cell_type": "markdown",
   "metadata": {
    "colab_type": "text",
    "id": "eUFN5bhebn1G"
   },
   "source": [
    "# Conclusion:\n",
    "\n",
    "1.In the state NSW, when the property type is House and the room type is Entire home/apt, the regression model is better when taking more variables('square_meters','bathrooms','bedrooms','beds') into consideration than only use 'square_meters' as variable\n",
    "\n",
    "2.In the state NSW, when the property type is House, the room type is Entire home/apt, the BALLINA SHIRE COUNCIL has the best regression model to predict price comparing with BYRON SHIRE COUNCIL and TWEED SHIRE COUNCIL\n",
    "\n",
    "3.In the state NSW, when the property type is House, the room type is Entire home/apt, TWEED SHIRE COUNCIL does not have a good linear regression to predict price\n",
    "\n",
    "4.In the state NSW, when the property type is House, the room type is Entire home/apt, BYRON SHIRE COUNCIL's house price is higher than BALLINA SHIRE COUNCIL and TWEED SHIRE COUNCIL\n",
    "\n",
    "5.BALLINA SHIRE COUNCIL is the area that I most comfortable providing pricing recommendations. Because the price prediction regression model has a high R^2 which equal to 0.92 and low RMSE:174.1(round). Plus, the residual is approximately normal distribution. So, the model is reliable to make price predictions.\n",
    "\n",
    "6.TWEED SHIRE COUNCIl is the area that I least comfortable providing pricing recommendations. Because the price prediction regression model has a low R^2 which equal to -0.03 which means there is no linear relationship between the price and squar meters. Plus, the coefficient of 'square_meters' is -9.24(round), which is abnormal in real life. So, the model is not reliable to make price prediction.\n",
    "\n",
    "\n",
    "\n"
   ]
  }
 ],
 "metadata": {
  "colab": {
   "collapsed_sections": [],
   "name": "ALY6015-Spring2020A-Na Qian-Lecture2 colab.ipynb",
   "provenance": []
  },
  "kernelspec": {
   "display_name": "Python 3",
   "language": "python",
   "name": "python3"
  },
  "language_info": {
   "codemirror_mode": {
    "name": "ipython",
    "version": 3
   },
   "file_extension": ".py",
   "mimetype": "text/x-python",
   "name": "python",
   "nbconvert_exporter": "python",
   "pygments_lexer": "ipython3",
   "version": "3.7.6"
  }
 },
 "nbformat": 4,
 "nbformat_minor": 1
}

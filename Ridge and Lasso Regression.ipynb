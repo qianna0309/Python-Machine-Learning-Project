{
 "cells": [
  {
   "cell_type": "markdown",
   "metadata": {},
   "source": [
    "# Author: Na Qian\n",
    "# Purpose: Predict baseball players' salary\n",
    "# Method: Advanced Regression - Ridge and Lasso"
   ]
  },
  {
   "cell_type": "code",
   "execution_count": 1,
   "metadata": {},
   "outputs": [],
   "source": [
    "import numpy as np\n",
    "import pandas as pd\n",
    "from matplotlib import pyplot as plt\n",
    "import seaborn as sns\n",
    "from sklearn.model_selection import train_test_split\n",
    "from sklearn.linear_model import LogisticRegression\n",
    "from sklearn.linear_model import LinearRegression\n",
    "sns.set_style('whitegrid')\n",
    "%matplotlib inline\n",
    "from sklearn.metrics import mean_squared_error, r2_score\n",
    "from sklearn.model_selection import cross_val_score\n",
    "from sklearn.linear_model import Ridge\n",
    "from sklearn.linear_model import Lasso\n",
    "from sklearn.model_selection import GridSearchCV\n",
    "from sklearn.metrics import classification_report\n",
    "from sklearn.metrics import confusion_matrix\n",
    "from pylab import rcParams\n",
    "import warnings"
   ]
  },
  {
   "cell_type": "code",
   "execution_count": 2,
   "metadata": {},
   "outputs": [
    {
     "data": {
      "text/html": [
       "<div>\n",
       "<style scoped>\n",
       "    .dataframe tbody tr th:only-of-type {\n",
       "        vertical-align: middle;\n",
       "    }\n",
       "\n",
       "    .dataframe tbody tr th {\n",
       "        vertical-align: top;\n",
       "    }\n",
       "\n",
       "    .dataframe thead th {\n",
       "        text-align: right;\n",
       "    }\n",
       "</style>\n",
       "<table border=\"1\" class=\"dataframe\">\n",
       "  <thead>\n",
       "    <tr style=\"text-align: right;\">\n",
       "      <th></th>\n",
       "      <th>Salary</th>\n",
       "      <th>count_at_bats</th>\n",
       "      <th>count_hits</th>\n",
       "      <th>count_home_runs</th>\n",
       "      <th>count_runs</th>\n",
       "      <th>RBI</th>\n",
       "      <th>count_walks</th>\n",
       "      <th>years_experience</th>\n",
       "      <th>cumulative_at_bats</th>\n",
       "      <th>cumulative_hits</th>\n",
       "      <th>cumulative_home_runs</th>\n",
       "      <th>cumulative_runs</th>\n",
       "      <th>cumulative_RBI</th>\n",
       "      <th>cumulative_walks</th>\n",
       "      <th>League</th>\n",
       "      <th>Division</th>\n",
       "      <th>PutOuts</th>\n",
       "      <th>Assists</th>\n",
       "      <th>Errors</th>\n",
       "      <th>NewLeague</th>\n",
       "    </tr>\n",
       "  </thead>\n",
       "  <tbody>\n",
       "    <tr>\n",
       "      <th>0</th>\n",
       "      <td>875000</td>\n",
       "      <td>457</td>\n",
       "      <td>101</td>\n",
       "      <td>14</td>\n",
       "      <td>42</td>\n",
       "      <td>63</td>\n",
       "      <td>22</td>\n",
       "      <td>17</td>\n",
       "      <td>6521</td>\n",
       "      <td>1767</td>\n",
       "      <td>281</td>\n",
       "      <td>1003</td>\n",
       "      <td>977</td>\n",
       "      <td>619</td>\n",
       "      <td>A</td>\n",
       "      <td>W</td>\n",
       "      <td>389</td>\n",
       "      <td>39</td>\n",
       "      <td>4</td>\n",
       "      <td>A</td>\n",
       "    </tr>\n",
       "    <tr>\n",
       "      <th>1</th>\n",
       "      <td>1300000</td>\n",
       "      <td>441</td>\n",
       "      <td>118</td>\n",
       "      <td>28</td>\n",
       "      <td>84</td>\n",
       "      <td>86</td>\n",
       "      <td>68</td>\n",
       "      <td>8</td>\n",
       "      <td>2723</td>\n",
       "      <td>750</td>\n",
       "      <td>126</td>\n",
       "      <td>433</td>\n",
       "      <td>420</td>\n",
       "      <td>309</td>\n",
       "      <td>A</td>\n",
       "      <td>E</td>\n",
       "      <td>190</td>\n",
       "      <td>2</td>\n",
       "      <td>2</td>\n",
       "      <td>A</td>\n",
       "    </tr>\n",
       "    <tr>\n",
       "      <th>2</th>\n",
       "      <td>940000</td>\n",
       "      <td>593</td>\n",
       "      <td>152</td>\n",
       "      <td>23</td>\n",
       "      <td>69</td>\n",
       "      <td>75</td>\n",
       "      <td>53</td>\n",
       "      <td>6</td>\n",
       "      <td>2765</td>\n",
       "      <td>686</td>\n",
       "      <td>133</td>\n",
       "      <td>369</td>\n",
       "      <td>384</td>\n",
       "      <td>321</td>\n",
       "      <td>A</td>\n",
       "      <td>W</td>\n",
       "      <td>315</td>\n",
       "      <td>10</td>\n",
       "      <td>6</td>\n",
       "      <td>A</td>\n",
       "    </tr>\n",
       "    <tr>\n",
       "      <th>3</th>\n",
       "      <td>70000</td>\n",
       "      <td>312</td>\n",
       "      <td>68</td>\n",
       "      <td>2</td>\n",
       "      <td>32</td>\n",
       "      <td>22</td>\n",
       "      <td>24</td>\n",
       "      <td>1</td>\n",
       "      <td>312</td>\n",
       "      <td>68</td>\n",
       "      <td>2</td>\n",
       "      <td>32</td>\n",
       "      <td>22</td>\n",
       "      <td>24</td>\n",
       "      <td>A</td>\n",
       "      <td>E</td>\n",
       "      <td>86</td>\n",
       "      <td>150</td>\n",
       "      <td>15</td>\n",
       "      <td>A</td>\n",
       "    </tr>\n",
       "    <tr>\n",
       "      <th>4</th>\n",
       "      <td>815000</td>\n",
       "      <td>526</td>\n",
       "      <td>146</td>\n",
       "      <td>13</td>\n",
       "      <td>71</td>\n",
       "      <td>70</td>\n",
       "      <td>84</td>\n",
       "      <td>6</td>\n",
       "      <td>2648</td>\n",
       "      <td>715</td>\n",
       "      <td>77</td>\n",
       "      <td>352</td>\n",
       "      <td>342</td>\n",
       "      <td>289</td>\n",
       "      <td>N</td>\n",
       "      <td>W</td>\n",
       "      <td>303</td>\n",
       "      <td>9</td>\n",
       "      <td>9</td>\n",
       "      <td>N</td>\n",
       "    </tr>\n",
       "  </tbody>\n",
       "</table>\n",
       "</div>"
      ],
      "text/plain": [
       "    Salary  count_at_bats  count_hits  count_home_runs  count_runs  RBI  \\\n",
       "0   875000            457         101               14          42   63   \n",
       "1  1300000            441         118               28          84   86   \n",
       "2   940000            593         152               23          69   75   \n",
       "3    70000            312          68                2          32   22   \n",
       "4   815000            526         146               13          71   70   \n",
       "\n",
       "   count_walks  years_experience  cumulative_at_bats  cumulative_hits  \\\n",
       "0           22                17                6521             1767   \n",
       "1           68                 8                2723              750   \n",
       "2           53                 6                2765              686   \n",
       "3           24                 1                 312               68   \n",
       "4           84                 6                2648              715   \n",
       "\n",
       "   cumulative_home_runs  cumulative_runs  cumulative_RBI  cumulative_walks  \\\n",
       "0                   281             1003             977               619   \n",
       "1                   126              433             420               309   \n",
       "2                   133              369             384               321   \n",
       "3                     2               32              22                24   \n",
       "4                    77              352             342               289   \n",
       "\n",
       "  League Division  PutOuts  Assists  Errors NewLeague  \n",
       "0      A        W      389       39       4         A  \n",
       "1      A        E      190        2       2         A  \n",
       "2      A        W      315       10       6         A  \n",
       "3      A        E       86      150      15         A  \n",
       "4      N        W      303        9       9         N  "
      ]
     },
     "execution_count": 2,
     "metadata": {},
     "output_type": "execute_result"
    }
   ],
   "source": [
    "baseball_df=pd.read_csv('https://docs.google.com/spreadsheets/d/e/2PACX-1vQFnZe-im097klmeyuh4H8iv-V2f1-1mMzOOcHyMtNrIVMiLvChNAUDUxutbzF9dX2zV6_CL1-7VnSu/pub?gid=2011624367&single=true&output=csv')\n",
    "baseball_df.head()"
   ]
  },
  {
   "cell_type": "code",
   "execution_count": 3,
   "metadata": {},
   "outputs": [
    {
     "name": "stdout",
     "output_type": "stream",
     "text": [
      "<class 'pandas.core.frame.DataFrame'>\n",
      "RangeIndex: 243 entries, 0 to 242\n",
      "Data columns (total 20 columns):\n",
      " #   Column                Non-Null Count  Dtype \n",
      "---  ------                --------------  ----- \n",
      " 0   Salary                243 non-null    int64 \n",
      " 1   count_at_bats         243 non-null    int64 \n",
      " 2   count_hits            243 non-null    int64 \n",
      " 3   count_home_runs       243 non-null    int64 \n",
      " 4   count_runs            243 non-null    int64 \n",
      " 5   RBI                   243 non-null    int64 \n",
      " 6   count_walks           243 non-null    int64 \n",
      " 7   years_experience      243 non-null    int64 \n",
      " 8   cumulative_at_bats    243 non-null    int64 \n",
      " 9   cumulative_hits       243 non-null    int64 \n",
      " 10  cumulative_home_runs  243 non-null    int64 \n",
      " 11  cumulative_runs       243 non-null    int64 \n",
      " 12  cumulative_RBI        243 non-null    int64 \n",
      " 13  cumulative_walks      243 non-null    int64 \n",
      " 14  League                243 non-null    object\n",
      " 15  Division              243 non-null    object\n",
      " 16  PutOuts               243 non-null    int64 \n",
      " 17  Assists               243 non-null    int64 \n",
      " 18  Errors                243 non-null    int64 \n",
      " 19  NewLeague             243 non-null    object\n",
      "dtypes: int64(17), object(3)\n",
      "memory usage: 38.1+ KB\n"
     ]
    }
   ],
   "source": [
    "baseball_df.info()"
   ]
  },
  {
   "cell_type": "code",
   "execution_count": 8,
   "metadata": {},
   "outputs": [
    {
     "data": {
      "text/html": [
       "<div>\n",
       "<style scoped>\n",
       "    .dataframe tbody tr th:only-of-type {\n",
       "        vertical-align: middle;\n",
       "    }\n",
       "\n",
       "    .dataframe tbody tr th {\n",
       "        vertical-align: top;\n",
       "    }\n",
       "\n",
       "    .dataframe thead th {\n",
       "        text-align: right;\n",
       "    }\n",
       "</style>\n",
       "<table border=\"1\" class=\"dataframe\">\n",
       "  <thead>\n",
       "    <tr style=\"text-align: right;\">\n",
       "      <th></th>\n",
       "      <th>Salary</th>\n",
       "      <th>count_at_bats</th>\n",
       "      <th>count_hits</th>\n",
       "      <th>count_home_runs</th>\n",
       "      <th>count_runs</th>\n",
       "      <th>RBI</th>\n",
       "      <th>count_walks</th>\n",
       "      <th>years_experience</th>\n",
       "      <th>cumulative_at_bats</th>\n",
       "      <th>cumulative_hits</th>\n",
       "      <th>cumulative_home_runs</th>\n",
       "      <th>cumulative_runs</th>\n",
       "      <th>cumulative_RBI</th>\n",
       "      <th>cumulative_walks</th>\n",
       "      <th>League</th>\n",
       "      <th>Division</th>\n",
       "      <th>PutOuts</th>\n",
       "      <th>Assists</th>\n",
       "      <th>Errors</th>\n",
       "      <th>NewLeague</th>\n",
       "    </tr>\n",
       "  </thead>\n",
       "  <tbody>\n",
       "    <tr>\n",
       "      <th>242</th>\n",
       "      <td>0</td>\n",
       "      <td>346</td>\n",
       "      <td>98</td>\n",
       "      <td>5</td>\n",
       "      <td>31</td>\n",
       "      <td>53</td>\n",
       "      <td>30</td>\n",
       "      <td>16</td>\n",
       "      <td>5913</td>\n",
       "      <td>1615</td>\n",
       "      <td>235</td>\n",
       "      <td>784</td>\n",
       "      <td>901</td>\n",
       "      <td>560</td>\n",
       "      <td>A</td>\n",
       "      <td>E</td>\n",
       "      <td>0</td>\n",
       "      <td>0</td>\n",
       "      <td>0</td>\n",
       "      <td>A</td>\n",
       "    </tr>\n",
       "    <tr>\n",
       "      <th>206</th>\n",
       "      <td>0</td>\n",
       "      <td>315</td>\n",
       "      <td>59</td>\n",
       "      <td>16</td>\n",
       "      <td>45</td>\n",
       "      <td>36</td>\n",
       "      <td>58</td>\n",
       "      <td>13</td>\n",
       "      <td>4677</td>\n",
       "      <td>1051</td>\n",
       "      <td>268</td>\n",
       "      <td>681</td>\n",
       "      <td>782</td>\n",
       "      <td>697</td>\n",
       "      <td>A</td>\n",
       "      <td>W</td>\n",
       "      <td>0</td>\n",
       "      <td>0</td>\n",
       "      <td>0</td>\n",
       "      <td>A</td>\n",
       "    </tr>\n",
       "    <tr>\n",
       "      <th>207</th>\n",
       "      <td>0</td>\n",
       "      <td>307</td>\n",
       "      <td>80</td>\n",
       "      <td>1</td>\n",
       "      <td>42</td>\n",
       "      <td>36</td>\n",
       "      <td>29</td>\n",
       "      <td>7</td>\n",
       "      <td>2421</td>\n",
       "      <td>656</td>\n",
       "      <td>18</td>\n",
       "      <td>379</td>\n",
       "      <td>198</td>\n",
       "      <td>184</td>\n",
       "      <td>A</td>\n",
       "      <td>W</td>\n",
       "      <td>145</td>\n",
       "      <td>2</td>\n",
       "      <td>2</td>\n",
       "      <td>A</td>\n",
       "    </tr>\n",
       "    <tr>\n",
       "      <th>208</th>\n",
       "      <td>0</td>\n",
       "      <td>33</td>\n",
       "      <td>6</td>\n",
       "      <td>0</td>\n",
       "      <td>2</td>\n",
       "      <td>4</td>\n",
       "      <td>7</td>\n",
       "      <td>1</td>\n",
       "      <td>33</td>\n",
       "      <td>6</td>\n",
       "      <td>0</td>\n",
       "      <td>2</td>\n",
       "      <td>4</td>\n",
       "      <td>7</td>\n",
       "      <td>A</td>\n",
       "      <td>W</td>\n",
       "      <td>205</td>\n",
       "      <td>5</td>\n",
       "      <td>4</td>\n",
       "      <td>A</td>\n",
       "    </tr>\n",
       "    <tr>\n",
       "      <th>209</th>\n",
       "      <td>0</td>\n",
       "      <td>209</td>\n",
       "      <td>45</td>\n",
       "      <td>0</td>\n",
       "      <td>38</td>\n",
       "      <td>19</td>\n",
       "      <td>42</td>\n",
       "      <td>10</td>\n",
       "      <td>3859</td>\n",
       "      <td>916</td>\n",
       "      <td>23</td>\n",
       "      <td>557</td>\n",
       "      <td>279</td>\n",
       "      <td>478</td>\n",
       "      <td>A</td>\n",
       "      <td>W</td>\n",
       "      <td>132</td>\n",
       "      <td>205</td>\n",
       "      <td>5</td>\n",
       "      <td>A</td>\n",
       "    </tr>\n",
       "    <tr>\n",
       "      <th>...</th>\n",
       "      <td>...</td>\n",
       "      <td>...</td>\n",
       "      <td>...</td>\n",
       "      <td>...</td>\n",
       "      <td>...</td>\n",
       "      <td>...</td>\n",
       "      <td>...</td>\n",
       "      <td>...</td>\n",
       "      <td>...</td>\n",
       "      <td>...</td>\n",
       "      <td>...</td>\n",
       "      <td>...</td>\n",
       "      <td>...</td>\n",
       "      <td>...</td>\n",
       "      <td>...</td>\n",
       "      <td>...</td>\n",
       "      <td>...</td>\n",
       "      <td>...</td>\n",
       "      <td>...</td>\n",
       "      <td>...</td>\n",
       "    </tr>\n",
       "    <tr>\n",
       "      <th>25</th>\n",
       "      <td>1600000</td>\n",
       "      <td>580</td>\n",
       "      <td>207</td>\n",
       "      <td>8</td>\n",
       "      <td>107</td>\n",
       "      <td>71</td>\n",
       "      <td>105</td>\n",
       "      <td>5</td>\n",
       "      <td>2778</td>\n",
       "      <td>978</td>\n",
       "      <td>32</td>\n",
       "      <td>474</td>\n",
       "      <td>322</td>\n",
       "      <td>417</td>\n",
       "      <td>A</td>\n",
       "      <td>E</td>\n",
       "      <td>121</td>\n",
       "      <td>267</td>\n",
       "      <td>19</td>\n",
       "      <td>A</td>\n",
       "    </tr>\n",
       "    <tr>\n",
       "      <th>117</th>\n",
       "      <td>1800000</td>\n",
       "      <td>551</td>\n",
       "      <td>171</td>\n",
       "      <td>13</td>\n",
       "      <td>94</td>\n",
       "      <td>83</td>\n",
       "      <td>94</td>\n",
       "      <td>13</td>\n",
       "      <td>6090</td>\n",
       "      <td>1840</td>\n",
       "      <td>128</td>\n",
       "      <td>969</td>\n",
       "      <td>900</td>\n",
       "      <td>917</td>\n",
       "      <td>N</td>\n",
       "      <td>E</td>\n",
       "      <td>1199</td>\n",
       "      <td>149</td>\n",
       "      <td>5</td>\n",
       "      <td>N</td>\n",
       "    </tr>\n",
       "    <tr>\n",
       "      <th>177</th>\n",
       "      <td>1900000</td>\n",
       "      <td>614</td>\n",
       "      <td>163</td>\n",
       "      <td>29</td>\n",
       "      <td>89</td>\n",
       "      <td>83</td>\n",
       "      <td>75</td>\n",
       "      <td>11</td>\n",
       "      <td>5017</td>\n",
       "      <td>1388</td>\n",
       "      <td>266</td>\n",
       "      <td>813</td>\n",
       "      <td>822</td>\n",
       "      <td>617</td>\n",
       "      <td>N</td>\n",
       "      <td>W</td>\n",
       "      <td>303</td>\n",
       "      <td>6</td>\n",
       "      <td>6</td>\n",
       "      <td>N</td>\n",
       "    </tr>\n",
       "    <tr>\n",
       "      <th>34</th>\n",
       "      <td>1926000</td>\n",
       "      <td>490</td>\n",
       "      <td>125</td>\n",
       "      <td>24</td>\n",
       "      <td>81</td>\n",
       "      <td>105</td>\n",
       "      <td>62</td>\n",
       "      <td>13</td>\n",
       "      <td>6063</td>\n",
       "      <td>1646</td>\n",
       "      <td>271</td>\n",
       "      <td>847</td>\n",
       "      <td>999</td>\n",
       "      <td>680</td>\n",
       "      <td>N</td>\n",
       "      <td>E</td>\n",
       "      <td>869</td>\n",
       "      <td>62</td>\n",
       "      <td>8</td>\n",
       "      <td>N</td>\n",
       "    </tr>\n",
       "    <tr>\n",
       "      <th>168</th>\n",
       "      <td>1975000</td>\n",
       "      <td>677</td>\n",
       "      <td>238</td>\n",
       "      <td>31</td>\n",
       "      <td>117</td>\n",
       "      <td>113</td>\n",
       "      <td>53</td>\n",
       "      <td>5</td>\n",
       "      <td>2223</td>\n",
       "      <td>737</td>\n",
       "      <td>93</td>\n",
       "      <td>349</td>\n",
       "      <td>401</td>\n",
       "      <td>171</td>\n",
       "      <td>A</td>\n",
       "      <td>E</td>\n",
       "      <td>1377</td>\n",
       "      <td>100</td>\n",
       "      <td>6</td>\n",
       "      <td>A</td>\n",
       "    </tr>\n",
       "  </tbody>\n",
       "</table>\n",
       "<p>243 rows × 20 columns</p>\n",
       "</div>"
      ],
      "text/plain": [
       "      Salary  count_at_bats  count_hits  count_home_runs  count_runs  RBI  \\\n",
       "242        0            346          98                5          31   53   \n",
       "206        0            315          59               16          45   36   \n",
       "207        0            307          80                1          42   36   \n",
       "208        0             33           6                0           2    4   \n",
       "209        0            209          45                0          38   19   \n",
       "..       ...            ...         ...              ...         ...  ...   \n",
       "25   1600000            580         207                8         107   71   \n",
       "117  1800000            551         171               13          94   83   \n",
       "177  1900000            614         163               29          89   83   \n",
       "34   1926000            490         125               24          81  105   \n",
       "168  1975000            677         238               31         117  113   \n",
       "\n",
       "     count_walks  years_experience  cumulative_at_bats  cumulative_hits  \\\n",
       "242           30                16                5913             1615   \n",
       "206           58                13                4677             1051   \n",
       "207           29                 7                2421              656   \n",
       "208            7                 1                  33                6   \n",
       "209           42                10                3859              916   \n",
       "..           ...               ...                 ...              ...   \n",
       "25           105                 5                2778              978   \n",
       "117           94                13                6090             1840   \n",
       "177           75                11                5017             1388   \n",
       "34            62                13                6063             1646   \n",
       "168           53                 5                2223              737   \n",
       "\n",
       "     cumulative_home_runs  cumulative_runs  cumulative_RBI  cumulative_walks  \\\n",
       "242                   235              784             901               560   \n",
       "206                   268              681             782               697   \n",
       "207                    18              379             198               184   \n",
       "208                     0                2               4                 7   \n",
       "209                    23              557             279               478   \n",
       "..                    ...              ...             ...               ...   \n",
       "25                     32              474             322               417   \n",
       "117                   128              969             900               917   \n",
       "177                   266              813             822               617   \n",
       "34                    271              847             999               680   \n",
       "168                    93              349             401               171   \n",
       "\n",
       "    League Division  PutOuts  Assists  Errors NewLeague  \n",
       "242      A        E        0        0       0         A  \n",
       "206      A        W        0        0       0         A  \n",
       "207      A        W      145        2       2         A  \n",
       "208      A        W      205        5       4         A  \n",
       "209      A        W      132      205       5         A  \n",
       "..     ...      ...      ...      ...     ...       ...  \n",
       "25       A        E      121      267      19         A  \n",
       "117      N        E     1199      149       5         N  \n",
       "177      N        W      303        6       6         N  \n",
       "34       N        E      869       62       8         N  \n",
       "168      A        E     1377      100       6         A  \n",
       "\n",
       "[243 rows x 20 columns]"
      ]
     },
     "execution_count": 8,
     "metadata": {},
     "output_type": "execute_result"
    }
   ],
   "source": [
    "baseball_df.sort_values(by=['Salary'])"
   ]
  },
  {
   "cell_type": "code",
   "execution_count": 9,
   "metadata": {},
   "outputs": [],
   "source": [
    "#drop records that salary is euqal to 0\n",
    "baseball_df_trimmed = baseball_df.loc[baseball_df['Salary']>0]"
   ]
  },
  {
   "cell_type": "markdown",
   "metadata": {},
   "source": [
    "# Describe quantitative variables"
   ]
  },
  {
   "cell_type": "code",
   "execution_count": 10,
   "metadata": {},
   "outputs": [
    {
     "data": {
      "text/html": [
       "<div>\n",
       "<style scoped>\n",
       "    .dataframe tbody tr th:only-of-type {\n",
       "        vertical-align: middle;\n",
       "    }\n",
       "\n",
       "    .dataframe tbody tr th {\n",
       "        vertical-align: top;\n",
       "    }\n",
       "\n",
       "    .dataframe thead th {\n",
       "        text-align: right;\n",
       "    }\n",
       "</style>\n",
       "<table border=\"1\" class=\"dataframe\">\n",
       "  <thead>\n",
       "    <tr style=\"text-align: right;\">\n",
       "      <th></th>\n",
       "      <th>Salary</th>\n",
       "      <th>count_at_bats</th>\n",
       "      <th>count_hits</th>\n",
       "      <th>count_home_runs</th>\n",
       "      <th>count_runs</th>\n",
       "      <th>RBI</th>\n",
       "      <th>count_walks</th>\n",
       "      <th>years_experience</th>\n",
       "      <th>cumulative_at_bats</th>\n",
       "      <th>cumulative_hits</th>\n",
       "      <th>cumulative_home_runs</th>\n",
       "      <th>cumulative_runs</th>\n",
       "      <th>cumulative_RBI</th>\n",
       "      <th>cumulative_walks</th>\n",
       "      <th>PutOuts</th>\n",
       "      <th>Assists</th>\n",
       "      <th>Errors</th>\n",
       "    </tr>\n",
       "  </thead>\n",
       "  <tbody>\n",
       "    <tr>\n",
       "      <th>count</th>\n",
       "      <td>1.840000e+02</td>\n",
       "      <td>184.000000</td>\n",
       "      <td>184.000000</td>\n",
       "      <td>184.000000</td>\n",
       "      <td>184.000000</td>\n",
       "      <td>184.000000</td>\n",
       "      <td>184.000000</td>\n",
       "      <td>184.000000</td>\n",
       "      <td>184.000000</td>\n",
       "      <td>184.000000</td>\n",
       "      <td>184.000000</td>\n",
       "      <td>184.000000</td>\n",
       "      <td>184.000000</td>\n",
       "      <td>184.000000</td>\n",
       "      <td>184.000000</td>\n",
       "      <td>184.000000</td>\n",
       "      <td>184.000000</td>\n",
       "    </tr>\n",
       "    <tr>\n",
       "      <th>mean</th>\n",
       "      <td>5.236196e+05</td>\n",
       "      <td>409.027174</td>\n",
       "      <td>109.364130</td>\n",
       "      <td>11.847826</td>\n",
       "      <td>55.353261</td>\n",
       "      <td>52.092391</td>\n",
       "      <td>41.304348</td>\n",
       "      <td>7.293478</td>\n",
       "      <td>2669.027174</td>\n",
       "      <td>724.342391</td>\n",
       "      <td>72.222826</td>\n",
       "      <td>366.576087</td>\n",
       "      <td>333.125000</td>\n",
       "      <td>264.864130</td>\n",
       "      <td>285.298913</td>\n",
       "      <td>118.391304</td>\n",
       "      <td>8.288043</td>\n",
       "    </tr>\n",
       "    <tr>\n",
       "      <th>std</th>\n",
       "      <td>4.085598e+05</td>\n",
       "      <td>141.387366</td>\n",
       "      <td>43.885133</td>\n",
       "      <td>8.428983</td>\n",
       "      <td>24.225268</td>\n",
       "      <td>25.075779</td>\n",
       "      <td>21.271207</td>\n",
       "      <td>4.862116</td>\n",
       "      <td>2297.547487</td>\n",
       "      <td>649.424711</td>\n",
       "      <td>83.689377</td>\n",
       "      <td>334.870654</td>\n",
       "      <td>320.087984</td>\n",
       "      <td>277.282634</td>\n",
       "      <td>272.208199</td>\n",
       "      <td>145.644110</td>\n",
       "      <td>6.596792</td>\n",
       "    </tr>\n",
       "    <tr>\n",
       "      <th>min</th>\n",
       "      <td>6.800000e+04</td>\n",
       "      <td>19.000000</td>\n",
       "      <td>4.000000</td>\n",
       "      <td>0.000000</td>\n",
       "      <td>2.000000</td>\n",
       "      <td>3.000000</td>\n",
       "      <td>1.000000</td>\n",
       "      <td>1.000000</td>\n",
       "      <td>19.000000</td>\n",
       "      <td>4.000000</td>\n",
       "      <td>0.000000</td>\n",
       "      <td>2.000000</td>\n",
       "      <td>3.000000</td>\n",
       "      <td>1.000000</td>\n",
       "      <td>0.000000</td>\n",
       "      <td>0.000000</td>\n",
       "      <td>0.000000</td>\n",
       "    </tr>\n",
       "    <tr>\n",
       "      <th>25%</th>\n",
       "      <td>1.837500e+05</td>\n",
       "      <td>288.000000</td>\n",
       "      <td>75.500000</td>\n",
       "      <td>5.000000</td>\n",
       "      <td>35.000000</td>\n",
       "      <td>33.000000</td>\n",
       "      <td>24.750000</td>\n",
       "      <td>4.000000</td>\n",
       "      <td>896.750000</td>\n",
       "      <td>217.750000</td>\n",
       "      <td>16.000000</td>\n",
       "      <td>111.250000</td>\n",
       "      <td>96.750000</td>\n",
       "      <td>76.250000</td>\n",
       "      <td>117.500000</td>\n",
       "      <td>7.000000</td>\n",
       "      <td>3.000000</td>\n",
       "    </tr>\n",
       "    <tr>\n",
       "      <th>50%</th>\n",
       "      <td>4.275000e+05</td>\n",
       "      <td>416.000000</td>\n",
       "      <td>108.500000</td>\n",
       "      <td>10.000000</td>\n",
       "      <td>54.000000</td>\n",
       "      <td>47.500000</td>\n",
       "      <td>37.000000</td>\n",
       "      <td>6.000000</td>\n",
       "      <td>1953.500000</td>\n",
       "      <td>528.500000</td>\n",
       "      <td>41.500000</td>\n",
       "      <td>272.500000</td>\n",
       "      <td>254.500000</td>\n",
       "      <td>179.500000</td>\n",
       "      <td>223.000000</td>\n",
       "      <td>43.500000</td>\n",
       "      <td>6.000000</td>\n",
       "    </tr>\n",
       "    <tr>\n",
       "      <th>75%</th>\n",
       "      <td>7.500000e+05</td>\n",
       "      <td>528.000000</td>\n",
       "      <td>142.500000</td>\n",
       "      <td>18.000000</td>\n",
       "      <td>73.000000</td>\n",
       "      <td>71.250000</td>\n",
       "      <td>53.000000</td>\n",
       "      <td>10.000000</td>\n",
       "      <td>3772.500000</td>\n",
       "      <td>984.250000</td>\n",
       "      <td>97.000000</td>\n",
       "      <td>495.750000</td>\n",
       "      <td>422.750000</td>\n",
       "      <td>317.500000</td>\n",
       "      <td>316.750000</td>\n",
       "      <td>205.250000</td>\n",
       "      <td>12.250000</td>\n",
       "    </tr>\n",
       "    <tr>\n",
       "      <th>max</th>\n",
       "      <td>1.975000e+06</td>\n",
       "      <td>687.000000</td>\n",
       "      <td>238.000000</td>\n",
       "      <td>40.000000</td>\n",
       "      <td>117.000000</td>\n",
       "      <td>121.000000</td>\n",
       "      <td>105.000000</td>\n",
       "      <td>24.000000</td>\n",
       "      <td>14053.000000</td>\n",
       "      <td>4256.000000</td>\n",
       "      <td>548.000000</td>\n",
       "      <td>2165.000000</td>\n",
       "      <td>1659.000000</td>\n",
       "      <td>1566.000000</td>\n",
       "      <td>1377.000000</td>\n",
       "      <td>492.000000</td>\n",
       "      <td>32.000000</td>\n",
       "    </tr>\n",
       "  </tbody>\n",
       "</table>\n",
       "</div>"
      ],
      "text/plain": [
       "             Salary  count_at_bats  count_hits  count_home_runs  count_runs  \\\n",
       "count  1.840000e+02     184.000000  184.000000       184.000000  184.000000   \n",
       "mean   5.236196e+05     409.027174  109.364130        11.847826   55.353261   \n",
       "std    4.085598e+05     141.387366   43.885133         8.428983   24.225268   \n",
       "min    6.800000e+04      19.000000    4.000000         0.000000    2.000000   \n",
       "25%    1.837500e+05     288.000000   75.500000         5.000000   35.000000   \n",
       "50%    4.275000e+05     416.000000  108.500000        10.000000   54.000000   \n",
       "75%    7.500000e+05     528.000000  142.500000        18.000000   73.000000   \n",
       "max    1.975000e+06     687.000000  238.000000        40.000000  117.000000   \n",
       "\n",
       "              RBI  count_walks  years_experience  cumulative_at_bats  \\\n",
       "count  184.000000   184.000000        184.000000          184.000000   \n",
       "mean    52.092391    41.304348          7.293478         2669.027174   \n",
       "std     25.075779    21.271207          4.862116         2297.547487   \n",
       "min      3.000000     1.000000          1.000000           19.000000   \n",
       "25%     33.000000    24.750000          4.000000          896.750000   \n",
       "50%     47.500000    37.000000          6.000000         1953.500000   \n",
       "75%     71.250000    53.000000         10.000000         3772.500000   \n",
       "max    121.000000   105.000000         24.000000        14053.000000   \n",
       "\n",
       "       cumulative_hits  cumulative_home_runs  cumulative_runs  cumulative_RBI  \\\n",
       "count       184.000000            184.000000       184.000000      184.000000   \n",
       "mean        724.342391             72.222826       366.576087      333.125000   \n",
       "std         649.424711             83.689377       334.870654      320.087984   \n",
       "min           4.000000              0.000000         2.000000        3.000000   \n",
       "25%         217.750000             16.000000       111.250000       96.750000   \n",
       "50%         528.500000             41.500000       272.500000      254.500000   \n",
       "75%         984.250000             97.000000       495.750000      422.750000   \n",
       "max        4256.000000            548.000000      2165.000000     1659.000000   \n",
       "\n",
       "       cumulative_walks      PutOuts     Assists      Errors  \n",
       "count        184.000000   184.000000  184.000000  184.000000  \n",
       "mean         264.864130   285.298913  118.391304    8.288043  \n",
       "std          277.282634   272.208199  145.644110    6.596792  \n",
       "min            1.000000     0.000000    0.000000    0.000000  \n",
       "25%           76.250000   117.500000    7.000000    3.000000  \n",
       "50%          179.500000   223.000000   43.500000    6.000000  \n",
       "75%          317.500000   316.750000  205.250000   12.250000  \n",
       "max         1566.000000  1377.000000  492.000000   32.000000  "
      ]
     },
     "execution_count": 10,
     "metadata": {},
     "output_type": "execute_result"
    }
   ],
   "source": [
    "baseball_df_trimmed.describe()"
   ]
  },
  {
   "cell_type": "markdown",
   "metadata": {},
   "source": [
    "# Describe qualitative variables"
   ]
  },
  {
   "cell_type": "code",
   "execution_count": 11,
   "metadata": {},
   "outputs": [
    {
     "data": {
      "text/plain": [
       "A    102\n",
       "N     82\n",
       "Name: League, dtype: int64"
      ]
     },
     "execution_count": 11,
     "metadata": {},
     "output_type": "execute_result"
    }
   ],
   "source": [
    "baseball_df_trimmed['League'].value_counts()"
   ]
  },
  {
   "cell_type": "code",
   "execution_count": 14,
   "metadata": {},
   "outputs": [],
   "source": [
    "#convert 'League' to dummy variables\n",
    "league_N=pd.get_dummies(baseball_df_trimmed['League'],drop_first=True)\n",
    "league_N.rename(columns={'N':'league_N'},inplace=True)"
   ]
  },
  {
   "cell_type": "code",
   "execution_count": 15,
   "metadata": {},
   "outputs": [
    {
     "data": {
      "text/plain": [
       "E    93\n",
       "W    91\n",
       "Name: Division, dtype: int64"
      ]
     },
     "execution_count": 15,
     "metadata": {},
     "output_type": "execute_result"
    }
   ],
   "source": [
    "baseball_df_trimmed['Division'].value_counts()"
   ]
  },
  {
   "cell_type": "code",
   "execution_count": 16,
   "metadata": {},
   "outputs": [],
   "source": [
    "#convert 'Division' to dummy variables\n",
    "Division_W=pd.get_dummies(baseball_df_trimmed['Division'],drop_first=True)\n",
    "Division_W.rename(columns={'W':'Division_W'},inplace=True)"
   ]
  },
  {
   "cell_type": "code",
   "execution_count": 17,
   "metadata": {},
   "outputs": [
    {
     "data": {
      "text/plain": [
       "A    107\n",
       "N     77\n",
       "Name: NewLeague, dtype: int64"
      ]
     },
     "execution_count": 17,
     "metadata": {},
     "output_type": "execute_result"
    }
   ],
   "source": [
    "baseball_df_trimmed['NewLeague'].value_counts()"
   ]
  },
  {
   "cell_type": "code",
   "execution_count": 18,
   "metadata": {},
   "outputs": [],
   "source": [
    "#convert 'NewLeague' to dummy variables\n",
    "NewLeague_N=pd.get_dummies(baseball_df_trimmed['NewLeague'],drop_first=True)\n",
    "NewLeague_N.rename(columns={'N':'NewLeague_N'},inplace=True)"
   ]
  },
  {
   "cell_type": "code",
   "execution_count": 19,
   "metadata": {},
   "outputs": [],
   "source": [
    "#concat dummy colums to df_treated\n",
    "baseball_df_trimmed=pd.concat([baseball_df_trimmed,league_N,Division_W,NewLeague_N],axis=1)"
   ]
  },
  {
   "cell_type": "code",
   "execution_count": 21,
   "metadata": {},
   "outputs": [
    {
     "data": {
      "text/html": [
       "<div>\n",
       "<style scoped>\n",
       "    .dataframe tbody tr th:only-of-type {\n",
       "        vertical-align: middle;\n",
       "    }\n",
       "\n",
       "    .dataframe tbody tr th {\n",
       "        vertical-align: top;\n",
       "    }\n",
       "\n",
       "    .dataframe thead th {\n",
       "        text-align: right;\n",
       "    }\n",
       "</style>\n",
       "<table border=\"1\" class=\"dataframe\">\n",
       "  <thead>\n",
       "    <tr style=\"text-align: right;\">\n",
       "      <th></th>\n",
       "      <th>Salary</th>\n",
       "      <th>count_at_bats</th>\n",
       "      <th>count_hits</th>\n",
       "      <th>count_home_runs</th>\n",
       "      <th>count_runs</th>\n",
       "      <th>RBI</th>\n",
       "      <th>count_walks</th>\n",
       "      <th>years_experience</th>\n",
       "      <th>cumulative_at_bats</th>\n",
       "      <th>cumulative_hits</th>\n",
       "      <th>...</th>\n",
       "      <th>cumulative_walks</th>\n",
       "      <th>League</th>\n",
       "      <th>Division</th>\n",
       "      <th>PutOuts</th>\n",
       "      <th>Assists</th>\n",
       "      <th>Errors</th>\n",
       "      <th>NewLeague</th>\n",
       "      <th>league_N</th>\n",
       "      <th>Division_W</th>\n",
       "      <th>NewLeague_N</th>\n",
       "    </tr>\n",
       "  </thead>\n",
       "  <tbody>\n",
       "    <tr>\n",
       "      <th>0</th>\n",
       "      <td>875000</td>\n",
       "      <td>457</td>\n",
       "      <td>101</td>\n",
       "      <td>14</td>\n",
       "      <td>42</td>\n",
       "      <td>63</td>\n",
       "      <td>22</td>\n",
       "      <td>17</td>\n",
       "      <td>6521</td>\n",
       "      <td>1767</td>\n",
       "      <td>...</td>\n",
       "      <td>619</td>\n",
       "      <td>A</td>\n",
       "      <td>W</td>\n",
       "      <td>389</td>\n",
       "      <td>39</td>\n",
       "      <td>4</td>\n",
       "      <td>A</td>\n",
       "      <td>0</td>\n",
       "      <td>1</td>\n",
       "      <td>0</td>\n",
       "    </tr>\n",
       "  </tbody>\n",
       "</table>\n",
       "<p>1 rows × 23 columns</p>\n",
       "</div>"
      ],
      "text/plain": [
       "   Salary  count_at_bats  count_hits  count_home_runs  count_runs  RBI  \\\n",
       "0  875000            457         101               14          42   63   \n",
       "\n",
       "   count_walks  years_experience  cumulative_at_bats  cumulative_hits  ...  \\\n",
       "0           22                17                6521             1767  ...   \n",
       "\n",
       "   cumulative_walks  League  Division  PutOuts Assists Errors  NewLeague  \\\n",
       "0               619       A         W      389      39      4          A   \n",
       "\n",
       "   league_N  Division_W NewLeague_N  \n",
       "0         0           1           0  \n",
       "\n",
       "[1 rows x 23 columns]"
      ]
     },
     "execution_count": 21,
     "metadata": {},
     "output_type": "execute_result"
    }
   ],
   "source": [
    "baseball_df_trimmed.head(1)"
   ]
  },
  {
   "cell_type": "code",
   "execution_count": 22,
   "metadata": {},
   "outputs": [],
   "source": [
    "#drop unnessary columns\n",
    "baseball_df_trimmed.drop(['League','Division','NewLeague'],axis=1,inplace=True)"
   ]
  },
  {
   "cell_type": "code",
   "execution_count": 23,
   "metadata": {},
   "outputs": [
    {
     "data": {
      "text/html": [
       "<div>\n",
       "<style scoped>\n",
       "    .dataframe tbody tr th:only-of-type {\n",
       "        vertical-align: middle;\n",
       "    }\n",
       "\n",
       "    .dataframe tbody tr th {\n",
       "        vertical-align: top;\n",
       "    }\n",
       "\n",
       "    .dataframe thead th {\n",
       "        text-align: right;\n",
       "    }\n",
       "</style>\n",
       "<table border=\"1\" class=\"dataframe\">\n",
       "  <thead>\n",
       "    <tr style=\"text-align: right;\">\n",
       "      <th></th>\n",
       "      <th>Salary</th>\n",
       "      <th>count_at_bats</th>\n",
       "      <th>count_hits</th>\n",
       "      <th>count_home_runs</th>\n",
       "      <th>count_runs</th>\n",
       "      <th>RBI</th>\n",
       "      <th>count_walks</th>\n",
       "      <th>years_experience</th>\n",
       "      <th>cumulative_at_bats</th>\n",
       "      <th>cumulative_hits</th>\n",
       "      <th>cumulative_home_runs</th>\n",
       "      <th>cumulative_runs</th>\n",
       "      <th>cumulative_RBI</th>\n",
       "      <th>cumulative_walks</th>\n",
       "      <th>PutOuts</th>\n",
       "      <th>Assists</th>\n",
       "      <th>Errors</th>\n",
       "      <th>league_N</th>\n",
       "      <th>Division_W</th>\n",
       "      <th>NewLeague_N</th>\n",
       "    </tr>\n",
       "  </thead>\n",
       "  <tbody>\n",
       "    <tr>\n",
       "      <th>0</th>\n",
       "      <td>875000</td>\n",
       "      <td>457</td>\n",
       "      <td>101</td>\n",
       "      <td>14</td>\n",
       "      <td>42</td>\n",
       "      <td>63</td>\n",
       "      <td>22</td>\n",
       "      <td>17</td>\n",
       "      <td>6521</td>\n",
       "      <td>1767</td>\n",
       "      <td>281</td>\n",
       "      <td>1003</td>\n",
       "      <td>977</td>\n",
       "      <td>619</td>\n",
       "      <td>389</td>\n",
       "      <td>39</td>\n",
       "      <td>4</td>\n",
       "      <td>0</td>\n",
       "      <td>1</td>\n",
       "      <td>0</td>\n",
       "    </tr>\n",
       "  </tbody>\n",
       "</table>\n",
       "</div>"
      ],
      "text/plain": [
       "   Salary  count_at_bats  count_hits  count_home_runs  count_runs  RBI  \\\n",
       "0  875000            457         101               14          42   63   \n",
       "\n",
       "   count_walks  years_experience  cumulative_at_bats  cumulative_hits  \\\n",
       "0           22                17                6521             1767   \n",
       "\n",
       "   cumulative_home_runs  cumulative_runs  cumulative_RBI  cumulative_walks  \\\n",
       "0                   281             1003             977               619   \n",
       "\n",
       "   PutOuts  Assists  Errors  league_N  Division_W  NewLeague_N  \n",
       "0      389       39       4         0           1            0  "
      ]
     },
     "execution_count": 23,
     "metadata": {},
     "output_type": "execute_result"
    }
   ],
   "source": [
    "baseball_df_trimmed.head(1)"
   ]
  },
  {
   "cell_type": "markdown",
   "metadata": {},
   "source": [
    "# Graph plot"
   ]
  },
  {
   "cell_type": "code",
   "execution_count": 24,
   "metadata": {},
   "outputs": [],
   "source": [
    "sub_df=pd.DataFrame(baseball_df_trimmed[['Salary','league_N','Division_W','NewLeague_N']])"
   ]
  },
  {
   "cell_type": "code",
   "execution_count": 25,
   "metadata": {},
   "outputs": [
    {
     "data": {
      "image/png": "[encoded data removed]",
      "text/plain": [
       "<Figure size 864x432 with 2 Axes>"
      ]
     },
     "metadata": {
      "needs_background": "light"
     },
     "output_type": "display_data"
    }
   ],
   "source": [
    "#make heatmap to see the relevancy between salary and league;salary and division;salary and newleague\n",
    "rcParams['figure.figsize'] = (12,6)\n",
    "hm=sns.heatmap(sub_df.corr(),annot=True)"
   ]
  },
  {
   "cell_type": "code",
   "execution_count": 26,
   "metadata": {},
   "outputs": [],
   "source": [
    "sub_df2=pd.DataFrame(baseball_df_trimmed[['Salary','count_at_bats','count_hits','count_home_runs','count_runs','RBI','count_walks','years_experience', 'cumulative_at_bats','cumulative_hits','cumulative_home_runs','cumulative_runs','cumulative_RBI','cumulative_walks','PutOuts','Assists','Errors']])"
   ]
  },
  {
   "cell_type": "code",
   "execution_count": 27,
   "metadata": {},
   "outputs": [
    {
     "data": {
      "text/plain": [
       "(array([ 0.5,  1.5,  2.5,  3.5,  4.5,  5.5,  6.5,  7.5,  8.5,  9.5, 10.5,\n",
       "        11.5, 12.5, 13.5, 14.5, 15.5, 16.5]),\n",
       " <a list of 17 Text xticklabel objects>)"
      ]
     },
     "execution_count": 27,
     "metadata": {},
     "output_type": "execute_result"
    },
    {
     "data": {
      "image/png": "[encoded data removed]",
      "text/plain": [
       "<Figure size 1080x576 with 2 Axes>"
      ]
     },
     "metadata": {
      "needs_background": "light"
     },
     "output_type": "display_data"
    }
   ],
   "source": [
    "#make heatmap to the the relevancy between salary and other numerical variables\n",
    "rcParams['figure.figsize'] = (15,8)\n",
    "hm2=sns.heatmap(sub_df2.corr(),annot=True)\n",
    "plt.xticks(rotation=45)"
   ]
  },
  {
   "cell_type": "markdown",
   "metadata": {},
   "source": [
    "# Apply Linear Regression"
   ]
  },
  {
   "cell_type": "code",
   "execution_count": 84,
   "metadata": {},
   "outputs": [],
   "source": [
    "X=baseball_df_trimmed.drop(['Salary'],axis=1)\n",
    "y=baseball_df_trimmed['Salary']"
   ]
  },
  {
   "cell_type": "code",
   "execution_count": 85,
   "metadata": {},
   "outputs": [],
   "source": [
    "lin_reg=LinearRegression()"
   ]
  },
  {
   "cell_type": "code",
   "execution_count": 86,
   "metadata": {},
   "outputs": [],
   "source": [
    "#use cross validation to find the best mean squared error\n",
    "neg_MSE = cross_val_score(lin_reg,X,y,cv=5,scoring='neg_mean_squared_error').mean()"
   ]
  },
  {
   "cell_type": "code",
   "execution_count": 87,
   "metadata": {},
   "outputs": [
    {
     "name": "stdout",
     "output_type": "stream",
     "text": [
      "The MSE for linear regression is 106889554362.431\n"
     ]
    }
   ],
   "source": [
    "MSE_lin_reg=-(neg_MSE).round(3)\n",
    "print('The MSE for linear regression is {}'.format(MSE_lin_reg))"
   ]
  },
  {
   "cell_type": "code",
   "execution_count": 88,
   "metadata": {},
   "outputs": [
    {
     "name": "stdout",
     "output_type": "stream",
     "text": [
      "The RMSE of the linear regression is 326939.68000600813\n"
     ]
    }
   ],
   "source": [
    "# RMSE\n",
    "RMSE=np.sqrt(MSE_lin_reg)\n",
    "print('The RMSE of the linear regression is {}'.format(RMSE))"
   ]
  },
  {
   "cell_type": "code",
   "execution_count": 89,
   "metadata": {},
   "outputs": [],
   "source": [
    "X_train,X_test,y_train,y_test=train_test_split(X,y)"
   ]
  },
  {
   "cell_type": "code",
   "execution_count": 90,
   "metadata": {},
   "outputs": [
    {
     "data": {
      "text/plain": [
       "LinearRegression(copy_X=True, fit_intercept=True, n_jobs=None, normalize=False)"
      ]
     },
     "execution_count": 90,
     "metadata": {},
     "output_type": "execute_result"
    }
   ],
   "source": [
    "#fit the linear regression model\n",
    "lin_reg.fit(X_train,y_train)"
   ]
  },
  {
   "cell_type": "code",
   "execution_count": 91,
   "metadata": {},
   "outputs": [],
   "source": [
    "# use linear regression model to predict salary\n",
    "salary_y_pred = lin_reg.predict(X_test)"
   ]
  },
  {
   "cell_type": "code",
   "execution_count": 92,
   "metadata": {},
   "outputs": [
    {
     "data": {
      "text/html": [
       "<div>\n",
       "<style scoped>\n",
       "    .dataframe tbody tr th:only-of-type {\n",
       "        vertical-align: middle;\n",
       "    }\n",
       "\n",
       "    .dataframe tbody tr th {\n",
       "        vertical-align: top;\n",
       "    }\n",
       "\n",
       "    .dataframe thead th {\n",
       "        text-align: right;\n",
       "    }\n",
       "</style>\n",
       "<table border=\"1\" class=\"dataframe\">\n",
       "  <thead>\n",
       "    <tr style=\"text-align: right;\">\n",
       "      <th></th>\n",
       "      <th>Salary</th>\n",
       "      <th>salary_pred_lin</th>\n",
       "    </tr>\n",
       "  </thead>\n",
       "  <tbody>\n",
       "    <tr>\n",
       "      <th>64</th>\n",
       "      <td>200000</td>\n",
       "      <td>7.414532e+05</td>\n",
       "    </tr>\n",
       "    <tr>\n",
       "      <th>60</th>\n",
       "      <td>1450000</td>\n",
       "      <td>1.363752e+06</td>\n",
       "    </tr>\n",
       "    <tr>\n",
       "      <th>86</th>\n",
       "      <td>850000</td>\n",
       "      <td>7.230342e+05</td>\n",
       "    </tr>\n",
       "    <tr>\n",
       "      <th>138</th>\n",
       "      <td>950000</td>\n",
       "      <td>6.692622e+05</td>\n",
       "    </tr>\n",
       "    <tr>\n",
       "      <th>169</th>\n",
       "      <td>600000</td>\n",
       "      <td>6.549994e+05</td>\n",
       "    </tr>\n",
       "  </tbody>\n",
       "</table>\n",
       "</div>"
      ],
      "text/plain": [
       "      Salary  salary_pred_lin\n",
       "64    200000     7.414532e+05\n",
       "60   1450000     1.363752e+06\n",
       "86    850000     7.230342e+05\n",
       "138   950000     6.692622e+05\n",
       "169   600000     6.549994e+05"
      ]
     },
     "execution_count": 92,
     "metadata": {},
     "output_type": "execute_result"
    }
   ],
   "source": [
    "#show the real salary and the salary predicted by linear regression\n",
    "df_salary_y_pred = pd.DataFrame(salary_y_pred.round(4),columns=['salary_pred_lin'],index=X_test.index)\n",
    "df_lin_reg_salary=pd.concat([y_test,df_salary_y_pred],axis=1)\n",
    "df_lin_reg_salary.head()"
   ]
  },
  {
   "cell_type": "code",
   "execution_count": 97,
   "metadata": {},
   "outputs": [
    {
     "data": {
      "text/html": [
       "<div>\n",
       "<style scoped>\n",
       "    .dataframe tbody tr th:only-of-type {\n",
       "        vertical-align: middle;\n",
       "    }\n",
       "\n",
       "    .dataframe tbody tr th {\n",
       "        vertical-align: top;\n",
       "    }\n",
       "\n",
       "    .dataframe thead th {\n",
       "        text-align: right;\n",
       "    }\n",
       "</style>\n",
       "<table border=\"1\" class=\"dataframe\">\n",
       "  <thead>\n",
       "    <tr style=\"text-align: right;\">\n",
       "      <th></th>\n",
       "      <th>lin_coeff</th>\n",
       "    </tr>\n",
       "  </thead>\n",
       "  <tbody>\n",
       "    <tr>\n",
       "      <th>count_at_bats</th>\n",
       "      <td>-1683.961100</td>\n",
       "    </tr>\n",
       "    <tr>\n",
       "      <th>count_hits</th>\n",
       "      <td>6277.462622</td>\n",
       "    </tr>\n",
       "    <tr>\n",
       "      <th>count_home_runs</th>\n",
       "      <td>11638.868095</td>\n",
       "    </tr>\n",
       "    <tr>\n",
       "      <th>count_runs</th>\n",
       "      <td>-124.209435</td>\n",
       "    </tr>\n",
       "    <tr>\n",
       "      <th>RBI</th>\n",
       "      <td>-1995.295646</td>\n",
       "    </tr>\n",
       "    <tr>\n",
       "      <th>count_walks</th>\n",
       "      <td>4315.362390</td>\n",
       "    </tr>\n",
       "    <tr>\n",
       "      <th>years_experience</th>\n",
       "      <td>5024.220708</td>\n",
       "    </tr>\n",
       "    <tr>\n",
       "      <th>cumulative_at_bats</th>\n",
       "      <td>26.818033</td>\n",
       "    </tr>\n",
       "    <tr>\n",
       "      <th>cumulative_hits</th>\n",
       "      <td>-467.719747</td>\n",
       "    </tr>\n",
       "    <tr>\n",
       "      <th>cumulative_home_runs</th>\n",
       "      <td>-1948.575258</td>\n",
       "    </tr>\n",
       "    <tr>\n",
       "      <th>cumulative_runs</th>\n",
       "      <td>535.320085</td>\n",
       "    </tr>\n",
       "    <tr>\n",
       "      <th>cumulative_RBI</th>\n",
       "      <td>1363.099075</td>\n",
       "    </tr>\n",
       "    <tr>\n",
       "      <th>cumulative_walks</th>\n",
       "      <td>-297.999012</td>\n",
       "    </tr>\n",
       "    <tr>\n",
       "      <th>PutOuts</th>\n",
       "      <td>379.068290</td>\n",
       "    </tr>\n",
       "    <tr>\n",
       "      <th>Assists</th>\n",
       "      <td>476.048716</td>\n",
       "    </tr>\n",
       "    <tr>\n",
       "      <th>Errors</th>\n",
       "      <td>-6947.207738</td>\n",
       "    </tr>\n",
       "    <tr>\n",
       "      <th>league_N</th>\n",
       "      <td>109539.965718</td>\n",
       "    </tr>\n",
       "    <tr>\n",
       "      <th>Division_W</th>\n",
       "      <td>-81719.849165</td>\n",
       "    </tr>\n",
       "    <tr>\n",
       "      <th>NewLeague_N</th>\n",
       "      <td>-29904.092085</td>\n",
       "    </tr>\n",
       "  </tbody>\n",
       "</table>\n",
       "</div>"
      ],
      "text/plain": [
       "                          lin_coeff\n",
       "count_at_bats          -1683.961100\n",
       "count_hits              6277.462622\n",
       "count_home_runs        11638.868095\n",
       "count_runs              -124.209435\n",
       "RBI                    -1995.295646\n",
       "count_walks             4315.362390\n",
       "years_experience        5024.220708\n",
       "cumulative_at_bats        26.818033\n",
       "cumulative_hits         -467.719747\n",
       "cumulative_home_runs   -1948.575258\n",
       "cumulative_runs          535.320085\n",
       "cumulative_RBI          1363.099075\n",
       "cumulative_walks        -297.999012\n",
       "PutOuts                  379.068290\n",
       "Assists                  476.048716\n",
       "Errors                 -6947.207738\n",
       "league_N              109539.965718\n",
       "Division_W            -81719.849165\n",
       "NewLeague_N           -29904.092085"
      ]
     },
     "execution_count": 97,
     "metadata": {},
     "output_type": "execute_result"
    }
   ],
   "source": [
    "#the coefficients corresponding to every independent variable\n",
    "\n",
    "cdf_lin=pd.DataFrame(lin_reg.coef_,X.columns,columns=['lin_coeff'])\n",
    "cdf_lin"
   ]
  },
  {
   "cell_type": "code",
   "execution_count": 98,
   "metadata": {},
   "outputs": [
    {
     "data": {
      "text/plain": [
       "<matplotlib.axes._subplots.AxesSubplot at 0x7fa79bce6f10>"
      ]
     },
     "execution_count": 98,
     "metadata": {},
     "output_type": "execute_result"
    },
    {
     "data": {
      "image/png": "[encoded data removed]",
      "text/plain": [
       "<Figure size 720x360 with 1 Axes>"
      ]
     },
     "metadata": {
      "needs_background": "light"
     },
     "output_type": "display_data"
    }
   ],
   "source": [
    "#plot residual of the real salary and the predicted salary\n",
    "rcParams['figure.figsize'] = (10,5)\n",
    "sns.distplot(y_test-salary_y_pred)"
   ]
  },
  {
   "cell_type": "markdown",
   "metadata": {},
   "source": [
    "# Apply ridge regression"
   ]
  },
  {
   "cell_type": "code",
   "execution_count": 100,
   "metadata": {},
   "outputs": [],
   "source": [
    "# give different values of alpha to make ridge regression model \n",
    "ridge=Ridge(normalize=True)\n",
    "parameters={'alpha':[1e-15,1e-10,1e-8,1e-3,1e-2,1,5,10,20,30,35,40,45,50,55,100]}\n",
    "ridge_regression=GridSearchCV(ridge,parameters,scoring='neg_mean_squared_error',cv=5)\n"
   ]
  },
  {
   "cell_type": "code",
   "execution_count": 101,
   "metadata": {},
   "outputs": [
    {
     "data": {
      "text/plain": [
       "GridSearchCV(cv=5, error_score=nan,\n",
       "             estimator=Ridge(alpha=1.0, copy_X=True, fit_intercept=True,\n",
       "                             max_iter=None, normalize=True, random_state=None,\n",
       "                             solver='auto', tol=0.001),\n",
       "             iid='deprecated', n_jobs=None,\n",
       "             param_grid={'alpha': [1e-15, 1e-10, 1e-08, 0.001, 0.01, 1, 5, 10,\n",
       "                                   20, 30, 35, 40, 45, 50, 55, 100]},\n",
       "             pre_dispatch='2*n_jobs', refit=True, return_train_score=False,\n",
       "             scoring='neg_mean_squared_error', verbose=0)"
      ]
     },
     "execution_count": 101,
     "metadata": {},
     "output_type": "execute_result"
    }
   ],
   "source": [
    "ridge_regression.fit(X_train,y_train)"
   ]
  },
  {
   "cell_type": "code",
   "execution_count": 102,
   "metadata": {},
   "outputs": [],
   "source": [
    "# use ridge regression make prediction\n",
    "salary_y_pred_ridge = ridge_regression.predict(X_test)"
   ]
  },
  {
   "cell_type": "code",
   "execution_count": 105,
   "metadata": {},
   "outputs": [
    {
     "data": {
      "text/html": [
       "<div>\n",
       "<style scoped>\n",
       "    .dataframe tbody tr th:only-of-type {\n",
       "        vertical-align: middle;\n",
       "    }\n",
       "\n",
       "    .dataframe tbody tr th {\n",
       "        vertical-align: top;\n",
       "    }\n",
       "\n",
       "    .dataframe thead th {\n",
       "        text-align: right;\n",
       "    }\n",
       "</style>\n",
       "<table border=\"1\" class=\"dataframe\">\n",
       "  <thead>\n",
       "    <tr style=\"text-align: right;\">\n",
       "      <th></th>\n",
       "      <th>Salary</th>\n",
       "      <th>salary_pred_ridge</th>\n",
       "    </tr>\n",
       "  </thead>\n",
       "  <tbody>\n",
       "    <tr>\n",
       "      <th>64</th>\n",
       "      <td>200000</td>\n",
       "      <td>8.721787e+05</td>\n",
       "    </tr>\n",
       "    <tr>\n",
       "      <th>60</th>\n",
       "      <td>1450000</td>\n",
       "      <td>1.126548e+06</td>\n",
       "    </tr>\n",
       "    <tr>\n",
       "      <th>86</th>\n",
       "      <td>850000</td>\n",
       "      <td>7.656105e+05</td>\n",
       "    </tr>\n",
       "    <tr>\n",
       "      <th>138</th>\n",
       "      <td>950000</td>\n",
       "      <td>6.606766e+05</td>\n",
       "    </tr>\n",
       "    <tr>\n",
       "      <th>169</th>\n",
       "      <td>600000</td>\n",
       "      <td>5.385576e+05</td>\n",
       "    </tr>\n",
       "  </tbody>\n",
       "</table>\n",
       "</div>"
      ],
      "text/plain": [
       "      Salary  salary_pred_ridge\n",
       "64    200000       8.721787e+05\n",
       "60   1450000       1.126548e+06\n",
       "86    850000       7.656105e+05\n",
       "138   950000       6.606766e+05\n",
       "169   600000       5.385576e+05"
      ]
     },
     "execution_count": 105,
     "metadata": {},
     "output_type": "execute_result"
    }
   ],
   "source": [
    "#show the real salary and the salary predicted by ridge regression\n",
    "df_salary_y_pred_ridge = pd.DataFrame(salary_y_pred_ridge.round(4),columns=['salary_pred_ridge'],index=X_test.index)\n",
    "df_ridge_salary=pd.concat([y_test,df_salary_y_pred_ridge],axis=1)\n",
    "df_ridge_salary.head()"
   ]
  },
  {
   "cell_type": "code",
   "execution_count": 106,
   "metadata": {},
   "outputs": [
    {
     "name": "stdout",
     "output_type": "stream",
     "text": [
      "The MSE for ridge regression is 83055047781.575\n"
     ]
    }
   ],
   "source": [
    "#print(ridge_regression.best_score_)\n",
    "MSE_ridge = -(ridge_regression.best_score_).round(3)\n",
    "print('The MSE for ridge regression is {}'.format(MSE_ridge))"
   ]
  },
  {
   "cell_type": "code",
   "execution_count": 108,
   "metadata": {},
   "outputs": [
    {
     "name": "stdout",
     "output_type": "stream",
     "text": [
      "The RMSE for ridge regression is 288192.72680200485\n"
     ]
    }
   ],
   "source": [
    "RMSE_ridge=np.sqrt(MSE_ridge)\n",
    "print('The RMSE for ridge regression is {}'.format(RMSE_ridge))"
   ]
  },
  {
   "cell_type": "code",
   "execution_count": 109,
   "metadata": {},
   "outputs": [
    {
     "name": "stdout",
     "output_type": "stream",
     "text": [
      "{'alpha': 1}\n"
     ]
    }
   ],
   "source": [
    "#find the best alpha\n",
    "print(ridge_regression.best_params_)"
   ]
  },
  {
   "cell_type": "code",
   "execution_count": 110,
   "metadata": {},
   "outputs": [
    {
     "name": "stdout",
     "output_type": "stream",
     "text": [
      "                       Coeff_ridge\n",
      "count_at_bats         -1703.069372\n",
      "count_hits             6335.697291\n",
      "count_home_runs       11755.359088\n",
      "count_runs             -143.235670\n",
      "RBI                   -2034.689371\n",
      "count_walks            4321.790216\n",
      "years_experience       4887.438806\n",
      "cumulative_at_bats       32.021458\n",
      "cumulative_hits        -496.588860\n",
      "cumulative_home_runs  -2001.195003\n",
      "cumulative_runs         554.501633\n",
      "cumulative_RBI         1379.825106\n",
      "cumulative_walks       -299.830116\n",
      "PutOuts                 380.063449\n",
      "Assists                 472.406136\n",
      "Errors                -6807.499967\n",
      "league_N              96813.932276\n",
      "Division_W           -79196.482940\n",
      "NewLeague_N          -18477.870871\n"
     ]
    }
   ],
   "source": [
    "#the coefficients corresponding to every independent variable when alpha is equal to 0.01\n",
    "ridge=Ridge(alpha=1)\n",
    "ridge_coef=ridge.fit(X_train,y_train).coef_\n",
    "cdf_ridge=pd.DataFrame(ridge_coef,X.columns,columns=['Coeff_ridge'])\n",
    "print(cdf_ridge)"
   ]
  },
  {
   "cell_type": "code",
   "execution_count": 111,
   "metadata": {},
   "outputs": [
    {
     "data": {
      "text/plain": [
       "<matplotlib.axes._subplots.AxesSubplot at 0x7fa79b74e050>"
      ]
     },
     "execution_count": 111,
     "metadata": {},
     "output_type": "execute_result"
    },
    {
     "data": {
      "image/png": "[encoded data removed]",
      "text/plain": [
       "<Figure size 720x360 with 1 Axes>"
      ]
     },
     "metadata": {
      "needs_background": "light"
     },
     "output_type": "display_data"
    }
   ],
   "source": [
    "#plot residuals of salary and predicted salary for ridge regression\n",
    "sns.distplot(y_test-salary_y_pred_ridge)"
   ]
  },
  {
   "cell_type": "markdown",
   "metadata": {},
   "source": [
    "# Apply Lasso Rregression"
   ]
  },
  {
   "cell_type": "code",
   "execution_count": 112,
   "metadata": {},
   "outputs": [],
   "source": [
    "# give different values of alpha to make ridge regression model\n",
    "lasso=Lasso(normalize=True)\n",
    "parameters={'alpha':[1e-15,1e-10,1e-8,1e-3,1e-2,1,5,10,20,30,35,40,45,50,55,100]}\n",
    "lasso_regression=GridSearchCV(lasso,parameters,scoring='neg_mean_squared_error',cv=5)"
   ]
  },
  {
   "cell_type": "code",
   "execution_count": 113,
   "metadata": {},
   "outputs": [
    {
     "name": "stderr",
     "output_type": "stream",
     "text": [
      "/opt/anaconda3/lib/python3.7/site-packages/sklearn/linear_model/_coordinate_descent.py:476: ConvergenceWarning: Objective did not converge. You might want to increase the number of iterations. Duality gap: 3254574852429.96, tolerance: 1536113546.3636365\n",
      "  positive)\n",
      "/opt/anaconda3/lib/python3.7/site-packages/sklearn/linear_model/_coordinate_descent.py:476: ConvergenceWarning: Objective did not converge. You might want to increase the number of iterations. Duality gap: 3085373370962.646, tolerance: 1753757996.3636365\n",
      "  positive)\n",
      "/opt/anaconda3/lib/python3.7/site-packages/sklearn/linear_model/_coordinate_descent.py:476: ConvergenceWarning: Objective did not converge. You might want to increase the number of iterations. Duality gap: 3044601560201.613, tolerance: 1650121327.2727275\n",
      "  positive)\n",
      "/opt/anaconda3/lib/python3.7/site-packages/sklearn/linear_model/_coordinate_descent.py:476: ConvergenceWarning: Objective did not converge. You might want to increase the number of iterations. Duality gap: 3012847747924.878, tolerance: 1698931567.5675673\n",
      "  positive)\n",
      "/opt/anaconda3/lib/python3.7/site-packages/sklearn/linear_model/_coordinate_descent.py:476: ConvergenceWarning: Objective did not converge. You might want to increase the number of iterations. Duality gap: 3303910209557.8916, tolerance: 1715972369.3693695\n",
      "  positive)\n",
      "/opt/anaconda3/lib/python3.7/site-packages/sklearn/linear_model/_coordinate_descent.py:476: ConvergenceWarning: Objective did not converge. You might want to increase the number of iterations. Duality gap: 3254574852257.8154, tolerance: 1536113546.3636365\n",
      "  positive)\n",
      "/opt/anaconda3/lib/python3.7/site-packages/sklearn/linear_model/_coordinate_descent.py:476: ConvergenceWarning: Objective did not converge. You might want to increase the number of iterations. Duality gap: 3085373370899.8657, tolerance: 1753757996.3636365\n",
      "  positive)\n",
      "/opt/anaconda3/lib/python3.7/site-packages/sklearn/linear_model/_coordinate_descent.py:476: ConvergenceWarning: Objective did not converge. You might want to increase the number of iterations. Duality gap: 3044601559872.23, tolerance: 1650121327.2727275\n",
      "  positive)\n",
      "/opt/anaconda3/lib/python3.7/site-packages/sklearn/linear_model/_coordinate_descent.py:476: ConvergenceWarning: Objective did not converge. You might want to increase the number of iterations. Duality gap: 3012847747911.531, tolerance: 1698931567.5675673\n",
      "  positive)\n",
      "/opt/anaconda3/lib/python3.7/site-packages/sklearn/linear_model/_coordinate_descent.py:476: ConvergenceWarning: Objective did not converge. You might want to increase the number of iterations. Duality gap: 3303910209476.814, tolerance: 1715972369.3693695\n",
      "  positive)\n",
      "/opt/anaconda3/lib/python3.7/site-packages/sklearn/linear_model/_coordinate_descent.py:476: ConvergenceWarning: Objective did not converge. You might want to increase the number of iterations. Duality gap: 3254574835216.079, tolerance: 1536113546.3636365\n",
      "  positive)\n",
      "/opt/anaconda3/lib/python3.7/site-packages/sklearn/linear_model/_coordinate_descent.py:476: ConvergenceWarning: Objective did not converge. You might want to increase the number of iterations. Duality gap: 3085373364684.2036, tolerance: 1753757996.3636365\n",
      "  positive)\n",
      "/opt/anaconda3/lib/python3.7/site-packages/sklearn/linear_model/_coordinate_descent.py:476: ConvergenceWarning: Objective did not converge. You might want to increase the number of iterations. Duality gap: 3044601527263.156, tolerance: 1650121327.2727275\n",
      "  positive)\n",
      "/opt/anaconda3/lib/python3.7/site-packages/sklearn/linear_model/_coordinate_descent.py:476: ConvergenceWarning: Objective did not converge. You might want to increase the number of iterations. Duality gap: 3012847746590.818, tolerance: 1698931567.5675673\n",
      "  positive)\n",
      "/opt/anaconda3/lib/python3.7/site-packages/sklearn/linear_model/_coordinate_descent.py:476: ConvergenceWarning: Objective did not converge. You might want to increase the number of iterations. Duality gap: 3303910201448.408, tolerance: 1715972369.3693695\n",
      "  positive)\n",
      "/opt/anaconda3/lib/python3.7/site-packages/sklearn/linear_model/_coordinate_descent.py:476: ConvergenceWarning: Objective did not converge. You might want to increase the number of iterations. Duality gap: 3252854009357.6064, tolerance: 1536113546.3636365\n",
      "  positive)\n",
      "/opt/anaconda3/lib/python3.7/site-packages/sklearn/linear_model/_coordinate_descent.py:476: ConvergenceWarning: Objective did not converge. You might want to increase the number of iterations. Duality gap: 3084745452848.814, tolerance: 1753757996.3636365\n",
      "  positive)\n",
      "/opt/anaconda3/lib/python3.7/site-packages/sklearn/linear_model/_coordinate_descent.py:476: ConvergenceWarning: Objective did not converge. You might want to increase the number of iterations. Duality gap: 3041306108455.807, tolerance: 1650121327.2727275\n",
      "  positive)\n",
      "/opt/anaconda3/lib/python3.7/site-packages/sklearn/linear_model/_coordinate_descent.py:476: ConvergenceWarning: Objective did not converge. You might want to increase the number of iterations. Duality gap: 3012714337933.5796, tolerance: 1698931567.5675673\n",
      "  positive)\n",
      "/opt/anaconda3/lib/python3.7/site-packages/sklearn/linear_model/_coordinate_descent.py:476: ConvergenceWarning: Objective did not converge. You might want to increase the number of iterations. Duality gap: 3303099349419.0967, tolerance: 1715972369.3693695\n",
      "  positive)\n",
      "/opt/anaconda3/lib/python3.7/site-packages/sklearn/linear_model/_coordinate_descent.py:476: ConvergenceWarning: Objective did not converge. You might want to increase the number of iterations. Duality gap: 3237415322526.8247, tolerance: 1536113546.3636365\n",
      "  positive)\n",
      "/opt/anaconda3/lib/python3.7/site-packages/sklearn/linear_model/_coordinate_descent.py:476: ConvergenceWarning: Objective did not converge. You might want to increase the number of iterations. Duality gap: 3079087692857.7944, tolerance: 1753757996.3636365\n",
      "  positive)\n",
      "/opt/anaconda3/lib/python3.7/site-packages/sklearn/linear_model/_coordinate_descent.py:476: ConvergenceWarning: Objective did not converge. You might want to increase the number of iterations. Duality gap: 3011502089311.1177, tolerance: 1650121327.2727275\n",
      "  positive)\n",
      "/opt/anaconda3/lib/python3.7/site-packages/sklearn/linear_model/_coordinate_descent.py:476: ConvergenceWarning: Objective did not converge. You might want to increase the number of iterations. Duality gap: 3011513334450.3125, tolerance: 1698931567.5675673\n",
      "  positive)\n",
      "/opt/anaconda3/lib/python3.7/site-packages/sklearn/linear_model/_coordinate_descent.py:476: ConvergenceWarning: Objective did not converge. You might want to increase the number of iterations. Duality gap: 3295809678653.9253, tolerance: 1715972369.3693695\n",
      "  positive)\n",
      "/opt/anaconda3/lib/python3.7/site-packages/sklearn/linear_model/_coordinate_descent.py:476: ConvergenceWarning: Objective did not converge. You might want to increase the number of iterations. Duality gap: 1963471135727.1047, tolerance: 1536113546.3636365\n",
      "  positive)\n",
      "/opt/anaconda3/lib/python3.7/site-packages/sklearn/linear_model/_coordinate_descent.py:476: ConvergenceWarning: Objective did not converge. You might want to increase the number of iterations. Duality gap: 2379759252855.391, tolerance: 1753757996.3636365\n",
      "  positive)\n",
      "/opt/anaconda3/lib/python3.7/site-packages/sklearn/linear_model/_coordinate_descent.py:476: ConvergenceWarning: Objective did not converge. You might want to increase the number of iterations. Duality gap: 636406343424.3604, tolerance: 1650121327.2727275\n",
      "  positive)\n",
      "/opt/anaconda3/lib/python3.7/site-packages/sklearn/linear_model/_coordinate_descent.py:476: ConvergenceWarning: Objective did not converge. You might want to increase the number of iterations. Duality gap: 2875895398770.5527, tolerance: 1698931567.5675673\n",
      "  positive)\n",
      "/opt/anaconda3/lib/python3.7/site-packages/sklearn/linear_model/_coordinate_descent.py:476: ConvergenceWarning: Objective did not converge. You might want to increase the number of iterations. Duality gap: 2575960056871.665, tolerance: 1715972369.3693695\n",
      "  positive)\n",
      "/opt/anaconda3/lib/python3.7/site-packages/sklearn/linear_model/_coordinate_descent.py:476: ConvergenceWarning: Objective did not converge. You might want to increase the number of iterations. Duality gap: 318418773651.56055, tolerance: 1536113546.3636365\n",
      "  positive)\n",
      "/opt/anaconda3/lib/python3.7/site-packages/sklearn/linear_model/_coordinate_descent.py:476: ConvergenceWarning: Objective did not converge. You might want to increase the number of iterations. Duality gap: 103188221077.15234, tolerance: 1753757996.3636365\n",
      "  positive)\n",
      "/opt/anaconda3/lib/python3.7/site-packages/sklearn/linear_model/_coordinate_descent.py:476: ConvergenceWarning: Objective did not converge. You might want to increase the number of iterations. Duality gap: 8891840039.729492, tolerance: 1650121327.2727275\n",
      "  positive)\n",
      "/opt/anaconda3/lib/python3.7/site-packages/sklearn/linear_model/_coordinate_descent.py:476: ConvergenceWarning: Objective did not converge. You might want to increase the number of iterations. Duality gap: 2251187830297.1562, tolerance: 1698931567.5675673\n",
      "  positive)\n",
      "/opt/anaconda3/lib/python3.7/site-packages/sklearn/linear_model/_coordinate_descent.py:476: ConvergenceWarning: Objective did not converge. You might want to increase the number of iterations. Duality gap: 842485359697.9839, tolerance: 1715972369.3693695\n",
      "  positive)\n",
      "/opt/anaconda3/lib/python3.7/site-packages/sklearn/linear_model/_coordinate_descent.py:476: ConvergenceWarning: Objective did not converge. You might want to increase the number of iterations. Duality gap: 48477922515.993164, tolerance: 1536113546.3636365\n",
      "  positive)\n",
      "/opt/anaconda3/lib/python3.7/site-packages/sklearn/linear_model/_coordinate_descent.py:476: ConvergenceWarning: Objective did not converge. You might want to increase the number of iterations. Duality gap: 10330408231.999023, tolerance: 1753757996.3636365\n",
      "  positive)\n",
      "/opt/anaconda3/lib/python3.7/site-packages/sklearn/linear_model/_coordinate_descent.py:476: ConvergenceWarning: Objective did not converge. You might want to increase the number of iterations. Duality gap: 74112711505.33887, tolerance: 1650121327.2727275\n",
      "  positive)\n",
      "/opt/anaconda3/lib/python3.7/site-packages/sklearn/linear_model/_coordinate_descent.py:476: ConvergenceWarning: Objective did not converge. You might want to increase the number of iterations. Duality gap: 1506055496874.493, tolerance: 1698931567.5675673\n",
      "  positive)\n",
      "/opt/anaconda3/lib/python3.7/site-packages/sklearn/linear_model/_coordinate_descent.py:476: ConvergenceWarning: Objective did not converge. You might want to increase the number of iterations. Duality gap: 94342748323.92871, tolerance: 1715972369.3693695\n",
      "  positive)\n",
      "/opt/anaconda3/lib/python3.7/site-packages/sklearn/linear_model/_coordinate_descent.py:476: ConvergenceWarning: Objective did not converge. You might want to increase the number of iterations. Duality gap: 8094634751.915039, tolerance: 1536113546.3636365\n",
      "  positive)\n",
      "/opt/anaconda3/lib/python3.7/site-packages/sklearn/linear_model/_coordinate_descent.py:476: ConvergenceWarning: Objective did not converge. You might want to increase the number of iterations. Duality gap: 2981970162.6259766, tolerance: 1753757996.3636365\n",
      "  positive)\n"
     ]
    },
    {
     "name": "stderr",
     "output_type": "stream",
     "text": [
      "/opt/anaconda3/lib/python3.7/site-packages/sklearn/linear_model/_coordinate_descent.py:476: ConvergenceWarning: Objective did not converge. You might want to increase the number of iterations. Duality gap: 795690674012.0918, tolerance: 1698931567.5675673\n",
      "  positive)\n",
      "/opt/anaconda3/lib/python3.7/site-packages/sklearn/linear_model/_coordinate_descent.py:476: ConvergenceWarning: Objective did not converge. You might want to increase the number of iterations. Duality gap: 22046294261.38672, tolerance: 1715972369.3693695\n",
      "  positive)\n",
      "/opt/anaconda3/lib/python3.7/site-packages/sklearn/linear_model/_coordinate_descent.py:476: ConvergenceWarning: Objective did not converge. You might want to increase the number of iterations. Duality gap: 3962118439.734375, tolerance: 1753757996.3636365\n",
      "  positive)\n",
      "/opt/anaconda3/lib/python3.7/site-packages/sklearn/linear_model/_coordinate_descent.py:476: ConvergenceWarning: Objective did not converge. You might want to increase the number of iterations. Duality gap: 432354179106.72217, tolerance: 1698931567.5675673\n",
      "  positive)\n",
      "/opt/anaconda3/lib/python3.7/site-packages/sklearn/linear_model/_coordinate_descent.py:476: ConvergenceWarning: Objective did not converge. You might want to increase the number of iterations. Duality gap: 319248743739.60693, tolerance: 1698931567.5675673\n",
      "  positive)\n",
      "/opt/anaconda3/lib/python3.7/site-packages/sklearn/linear_model/_coordinate_descent.py:476: ConvergenceWarning: Objective did not converge. You might want to increase the number of iterations. Duality gap: 235114986274.16016, tolerance: 1698931567.5675673\n",
      "  positive)\n",
      "/opt/anaconda3/lib/python3.7/site-packages/sklearn/linear_model/_coordinate_descent.py:476: ConvergenceWarning: Objective did not converge. You might want to increase the number of iterations. Duality gap: 171983939805.4541, tolerance: 1698931567.5675673\n",
      "  positive)\n",
      "/opt/anaconda3/lib/python3.7/site-packages/sklearn/linear_model/_coordinate_descent.py:476: ConvergenceWarning: Objective did not converge. You might want to increase the number of iterations. Duality gap: 124124690468.41309, tolerance: 1698931567.5675673\n",
      "  positive)\n",
      "/opt/anaconda3/lib/python3.7/site-packages/sklearn/linear_model/_coordinate_descent.py:476: ConvergenceWarning: Objective did not converge. You might want to increase the number of iterations. Duality gap: 87809783121.91504, tolerance: 1698931567.5675673\n",
      "  positive)\n"
     ]
    },
    {
     "data": {
      "text/plain": [
       "GridSearchCV(cv=5, error_score=nan,\n",
       "             estimator=Lasso(alpha=1.0, copy_X=True, fit_intercept=True,\n",
       "                             max_iter=1000, normalize=True, positive=False,\n",
       "                             precompute=False, random_state=None,\n",
       "                             selection='cyclic', tol=0.0001, warm_start=False),\n",
       "             iid='deprecated', n_jobs=None,\n",
       "             param_grid={'alpha': [1e-15, 1e-10, 1e-08, 0.001, 0.01, 1, 5, 10,\n",
       "                                   20, 30, 35, 40, 45, 50, 55, 100]},\n",
       "             pre_dispatch='2*n_jobs', refit=True, return_train_score=False,\n",
       "             scoring='neg_mean_squared_error', verbose=0)"
      ]
     },
     "execution_count": 113,
     "metadata": {},
     "output_type": "execute_result"
    }
   ],
   "source": [
    "lasso_regression.fit(X_train,y_train)"
   ]
  },
  {
   "cell_type": "code",
   "execution_count": 114,
   "metadata": {},
   "outputs": [],
   "source": [
    "# use lasso regression make prediction\n",
    "salary_y_pred_lasso = lasso_regression.predict(X_test)"
   ]
  },
  {
   "cell_type": "code",
   "execution_count": 118,
   "metadata": {},
   "outputs": [
    {
     "data": {
      "text/html": [
       "<div>\n",
       "<style scoped>\n",
       "    .dataframe tbody tr th:only-of-type {\n",
       "        vertical-align: middle;\n",
       "    }\n",
       "\n",
       "    .dataframe tbody tr th {\n",
       "        vertical-align: top;\n",
       "    }\n",
       "\n",
       "    .dataframe thead th {\n",
       "        text-align: right;\n",
       "    }\n",
       "</style>\n",
       "<table border=\"1\" class=\"dataframe\">\n",
       "  <thead>\n",
       "    <tr style=\"text-align: right;\">\n",
       "      <th></th>\n",
       "      <th>Salary</th>\n",
       "      <th>salary_pred_lasso</th>\n",
       "    </tr>\n",
       "  </thead>\n",
       "  <tbody>\n",
       "    <tr>\n",
       "      <th>64</th>\n",
       "      <td>200000</td>\n",
       "      <td>8.049190e+05</td>\n",
       "    </tr>\n",
       "    <tr>\n",
       "      <th>60</th>\n",
       "      <td>1450000</td>\n",
       "      <td>1.335340e+06</td>\n",
       "    </tr>\n",
       "    <tr>\n",
       "      <th>86</th>\n",
       "      <td>850000</td>\n",
       "      <td>7.424639e+05</td>\n",
       "    </tr>\n",
       "    <tr>\n",
       "      <th>138</th>\n",
       "      <td>950000</td>\n",
       "      <td>6.734553e+05</td>\n",
       "    </tr>\n",
       "    <tr>\n",
       "      <th>169</th>\n",
       "      <td>600000</td>\n",
       "      <td>6.091877e+05</td>\n",
       "    </tr>\n",
       "  </tbody>\n",
       "</table>\n",
       "</div>"
      ],
      "text/plain": [
       "      Salary  salary_pred_lasso\n",
       "64    200000       8.049190e+05\n",
       "60   1450000       1.335340e+06\n",
       "86    850000       7.424639e+05\n",
       "138   950000       6.734553e+05\n",
       "169   600000       6.091877e+05"
      ]
     },
     "execution_count": 118,
     "metadata": {},
     "output_type": "execute_result"
    }
   ],
   "source": [
    "#show the real salary and the salary predicted by lasso regression\n",
    "df_salary_y_pred_lasso = pd.DataFrame(salary_y_pred_lasso.round(4),columns=['salary_pred_lasso'],index=X_test.index)\n",
    "df_lasso_salary=pd.concat([y_test,df_salary_y_pred_lasso],axis=1)\n",
    "df_lasso_salary.head()"
   ]
  },
  {
   "cell_type": "code",
   "execution_count": 119,
   "metadata": {},
   "outputs": [
    {
     "name": "stdout",
     "output_type": "stream",
     "text": [
      "The MSE for lasso regression is 92024940063.987\n"
     ]
    }
   ],
   "source": [
    "#find the lowest MSE\n",
    "MSE_lasso = -(lasso_regression.best_score_).round(3)\n",
    "print('The MSE for lasso regression is {}'.format(MSE_lasso))"
   ]
  },
  {
   "cell_type": "code",
   "execution_count": 120,
   "metadata": {},
   "outputs": [
    {
     "name": "stdout",
     "output_type": "stream",
     "text": [
      "The RMSE for lasso regression is 303356.12745416403\n"
     ]
    }
   ],
   "source": [
    "#find the lowest RMSE\n",
    "RMSE_lasso = np.sqrt(MSE_lasso)\n",
    "print('The RMSE for lasso regression is {}'.format(RMSE_lasso))"
   ]
  },
  {
   "cell_type": "code",
   "execution_count": 121,
   "metadata": {},
   "outputs": [
    {
     "name": "stdout",
     "output_type": "stream",
     "text": [
      "{'alpha': 100}\n"
     ]
    }
   ],
   "source": [
    "#find the best alpha\n",
    "print(lasso_regression.best_params_)"
   ]
  },
  {
   "cell_type": "code",
   "execution_count": 122,
   "metadata": {},
   "outputs": [
    {
     "name": "stdout",
     "output_type": "stream",
     "text": [
      "                        Coeff_lasso\n",
      "count_at_bats          -1641.038414\n",
      "count_hits              6085.897628\n",
      "count_home_runs        11357.281168\n",
      "count_runs               -15.658062\n",
      "RBI                    -1888.794024\n",
      "count_walks             4267.204082\n",
      "years_experience        6197.375232\n",
      "cumulative_at_bats        -0.737992\n",
      "cumulative_hits         -353.100382\n",
      "cumulative_home_runs   -1778.296877\n",
      "cumulative_runs          491.965923\n",
      "cumulative_RBI          1307.181586\n",
      "cumulative_walks        -285.018418\n",
      "PutOuts                  377.203517\n",
      "Assists                  481.783576\n",
      "Errors                 -7021.278237\n",
      "league_N              109515.770283\n",
      "Division_W            -81130.454712\n",
      "NewLeague_N           -29220.825463\n"
     ]
    },
    {
     "name": "stderr",
     "output_type": "stream",
     "text": [
      "/opt/anaconda3/lib/python3.7/site-packages/sklearn/linear_model/_coordinate_descent.py:476: ConvergenceWarning: Objective did not converge. You might want to increase the number of iterations. Duality gap: 4187547324615.3726, tolerance: 2089084238.405797\n",
      "  positive)\n"
     ]
    }
   ],
   "source": [
    "#the coefficients corresponding to every independent variable when alpha is equal to 0.001\n",
    "lasso=Lasso(alpha=100)\n",
    "lasso_coef=lasso.fit(X_train,y_train).coef_\n",
    "cdf_lasso=pd.DataFrame(lasso_coef,X.columns,columns=['Coeff_lasso'])\n",
    "print(cdf_lasso)"
   ]
  },
  {
   "cell_type": "code",
   "execution_count": 123,
   "metadata": {},
   "outputs": [
    {
     "data": {
      "text/plain": [
       "<matplotlib.axes._subplots.AxesSubplot at 0x7fa79d89ef10>"
      ]
     },
     "execution_count": 123,
     "metadata": {},
     "output_type": "execute_result"
    },
    {
     "data": {
      "image/png": "[encoded data removed]",
      "text/plain": [
       "<Figure size 720x360 with 1 Axes>"
      ]
     },
     "metadata": {
      "needs_background": "light"
     },
     "output_type": "display_data"
    }
   ],
   "source": [
    "#Plot residuals for lasso regression\n",
    "sns.distplot(y_test-salary_y_pred_lasso)"
   ]
  },
  {
   "cell_type": "code",
   "execution_count": 125,
   "metadata": {},
   "outputs": [],
   "source": [
    "#print coeff of linear regression , ridge regression and lasso regression\n",
    "df_coeff=pd.concat([cdf_lin,cdf_ridge,cdf_lasso],axis=1)"
   ]
  },
  {
   "cell_type": "code",
   "execution_count": 126,
   "metadata": {},
   "outputs": [
    {
     "data": {
      "text/html": [
       "<div>\n",
       "<style scoped>\n",
       "    .dataframe tbody tr th:only-of-type {\n",
       "        vertical-align: middle;\n",
       "    }\n",
       "\n",
       "    .dataframe tbody tr th {\n",
       "        vertical-align: top;\n",
       "    }\n",
       "\n",
       "    .dataframe thead th {\n",
       "        text-align: right;\n",
       "    }\n",
       "</style>\n",
       "<table border=\"1\" class=\"dataframe\">\n",
       "  <thead>\n",
       "    <tr style=\"text-align: right;\">\n",
       "      <th></th>\n",
       "      <th>lin_coeff</th>\n",
       "      <th>Coeff_ridge</th>\n",
       "      <th>Coeff_lasso</th>\n",
       "    </tr>\n",
       "  </thead>\n",
       "  <tbody>\n",
       "    <tr>\n",
       "      <th>count_at_bats</th>\n",
       "      <td>-1683.961100</td>\n",
       "      <td>-1703.069372</td>\n",
       "      <td>-1641.038414</td>\n",
       "    </tr>\n",
       "    <tr>\n",
       "      <th>count_hits</th>\n",
       "      <td>6277.462622</td>\n",
       "      <td>6335.697291</td>\n",
       "      <td>6085.897628</td>\n",
       "    </tr>\n",
       "    <tr>\n",
       "      <th>count_home_runs</th>\n",
       "      <td>11638.868095</td>\n",
       "      <td>11755.359088</td>\n",
       "      <td>11357.281168</td>\n",
       "    </tr>\n",
       "    <tr>\n",
       "      <th>count_runs</th>\n",
       "      <td>-124.209435</td>\n",
       "      <td>-143.235670</td>\n",
       "      <td>-15.658062</td>\n",
       "    </tr>\n",
       "    <tr>\n",
       "      <th>RBI</th>\n",
       "      <td>-1995.295646</td>\n",
       "      <td>-2034.689371</td>\n",
       "      <td>-1888.794024</td>\n",
       "    </tr>\n",
       "    <tr>\n",
       "      <th>count_walks</th>\n",
       "      <td>4315.362390</td>\n",
       "      <td>4321.790216</td>\n",
       "      <td>4267.204082</td>\n",
       "    </tr>\n",
       "    <tr>\n",
       "      <th>years_experience</th>\n",
       "      <td>5024.220708</td>\n",
       "      <td>4887.438806</td>\n",
       "      <td>6197.375232</td>\n",
       "    </tr>\n",
       "    <tr>\n",
       "      <th>cumulative_at_bats</th>\n",
       "      <td>26.818033</td>\n",
       "      <td>32.021458</td>\n",
       "      <td>-0.737992</td>\n",
       "    </tr>\n",
       "    <tr>\n",
       "      <th>cumulative_hits</th>\n",
       "      <td>-467.719747</td>\n",
       "      <td>-496.588860</td>\n",
       "      <td>-353.100382</td>\n",
       "    </tr>\n",
       "    <tr>\n",
       "      <th>cumulative_home_runs</th>\n",
       "      <td>-1948.575258</td>\n",
       "      <td>-2001.195003</td>\n",
       "      <td>-1778.296877</td>\n",
       "    </tr>\n",
       "    <tr>\n",
       "      <th>cumulative_runs</th>\n",
       "      <td>535.320085</td>\n",
       "      <td>554.501633</td>\n",
       "      <td>491.965923</td>\n",
       "    </tr>\n",
       "    <tr>\n",
       "      <th>cumulative_RBI</th>\n",
       "      <td>1363.099075</td>\n",
       "      <td>1379.825106</td>\n",
       "      <td>1307.181586</td>\n",
       "    </tr>\n",
       "    <tr>\n",
       "      <th>cumulative_walks</th>\n",
       "      <td>-297.999012</td>\n",
       "      <td>-299.830116</td>\n",
       "      <td>-285.018418</td>\n",
       "    </tr>\n",
       "    <tr>\n",
       "      <th>PutOuts</th>\n",
       "      <td>379.068290</td>\n",
       "      <td>380.063449</td>\n",
       "      <td>377.203517</td>\n",
       "    </tr>\n",
       "    <tr>\n",
       "      <th>Assists</th>\n",
       "      <td>476.048716</td>\n",
       "      <td>472.406136</td>\n",
       "      <td>481.783576</td>\n",
       "    </tr>\n",
       "    <tr>\n",
       "      <th>Errors</th>\n",
       "      <td>-6947.207738</td>\n",
       "      <td>-6807.499967</td>\n",
       "      <td>-7021.278237</td>\n",
       "    </tr>\n",
       "    <tr>\n",
       "      <th>league_N</th>\n",
       "      <td>109539.965718</td>\n",
       "      <td>96813.932276</td>\n",
       "      <td>109515.770283</td>\n",
       "    </tr>\n",
       "    <tr>\n",
       "      <th>Division_W</th>\n",
       "      <td>-81719.849165</td>\n",
       "      <td>-79196.482940</td>\n",
       "      <td>-81130.454712</td>\n",
       "    </tr>\n",
       "    <tr>\n",
       "      <th>NewLeague_N</th>\n",
       "      <td>-29904.092085</td>\n",
       "      <td>-18477.870871</td>\n",
       "      <td>-29220.825463</td>\n",
       "    </tr>\n",
       "  </tbody>\n",
       "</table>\n",
       "</div>"
      ],
      "text/plain": [
       "                          lin_coeff   Coeff_ridge    Coeff_lasso\n",
       "count_at_bats          -1683.961100  -1703.069372   -1641.038414\n",
       "count_hits              6277.462622   6335.697291    6085.897628\n",
       "count_home_runs        11638.868095  11755.359088   11357.281168\n",
       "count_runs              -124.209435   -143.235670     -15.658062\n",
       "RBI                    -1995.295646  -2034.689371   -1888.794024\n",
       "count_walks             4315.362390   4321.790216    4267.204082\n",
       "years_experience        5024.220708   4887.438806    6197.375232\n",
       "cumulative_at_bats        26.818033     32.021458      -0.737992\n",
       "cumulative_hits         -467.719747   -496.588860    -353.100382\n",
       "cumulative_home_runs   -1948.575258  -2001.195003   -1778.296877\n",
       "cumulative_runs          535.320085    554.501633     491.965923\n",
       "cumulative_RBI          1363.099075   1379.825106    1307.181586\n",
       "cumulative_walks        -297.999012   -299.830116    -285.018418\n",
       "PutOuts                  379.068290    380.063449     377.203517\n",
       "Assists                  476.048716    472.406136     481.783576\n",
       "Errors                 -6947.207738  -6807.499967   -7021.278237\n",
       "league_N              109539.965718  96813.932276  109515.770283\n",
       "Division_W            -81719.849165 -79196.482940  -81130.454712\n",
       "NewLeague_N           -29904.092085 -18477.870871  -29220.825463"
      ]
     },
     "execution_count": 126,
     "metadata": {},
     "output_type": "execute_result"
    }
   ],
   "source": [
    "df_coeff"
   ]
  },
  {
   "cell_type": "code",
   "execution_count": 146,
   "metadata": {},
   "outputs": [],
   "source": [
    "##print RMSE of linear regression , ridge regression and lasso regression\n",
    "df_RMSE=pd.DataFrame(data=[326939.68,288192.72,303356.12],columns=['RMSE'],index=['Linear','Ridge','Lasso'])                                                                       "
   ]
  },
  {
   "cell_type": "code",
   "execution_count": 147,
   "metadata": {},
   "outputs": [
    {
     "data": {
      "text/html": [
       "<div>\n",
       "<style scoped>\n",
       "    .dataframe tbody tr th:only-of-type {\n",
       "        vertical-align: middle;\n",
       "    }\n",
       "\n",
       "    .dataframe tbody tr th {\n",
       "        vertical-align: top;\n",
       "    }\n",
       "\n",
       "    .dataframe thead th {\n",
       "        text-align: right;\n",
       "    }\n",
       "</style>\n",
       "<table border=\"1\" class=\"dataframe\">\n",
       "  <thead>\n",
       "    <tr style=\"text-align: right;\">\n",
       "      <th></th>\n",
       "      <th>RMSE</th>\n",
       "    </tr>\n",
       "  </thead>\n",
       "  <tbody>\n",
       "    <tr>\n",
       "      <th>Linear</th>\n",
       "      <td>326939.68</td>\n",
       "    </tr>\n",
       "    <tr>\n",
       "      <th>Ridge</th>\n",
       "      <td>288192.72</td>\n",
       "    </tr>\n",
       "    <tr>\n",
       "      <th>Lasso</th>\n",
       "      <td>303356.12</td>\n",
       "    </tr>\n",
       "  </tbody>\n",
       "</table>\n",
       "</div>"
      ],
      "text/plain": [
       "             RMSE\n",
       "Linear  326939.68\n",
       "Ridge   288192.72\n",
       "Lasso   303356.12"
      ]
     },
     "execution_count": 147,
     "metadata": {},
     "output_type": "execute_result"
    }
   ],
   "source": [
    "df_RMSE"
   ]
  },
  {
   "cell_type": "markdown",
   "metadata": {},
   "source": [
    "# Conclusion:\n",
    "\n",
    "1. The RMSE of linear regression is 326939.68, Ridge regression is 288192.72, lasso regression is 303356.12. Ridge regression and lasso regression introduce a small amount of bias into the model that does not fit the training data as well as linear regression but provides a better long term prediction.\n",
    "2. Lasso Regression can exclude useless variables from equations, it is a litter bit better than ridge regression at reducing the variance in models that contain a lot of useless variables.\n",
    "3. When most variables are useful, ridge regression is better than lasso regression."
   ]
  }
 ],
 "metadata": {
  "kernelspec": {
   "display_name": "Python 3",
   "language": "python",
   "name": "python3"
  },
  "language_info": {
   "codemirror_mode": {
    "name": "ipython",
    "version": 3
   },
   "file_extension": ".py",
   "mimetype": "text/x-python",
   "name": "python",
   "nbconvert_exporter": "python",
   "pygments_lexer": "ipython3",
   "version": "3.7.6"
  }
 },
 "nbformat": 4,
 "nbformat_minor": 4
}

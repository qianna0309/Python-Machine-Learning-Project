{
 "cells": [
  {
   "cell_type": "markdown",
   "metadata": {
    "colab_type": "text",
    "id": "sLacPLTyVW7W"
   },
   "source": [
    "# Author: Na Qian\n",
    "# Purpose: Logistic Regression Predict Transaction"
   ]
  },
  {
   "cell_type": "markdown",
   "metadata": {
    "colab_type": "text",
    "id": "fkXtbXCbW68Q"
   },
   "source": [
    "# Import all libraries"
   ]
  },
  {
   "cell_type": "code",
   "execution_count": 1,
   "metadata": {
    "colab": {},
    "colab_type": "code",
    "id": "y2dgKLvac2dk"
   },
   "outputs": [],
   "source": [
    "import numpy as np\n",
    "import pandas as pd\n",
    "from matplotlib import pyplot as plt\n",
    "import seaborn as sns\n",
    "from sklearn.model_selection import train_test_split\n",
    "from sklearn.linear_model import LogisticRegression\n",
    "from sklearn.linear_model import LinearRegression\n",
    "sns.set_style('whitegrid')\n",
    "%matplotlib inline\n",
    "from sklearn.metrics import mean_squared_error, r2_score\n",
    "from sklearn.model_selection import cross_val_score\n",
    "from sklearn.linear_model import Ridge\n",
    "from sklearn.linear_model import Lasso\n",
    "from sklearn.model_selection import GridSearchCV\n",
    "from sklearn.metrics import classification_report\n",
    "from sklearn.metrics import confusion_matrix\n",
    "from pylab import rcParams\n",
    "import warnings\n"
   ]
  },
  {
   "cell_type": "markdown",
   "metadata": {
    "colab_type": "text",
    "id": "FOyE1geJy6TM"
   },
   "source": [
    "# Acquire the data"
   ]
  },
  {
   "cell_type": "code",
   "execution_count": 2,
   "metadata": {
    "colab": {
     "base_uri": "https://localhost:8080/",
     "height": 224
    },
    "colab_type": "code",
    "id": "ECqjhFN9d-lS",
    "outputId": "45b0ec36-756a-4244-d4e3-559900bc11ea"
   },
   "outputs": [
    {
     "data": {
      "text/html": [
       "<div>\n",
       "<style scoped>\n",
       "    .dataframe tbody tr th:only-of-type {\n",
       "        vertical-align: middle;\n",
       "    }\n",
       "\n",
       "    .dataframe tbody tr th {\n",
       "        vertical-align: top;\n",
       "    }\n",
       "\n",
       "    .dataframe thead th {\n",
       "        text-align: right;\n",
       "    }\n",
       "</style>\n",
       "<table border=\"1\" class=\"dataframe\">\n",
       "  <thead>\n",
       "    <tr style=\"text-align: right;\">\n",
       "      <th></th>\n",
       "      <th>row</th>\n",
       "      <th>transaction</th>\n",
       "      <th>salary_usd</th>\n",
       "      <th>is_male</th>\n",
       "      <th>is_married</th>\n",
       "      <th>is_college</th>\n",
       "      <th>is_professional</th>\n",
       "      <th>is_senior</th>\n",
       "      <th>is_employed</th>\n",
       "      <th>is_single_income</th>\n",
       "      <th>children_present</th>\n",
       "      <th>is_renter</th>\n",
       "      <th>lives_in_house</th>\n",
       "      <th>is_english_primary_language</th>\n",
       "      <th>previously_disney_customer</th>\n",
       "      <th>previous_streaming_service_customer</th>\n",
       "    </tr>\n",
       "  </thead>\n",
       "  <tbody>\n",
       "    <tr>\n",
       "      <th>0</th>\n",
       "      <td>653</td>\n",
       "      <td>0</td>\n",
       "      <td>25000</td>\n",
       "      <td>1</td>\n",
       "      <td>0</td>\n",
       "      <td>0</td>\n",
       "      <td>0</td>\n",
       "      <td>0</td>\n",
       "      <td>0</td>\n",
       "      <td>1</td>\n",
       "      <td>0</td>\n",
       "      <td>1</td>\n",
       "      <td>0</td>\n",
       "      <td>1</td>\n",
       "      <td>0</td>\n",
       "      <td>0</td>\n",
       "    </tr>\n",
       "    <tr>\n",
       "      <th>1</th>\n",
       "      <td>546</td>\n",
       "      <td>0</td>\n",
       "      <td>7000</td>\n",
       "      <td>0</td>\n",
       "      <td>0</td>\n",
       "      <td>0</td>\n",
       "      <td>0</td>\n",
       "      <td>0</td>\n",
       "      <td>0</td>\n",
       "      <td>1</td>\n",
       "      <td>1</td>\n",
       "      <td>1</td>\n",
       "      <td>1</td>\n",
       "      <td>1</td>\n",
       "      <td>0</td>\n",
       "      <td>0</td>\n",
       "    </tr>\n",
       "    <tr>\n",
       "      <th>2</th>\n",
       "      <td>463</td>\n",
       "      <td>0</td>\n",
       "      <td>25000</td>\n",
       "      <td>1</td>\n",
       "      <td>0</td>\n",
       "      <td>0</td>\n",
       "      <td>1</td>\n",
       "      <td>0</td>\n",
       "      <td>0</td>\n",
       "      <td>1</td>\n",
       "      <td>1</td>\n",
       "      <td>1</td>\n",
       "      <td>0</td>\n",
       "      <td>1</td>\n",
       "      <td>1</td>\n",
       "      <td>0</td>\n",
       "    </tr>\n",
       "    <tr>\n",
       "      <th>3</th>\n",
       "      <td>93</td>\n",
       "      <td>1</td>\n",
       "      <td>124000</td>\n",
       "      <td>0</td>\n",
       "      <td>1</td>\n",
       "      <td>1</td>\n",
       "      <td>1</td>\n",
       "      <td>0</td>\n",
       "      <td>0</td>\n",
       "      <td>0</td>\n",
       "      <td>0</td>\n",
       "      <td>0</td>\n",
       "      <td>1</td>\n",
       "      <td>1</td>\n",
       "      <td>0</td>\n",
       "      <td>0</td>\n",
       "    </tr>\n",
       "    <tr>\n",
       "      <th>4</th>\n",
       "      <td>672</td>\n",
       "      <td>1</td>\n",
       "      <td>84000</td>\n",
       "      <td>0</td>\n",
       "      <td>1</td>\n",
       "      <td>0</td>\n",
       "      <td>1</td>\n",
       "      <td>0</td>\n",
       "      <td>0</td>\n",
       "      <td>0</td>\n",
       "      <td>1</td>\n",
       "      <td>0</td>\n",
       "      <td>1</td>\n",
       "      <td>1</td>\n",
       "      <td>0</td>\n",
       "      <td>0</td>\n",
       "    </tr>\n",
       "  </tbody>\n",
       "</table>\n",
       "</div>"
      ],
      "text/plain": [
       "   row  transaction  salary_usd  is_male  is_married  is_college  \\\n",
       "0  653            0       25000        1           0           0   \n",
       "1  546            0        7000        0           0           0   \n",
       "2  463            0       25000        1           0           0   \n",
       "3   93            1      124000        0           1           1   \n",
       "4  672            1       84000        0           1           0   \n",
       "\n",
       "   is_professional  is_senior  is_employed  is_single_income  \\\n",
       "0                0          0            0                 1   \n",
       "1                0          0            0                 1   \n",
       "2                1          0            0                 1   \n",
       "3                1          0            0                 0   \n",
       "4                1          0            0                 0   \n",
       "\n",
       "   children_present  is_renter  lives_in_house  is_english_primary_language  \\\n",
       "0                 0          1               0                            1   \n",
       "1                 1          1               1                            1   \n",
       "2                 1          1               0                            1   \n",
       "3                 0          0               1                            1   \n",
       "4                 1          0               1                            1   \n",
       "\n",
       "   previously_disney_customer  previous_streaming_service_customer  \n",
       "0                           0                                    0  \n",
       "1                           0                                    0  \n",
       "2                           1                                    0  \n",
       "3                           0                                    0  \n",
       "4                           0                                    0  "
      ]
     },
     "execution_count": 2,
     "metadata": {},
     "output_type": "execute_result"
    }
   ],
   "source": [
    "transaction_df = pd.read_csv('https://docs.google.com/spreadsheets/d/e/2PACX-1vThJCOGUbc3DZfvDn21-WxImNlWUC-WN-JHmsbaZ3QS3jGbBnpi-jjI7rS09ZFf7rH0zi4l6e_R8f-c/pub?gid=2137565732&single=true&output=csv')\n",
    "transaction_df.head()"
   ]
  },
  {
   "cell_type": "code",
   "execution_count": 37,
   "metadata": {
    "colab": {
     "base_uri": "https://localhost:8080/",
     "height": 408
    },
    "colab_type": "code",
    "id": "GmlPZnE7d-tS",
    "outputId": "b51718a7-ff95-4401-b216-88a8c273050f"
   },
   "outputs": [
    {
     "name": "stdout",
     "output_type": "stream",
     "text": [
      "<class 'pandas.core.frame.DataFrame'>\n",
      "RangeIndex: 505 entries, 0 to 504\n",
      "Data columns (total 16 columns):\n",
      " #   Column                               Non-Null Count  Dtype\n",
      "---  ------                               --------------  -----\n",
      " 0   row                                  505 non-null    int64\n",
      " 1   transaction                          505 non-null    int64\n",
      " 2   salary_usd                           505 non-null    int64\n",
      " 3   is_male                              505 non-null    int64\n",
      " 4   is_married                           505 non-null    int64\n",
      " 5   is_college                           505 non-null    int64\n",
      " 6   is_professional                      505 non-null    int64\n",
      " 7   is_senior                            505 non-null    int64\n",
      " 8   is_employed                          505 non-null    int64\n",
      " 9   is_single_income                     505 non-null    int64\n",
      " 10  children_present                     505 non-null    int64\n",
      " 11  is_renter                            505 non-null    int64\n",
      " 12  lives_in_house                       505 non-null    int64\n",
      " 13  is_english_primary_language          505 non-null    int64\n",
      " 14  previously_disney_customer           505 non-null    int64\n",
      " 15  previous_streaming_service_customer  505 non-null    int64\n",
      "dtypes: int64(16)\n",
      "memory usage: 63.2 KB\n"
     ]
    }
   ],
   "source": [
    "transaction_df.info()"
   ]
  },
  {
   "cell_type": "markdown",
   "metadata": {
    "colab_type": "text",
    "id": "Mf6IvgR50ckn"
   },
   "source": [
    "# Describe numerical variable"
   ]
  },
  {
   "cell_type": "code",
   "execution_count": 38,
   "metadata": {
    "colab": {
     "base_uri": "https://localhost:8080/",
     "height": 170
    },
    "colab_type": "code",
    "id": "fE90NAIgzxpg",
    "outputId": "a8006877-0aed-4dd8-a83f-69d1d45f4347"
   },
   "outputs": [
    {
     "data": {
      "text/plain": [
       "count       505.000000\n",
       "mean      58223.762376\n",
       "std       39098.058320\n",
       "min           0.000000\n",
       "25%       25000.000000\n",
       "50%       55000.000000\n",
       "75%       86000.000000\n",
       "max      124000.000000\n",
       "Name: salary_usd, dtype: float64"
      ]
     },
     "execution_count": 38,
     "metadata": {},
     "output_type": "execute_result"
    }
   ],
   "source": [
    "transaction_df['salary_usd'].describe()"
   ]
  },
  {
   "cell_type": "markdown",
   "metadata": {
    "colab_type": "text",
    "id": "rZVXBUlx1P1Q"
   },
   "source": [
    "# Describe dummy variables"
   ]
  },
  {
   "cell_type": "code",
   "execution_count": 39,
   "metadata": {
    "colab": {
     "base_uri": "https://localhost:8080/",
     "height": 317
    },
    "colab_type": "code",
    "id": "gyc1YOJx0qeA",
    "outputId": "860e43a1-45e9-4065-ff26-dbe49119e18d"
   },
   "outputs": [
    {
     "data": {
      "text/html": [
       "<div>\n",
       "<style scoped>\n",
       "    .dataframe tbody tr th:only-of-type {\n",
       "        vertical-align: middle;\n",
       "    }\n",
       "\n",
       "    .dataframe tbody tr th {\n",
       "        vertical-align: top;\n",
       "    }\n",
       "\n",
       "    .dataframe thead th {\n",
       "        text-align: right;\n",
       "    }\n",
       "</style>\n",
       "<table border=\"1\" class=\"dataframe\">\n",
       "  <thead>\n",
       "    <tr style=\"text-align: right;\">\n",
       "      <th></th>\n",
       "      <th>transaction</th>\n",
       "      <th>is_male</th>\n",
       "      <th>is_married</th>\n",
       "      <th>is_college</th>\n",
       "      <th>is_professional</th>\n",
       "      <th>is_senior</th>\n",
       "      <th>is_employed</th>\n",
       "      <th>is_single_income</th>\n",
       "      <th>children_present</th>\n",
       "      <th>is_renter</th>\n",
       "      <th>lives_in_house</th>\n",
       "      <th>is_english_primary_language</th>\n",
       "      <th>previously_disney_customer</th>\n",
       "      <th>previous_streaming_service_customer</th>\n",
       "    </tr>\n",
       "  </thead>\n",
       "  <tbody>\n",
       "    <tr>\n",
       "      <th>count</th>\n",
       "      <td>505.000000</td>\n",
       "      <td>505.000000</td>\n",
       "      <td>505.000000</td>\n",
       "      <td>505.000000</td>\n",
       "      <td>505.000000</td>\n",
       "      <td>505.000000</td>\n",
       "      <td>505.000000</td>\n",
       "      <td>505.000000</td>\n",
       "      <td>505.000000</td>\n",
       "      <td>505.000000</td>\n",
       "      <td>505.000000</td>\n",
       "      <td>505.000000</td>\n",
       "      <td>505.000000</td>\n",
       "      <td>505.000000</td>\n",
       "    </tr>\n",
       "    <tr>\n",
       "      <th>mean</th>\n",
       "      <td>0.186139</td>\n",
       "      <td>0.443564</td>\n",
       "      <td>0.366337</td>\n",
       "      <td>0.308911</td>\n",
       "      <td>0.352475</td>\n",
       "      <td>0.063366</td>\n",
       "      <td>0.029703</td>\n",
       "      <td>0.762376</td>\n",
       "      <td>0.364356</td>\n",
       "      <td>0.605941</td>\n",
       "      <td>0.673267</td>\n",
       "      <td>0.900990</td>\n",
       "      <td>0.075248</td>\n",
       "      <td>0.079208</td>\n",
       "    </tr>\n",
       "    <tr>\n",
       "      <th>std</th>\n",
       "      <td>0.389604</td>\n",
       "      <td>0.497297</td>\n",
       "      <td>0.482281</td>\n",
       "      <td>0.462502</td>\n",
       "      <td>0.478215</td>\n",
       "      <td>0.243862</td>\n",
       "      <td>0.169935</td>\n",
       "      <td>0.426049</td>\n",
       "      <td>0.481726</td>\n",
       "      <td>0.489132</td>\n",
       "      <td>0.469484</td>\n",
       "      <td>0.298971</td>\n",
       "      <td>0.264052</td>\n",
       "      <td>0.270331</td>\n",
       "    </tr>\n",
       "    <tr>\n",
       "      <th>min</th>\n",
       "      <td>0.000000</td>\n",
       "      <td>0.000000</td>\n",
       "      <td>0.000000</td>\n",
       "      <td>0.000000</td>\n",
       "      <td>0.000000</td>\n",
       "      <td>0.000000</td>\n",
       "      <td>0.000000</td>\n",
       "      <td>0.000000</td>\n",
       "      <td>0.000000</td>\n",
       "      <td>0.000000</td>\n",
       "      <td>0.000000</td>\n",
       "      <td>0.000000</td>\n",
       "      <td>0.000000</td>\n",
       "      <td>0.000000</td>\n",
       "    </tr>\n",
       "    <tr>\n",
       "      <th>25%</th>\n",
       "      <td>0.000000</td>\n",
       "      <td>0.000000</td>\n",
       "      <td>0.000000</td>\n",
       "      <td>0.000000</td>\n",
       "      <td>0.000000</td>\n",
       "      <td>0.000000</td>\n",
       "      <td>0.000000</td>\n",
       "      <td>1.000000</td>\n",
       "      <td>0.000000</td>\n",
       "      <td>0.000000</td>\n",
       "      <td>0.000000</td>\n",
       "      <td>1.000000</td>\n",
       "      <td>0.000000</td>\n",
       "      <td>0.000000</td>\n",
       "    </tr>\n",
       "    <tr>\n",
       "      <th>50%</th>\n",
       "      <td>0.000000</td>\n",
       "      <td>0.000000</td>\n",
       "      <td>0.000000</td>\n",
       "      <td>0.000000</td>\n",
       "      <td>0.000000</td>\n",
       "      <td>0.000000</td>\n",
       "      <td>0.000000</td>\n",
       "      <td>1.000000</td>\n",
       "      <td>0.000000</td>\n",
       "      <td>1.000000</td>\n",
       "      <td>1.000000</td>\n",
       "      <td>1.000000</td>\n",
       "      <td>0.000000</td>\n",
       "      <td>0.000000</td>\n",
       "    </tr>\n",
       "    <tr>\n",
       "      <th>75%</th>\n",
       "      <td>0.000000</td>\n",
       "      <td>1.000000</td>\n",
       "      <td>1.000000</td>\n",
       "      <td>1.000000</td>\n",
       "      <td>1.000000</td>\n",
       "      <td>0.000000</td>\n",
       "      <td>0.000000</td>\n",
       "      <td>1.000000</td>\n",
       "      <td>1.000000</td>\n",
       "      <td>1.000000</td>\n",
       "      <td>1.000000</td>\n",
       "      <td>1.000000</td>\n",
       "      <td>0.000000</td>\n",
       "      <td>0.000000</td>\n",
       "    </tr>\n",
       "    <tr>\n",
       "      <th>max</th>\n",
       "      <td>1.000000</td>\n",
       "      <td>1.000000</td>\n",
       "      <td>1.000000</td>\n",
       "      <td>1.000000</td>\n",
       "      <td>1.000000</td>\n",
       "      <td>1.000000</td>\n",
       "      <td>1.000000</td>\n",
       "      <td>1.000000</td>\n",
       "      <td>1.000000</td>\n",
       "      <td>1.000000</td>\n",
       "      <td>1.000000</td>\n",
       "      <td>1.000000</td>\n",
       "      <td>1.000000</td>\n",
       "      <td>1.000000</td>\n",
       "    </tr>\n",
       "  </tbody>\n",
       "</table>\n",
       "</div>"
      ],
      "text/plain": [
       "       transaction     is_male  is_married  is_college  is_professional  \\\n",
       "count   505.000000  505.000000  505.000000  505.000000       505.000000   \n",
       "mean      0.186139    0.443564    0.366337    0.308911         0.352475   \n",
       "std       0.389604    0.497297    0.482281    0.462502         0.478215   \n",
       "min       0.000000    0.000000    0.000000    0.000000         0.000000   \n",
       "25%       0.000000    0.000000    0.000000    0.000000         0.000000   \n",
       "50%       0.000000    0.000000    0.000000    0.000000         0.000000   \n",
       "75%       0.000000    1.000000    1.000000    1.000000         1.000000   \n",
       "max       1.000000    1.000000    1.000000    1.000000         1.000000   \n",
       "\n",
       "        is_senior  is_employed  is_single_income  children_present  \\\n",
       "count  505.000000   505.000000        505.000000        505.000000   \n",
       "mean     0.063366     0.029703          0.762376          0.364356   \n",
       "std      0.243862     0.169935          0.426049          0.481726   \n",
       "min      0.000000     0.000000          0.000000          0.000000   \n",
       "25%      0.000000     0.000000          1.000000          0.000000   \n",
       "50%      0.000000     0.000000          1.000000          0.000000   \n",
       "75%      0.000000     0.000000          1.000000          1.000000   \n",
       "max      1.000000     1.000000          1.000000          1.000000   \n",
       "\n",
       "        is_renter  lives_in_house  is_english_primary_language  \\\n",
       "count  505.000000      505.000000                   505.000000   \n",
       "mean     0.605941        0.673267                     0.900990   \n",
       "std      0.489132        0.469484                     0.298971   \n",
       "min      0.000000        0.000000                     0.000000   \n",
       "25%      0.000000        0.000000                     1.000000   \n",
       "50%      1.000000        1.000000                     1.000000   \n",
       "75%      1.000000        1.000000                     1.000000   \n",
       "max      1.000000        1.000000                     1.000000   \n",
       "\n",
       "       previously_disney_customer  previous_streaming_service_customer  \n",
       "count                  505.000000                           505.000000  \n",
       "mean                     0.075248                             0.079208  \n",
       "std                      0.264052                             0.270331  \n",
       "min                      0.000000                             0.000000  \n",
       "25%                      0.000000                             0.000000  \n",
       "50%                      0.000000                             0.000000  \n",
       "75%                      0.000000                             0.000000  \n",
       "max                      1.000000                             1.000000  "
      ]
     },
     "execution_count": 39,
     "metadata": {},
     "output_type": "execute_result"
    }
   ],
   "source": [
    "transaction_df.drop(['salary_usd','row'],axis=1).describe()"
   ]
  },
  {
   "cell_type": "markdown",
   "metadata": {
    "colab_type": "text",
    "id": "yr0T6PpA1oDd"
   },
   "source": [
    "# Graph plot"
   ]
  },
  {
   "cell_type": "code",
   "execution_count": 0,
   "metadata": {
    "colab": {
     "base_uri": "https://localhost:8080/",
     "height": 710
    },
    "colab_type": "code",
    "id": "VP5irDdDoS4_",
    "outputId": "33743925-6e64-4b25-fd46-ab945d646e84"
   },
   "outputs": [
    {
     "data": {
      "image/png": "[encoded data removed]",
      "text/plain": [
       "<Figure size 1800x1080 with 14 Axes>"
      ]
     },
     "metadata": {
      "needs_background": "light",
      "tags": []
     },
     "output_type": "display_data"
    }
   ],
   "source": [
    "#use plot to visulize the factors that effect on disney purchase\n",
    "rcParams['figure.figsize'] = (25,15)\n",
    "plt.subplot(4,4,1)\n",
    "sns.countplot(x='transaction',data=transaction_df)\n",
    "plt.title('transaction count')\n",
    "plt.subplot(4,4,2)\n",
    "sns.countplot(x='transaction', hue = 'is_male',data=transaction_df)\n",
    "plt.title('transaction count(hue:is male)')\n",
    "plt.subplot(4,4,3)\n",
    "sns.countplot(x='transaction', hue = 'is_married',data=transaction_df)\n",
    "plt.title('transaction count(hue:is_married)')\n",
    "plt.subplot(4,4,4)\n",
    "sns.countplot(x='transaction', hue = 'is_college',data=transaction_df)\n",
    "plt.title('transaction count(hue:is_college)')\n",
    "plt.subplot(4,4,5)\n",
    "sns.countplot(x='transaction', hue = 'is_professional',data=transaction_df)\n",
    "plt.title('transaction count(hue:is_professional)')\n",
    "plt.subplot(4,4,6)\n",
    "sns.countplot(x='transaction', hue = 'is_senior',data=transaction_df)\n",
    "plt.title('transaction count(hue:is_senior)')\n",
    "plt.subplot(4,4,7)\n",
    "sns.countplot(x='transaction', hue = 'is_employed',data=transaction_df)\n",
    "plt.title('transaction count(hue:is_employed)')\n",
    "plt.subplot(4,4,8)\n",
    "sns.countplot(x='transaction', hue = 'is_single_income',data=transaction_df)\n",
    "plt.title('transaction count(hue:is_single_income)')\n",
    "plt.subplot(4,4,9)\n",
    "sns.countplot(x='transaction', hue = 'children_present',data=transaction_df)\n",
    "plt.title('transaction count(hue:children_present)')\n",
    "plt.subplot(4,4,10)\n",
    "sns.countplot(x='transaction', hue = 'is_renter',data=transaction_df)\n",
    "plt.title('transaction count(hue:is_renter)')\n",
    "plt.subplot(4,4,11)\n",
    "sns.countplot(x='transaction', hue = 'lives_in_house',data=transaction_df)\n",
    "plt.title('transaction count(hue:lives_in_house)')\n",
    "plt.subplot(4,4,12)\n",
    "sns.countplot(x='transaction', hue = 'is_english_primary_language',data=transaction_df)\n",
    "plt.title('transaction count(hue:English_primary)')\n",
    "plt.subplot(4,4,13)\n",
    "sns.countplot(x='transaction', hue = 'previously_disney_customer',data=transaction_df)\n",
    "plt.title('transaction count(hue:return_customer)')\n",
    "plt.subplot(4,4,14)\n",
    "sns.countplot(x='transaction', hue = 'previous_streaming_service_customer',data=transaction_df)\n",
    "plt.title('transaction count(hue:streaming_customer)')\n",
    "\n",
    "\n",
    "plt.tight_layout()"
   ]
  },
  {
   "cell_type": "markdown",
   "metadata": {
    "colab_type": "text",
    "id": "2cF7_G1R20tT"
   },
   "source": [
    "Some information can be interpreted from above graphs:\n",
    "\n",
    "marriage status, profession, age, employee status, house ownership, language are factors that significant influence the transaction.\n",
    "\n",
    "columns: is_male, children_present, previously_disney_customer,  previous_streaming_service_customer did not obviously influence the transaction, and will be drop when doing logistic regression"
   ]
  },
  {
   "cell_type": "code",
   "execution_count": 0,
   "metadata": {
    "colab": {
     "base_uri": "https://localhost:8080/",
     "height": 296
    },
    "colab_type": "code",
    "id": "gV08SFykoSn_",
    "outputId": "0eb52ab2-a299-4cca-d003-60ef1506aa50"
   },
   "outputs": [
    {
     "data": {
      "text/plain": [
       "<matplotlib.axes._subplots.AxesSubplot at 0x7f857a4b0630>"
      ]
     },
     "execution_count": 79,
     "metadata": {
      "tags": []
     },
     "output_type": "execute_result"
    },
    {
     "data": {
      "image/png": "[encoded data removed]",
      "text/plain": [
       "<Figure size 576x288 with 1 Axes>"
      ]
     },
     "metadata": {
      "needs_background": "light",
      "tags": []
     },
     "output_type": "display_data"
    }
   ],
   "source": [
    "#use boxplot to visulize the how salary effect on transaction\n",
    "rcParams['figure.figsize'] = (10,5)\n",
    "sns.boxplot(x='transaction',y='salary_usd',data=transaction_df)"
   ]
  },
  {
   "cell_type": "code",
   "execution_count": 0,
   "metadata": {
    "colab": {
     "base_uri": "https://localhost:8080/",
     "height": 297
    },
    "colab_type": "code",
    "id": "qzHv-MSnFpEJ",
    "outputId": "de20aef2-606d-4b02-916f-e81d568f080a"
   },
   "outputs": [
    {
     "data": {
      "text/plain": [
       "<matplotlib.axes._subplots.AxesSubplot at 0x7f857af8bb00>"
      ]
     },
     "execution_count": 112,
     "metadata": {
      "tags": []
     },
     "output_type": "execute_result"
    },
    {
     "data": {
      "image/png": "[encoded data removed]",
      "text/plain": [
       "<Figure size 576x288 with 1 Axes>"
      ]
     },
     "metadata": {
      "needs_background": "light",
      "tags": []
     },
     "output_type": "display_data"
    }
   ],
   "source": [
    "#sactter plot show the relationship between transaction and salary\n",
    "sns.scatterplot(x='salary_usd',y='transaction',data=transaction_df)"
   ]
  },
  {
   "cell_type": "code",
   "execution_count": 0,
   "metadata": {
    "colab": {
     "base_uri": "https://localhost:8080/",
     "height": 297
    },
    "colab_type": "code",
    "id": "AQJs_aODFw6s",
    "outputId": "7c0ca0e4-a751-489e-b843-d6903f0b901c"
   },
   "outputs": [
    {
     "data": {
      "text/plain": [
       "<matplotlib.axes._subplots.AxesSubplot at 0x7f8580ac1b38>"
      ]
     },
     "execution_count": 113,
     "metadata": {
      "tags": []
     },
     "output_type": "execute_result"
    },
    {
     "data": {
      "image/png": "[encoded data removed]",
      "text/plain": [
       "<Figure size 576x288 with 1 Axes>"
      ]
     },
     "metadata": {
      "needs_background": "light",
      "tags": []
     },
     "output_type": "display_data"
    }
   ],
   "source": [
    "sns.regplot(x='salary_usd', y='transaction', data=transaction_df, logistic=True)"
   ]
  },
  {
   "cell_type": "markdown",
   "metadata": {
    "colab_type": "text",
    "id": "AxJbw62uw_81"
   },
   "source": [
    "Information get from the boxplot and scatter plot:\n",
    "\n",
    "The income significantly influences the transcation\n",
    "\n",
    "People who make purchase usually have higher salary"
   ]
  },
  {
   "cell_type": "markdown",
   "metadata": {
    "colab_type": "text",
    "id": "6FMGOOQC5J8S"
   },
   "source": [
    "# Logistic Regression"
   ]
  },
  {
   "cell_type": "code",
   "execution_count": 0,
   "metadata": {
    "colab": {},
    "colab_type": "code",
    "id": "JR6GbOO0gamP"
   },
   "outputs": [],
   "source": [
    "transaction_df.drop('row',axis=1,inplace=True)"
   ]
  },
  {
   "cell_type": "code",
   "execution_count": 0,
   "metadata": {
    "colab": {
     "base_uri": "https://localhost:8080/",
     "height": 100
    },
    "colab_type": "code",
    "id": "YUZMucMwmHZZ",
    "outputId": "15e63e5f-c541-413f-8d86-f3c68886b05e"
   },
   "outputs": [
    {
     "data": {
      "text/html": [
       "<div>\n",
       "<style scoped>\n",
       "    .dataframe tbody tr th:only-of-type {\n",
       "        vertical-align: middle;\n",
       "    }\n",
       "\n",
       "    .dataframe tbody tr th {\n",
       "        vertical-align: top;\n",
       "    }\n",
       "\n",
       "    .dataframe thead th {\n",
       "        text-align: right;\n",
       "    }\n",
       "</style>\n",
       "<table border=\"1\" class=\"dataframe\">\n",
       "  <thead>\n",
       "    <tr style=\"text-align: right;\">\n",
       "      <th></th>\n",
       "      <th>transaction</th>\n",
       "      <th>salary_usd</th>\n",
       "      <th>is_male</th>\n",
       "      <th>is_married</th>\n",
       "      <th>is_college</th>\n",
       "      <th>is_professional</th>\n",
       "      <th>is_senior</th>\n",
       "      <th>is_employed</th>\n",
       "      <th>is_single_income</th>\n",
       "      <th>children_present</th>\n",
       "      <th>is_renter</th>\n",
       "      <th>lives_in_house</th>\n",
       "      <th>is_english_primary_language</th>\n",
       "      <th>previously_disney_customer</th>\n",
       "      <th>previous_streaming_service_customer</th>\n",
       "    </tr>\n",
       "  </thead>\n",
       "  <tbody>\n",
       "    <tr>\n",
       "      <th>0</th>\n",
       "      <td>0</td>\n",
       "      <td>25000</td>\n",
       "      <td>1</td>\n",
       "      <td>0</td>\n",
       "      <td>0</td>\n",
       "      <td>0</td>\n",
       "      <td>0</td>\n",
       "      <td>0</td>\n",
       "      <td>1</td>\n",
       "      <td>0</td>\n",
       "      <td>1</td>\n",
       "      <td>0</td>\n",
       "      <td>1</td>\n",
       "      <td>0</td>\n",
       "      <td>0</td>\n",
       "    </tr>\n",
       "  </tbody>\n",
       "</table>\n",
       "</div>"
      ],
      "text/plain": [
       "   transaction  ...  previous_streaming_service_customer\n",
       "0            0  ...                                    0\n",
       "\n",
       "[1 rows x 15 columns]"
      ]
     },
     "execution_count": 143,
     "metadata": {
      "tags": []
     },
     "output_type": "execute_result"
    }
   ],
   "source": [
    "transaction_df.head(1)"
   ]
  },
  {
   "cell_type": "code",
   "execution_count": 0,
   "metadata": {
    "colab": {},
    "colab_type": "code",
    "id": "l5eNbs0zogDB"
   },
   "outputs": [],
   "source": [
    "X2=transaction_df.drop(['transaction','is_male','children_present','previous_streaming_service_customer','previously_disney_customer'],axis=1)\n",
    "y2=transaction_df['transaction']"
   ]
  },
  {
   "cell_type": "code",
   "execution_count": 0,
   "metadata": {
    "colab": {},
    "colab_type": "code",
    "id": "qgHKrl36ogNc"
   },
   "outputs": [],
   "source": [
    "X2_train, X2_test, y2_train, y2_test = train_test_split(X2, y2, random_state=101)"
   ]
  },
  {
   "cell_type": "code",
   "execution_count": 0,
   "metadata": {
    "colab": {},
    "colab_type": "code",
    "id": "7gacjVihogVo"
   },
   "outputs": [],
   "source": [
    "transaction_model = LogisticRegression()"
   ]
  },
  {
   "cell_type": "code",
   "execution_count": 0,
   "metadata": {
    "colab": {
     "base_uri": "https://localhost:8080/",
     "height": 102
    },
    "colab_type": "code",
    "id": "LEhWfVG5ogb1",
    "outputId": "f4078c92-d63c-4e3a-e3e7-15b887fdac7e"
   },
   "outputs": [
    {
     "data": {
      "text/plain": [
       "LogisticRegression(C=1.0, class_weight=None, dual=False, fit_intercept=True,\n",
       "                   intercept_scaling=1, l1_ratio=None, max_iter=100,\n",
       "                   multi_class='auto', n_jobs=None, penalty='l2',\n",
       "                   random_state=None, solver='lbfgs', tol=0.0001, verbose=0,\n",
       "                   warm_start=False)"
      ]
     },
     "execution_count": 167,
     "metadata": {
      "tags": []
     },
     "output_type": "execute_result"
    }
   ],
   "source": [
    "transaction_model.fit(X2_train, y2_train)"
   ]
  },
  {
   "cell_type": "code",
   "execution_count": 0,
   "metadata": {
    "colab": {
     "base_uri": "https://localhost:8080/",
     "height": 34
    },
    "colab_type": "code",
    "id": "19sxt8bgoggZ",
    "outputId": "2a013a12-a7de-4bf6-89d4-09adff860f84"
   },
   "outputs": [
    {
     "data": {
      "text/plain": [
       "0.8818897637795275"
      ]
     },
     "execution_count": 168,
     "metadata": {
      "tags": []
     },
     "output_type": "execute_result"
    }
   ],
   "source": [
    "#the score of this model\n",
    "transaction_model.score(X2_test, y2_test)"
   ]
  },
  {
   "cell_type": "code",
   "execution_count": 0,
   "metadata": {
    "colab": {
     "base_uri": "https://localhost:8080/",
     "height": 439
    },
    "colab_type": "code",
    "id": "bdVJYNUIyRIA",
    "outputId": "3f6a6893-c08f-437e-aa30-92b875ff53dc"
   },
   "outputs": [
    {
     "data": {
      "text/html": [
       "<div>\n",
       "<style scoped>\n",
       "    .dataframe tbody tr th:only-of-type {\n",
       "        vertical-align: middle;\n",
       "    }\n",
       "\n",
       "    .dataframe tbody tr th {\n",
       "        vertical-align: top;\n",
       "    }\n",
       "\n",
       "    .dataframe thead th {\n",
       "        text-align: right;\n",
       "    }\n",
       "</style>\n",
       "<table border=\"1\" class=\"dataframe\">\n",
       "  <thead>\n",
       "    <tr style=\"text-align: right;\">\n",
       "      <th></th>\n",
       "      <th>salary_usd</th>\n",
       "      <th>is_married</th>\n",
       "      <th>is_college</th>\n",
       "      <th>is_professional</th>\n",
       "      <th>is_senior</th>\n",
       "      <th>is_employed</th>\n",
       "      <th>is_single_income</th>\n",
       "      <th>is_renter</th>\n",
       "      <th>lives_in_house</th>\n",
       "      <th>is_english_primary_language</th>\n",
       "      <th>transaction</th>\n",
       "      <th>Prediction</th>\n",
       "      <th>0</th>\n",
       "      <th>1</th>\n",
       "    </tr>\n",
       "  </thead>\n",
       "  <tbody>\n",
       "    <tr>\n",
       "      <th>18</th>\n",
       "      <td>3000</td>\n",
       "      <td>0</td>\n",
       "      <td>0</td>\n",
       "      <td>0</td>\n",
       "      <td>0</td>\n",
       "      <td>0</td>\n",
       "      <td>0</td>\n",
       "      <td>1</td>\n",
       "      <td>0</td>\n",
       "      <td>1</td>\n",
       "      <td>0</td>\n",
       "      <td>0</td>\n",
       "      <td>0.996820</td>\n",
       "      <td>0.003180</td>\n",
       "    </tr>\n",
       "    <tr>\n",
       "      <th>194</th>\n",
       "      <td>124000</td>\n",
       "      <td>1</td>\n",
       "      <td>1</td>\n",
       "      <td>0</td>\n",
       "      <td>1</td>\n",
       "      <td>0</td>\n",
       "      <td>1</td>\n",
       "      <td>0</td>\n",
       "      <td>1</td>\n",
       "      <td>1</td>\n",
       "      <td>1</td>\n",
       "      <td>1</td>\n",
       "      <td>0.454368</td>\n",
       "      <td>0.545632</td>\n",
       "    </tr>\n",
       "    <tr>\n",
       "      <th>104</th>\n",
       "      <td>89000</td>\n",
       "      <td>0</td>\n",
       "      <td>0</td>\n",
       "      <td>1</td>\n",
       "      <td>0</td>\n",
       "      <td>0</td>\n",
       "      <td>1</td>\n",
       "      <td>0</td>\n",
       "      <td>1</td>\n",
       "      <td>1</td>\n",
       "      <td>0</td>\n",
       "      <td>0</td>\n",
       "      <td>0.685030</td>\n",
       "      <td>0.314970</td>\n",
       "    </tr>\n",
       "    <tr>\n",
       "      <th>4</th>\n",
       "      <td>84000</td>\n",
       "      <td>1</td>\n",
       "      <td>0</td>\n",
       "      <td>1</td>\n",
       "      <td>0</td>\n",
       "      <td>0</td>\n",
       "      <td>0</td>\n",
       "      <td>0</td>\n",
       "      <td>1</td>\n",
       "      <td>1</td>\n",
       "      <td>1</td>\n",
       "      <td>0</td>\n",
       "      <td>0.619379</td>\n",
       "      <td>0.380621</td>\n",
       "    </tr>\n",
       "    <tr>\n",
       "      <th>157</th>\n",
       "      <td>48000</td>\n",
       "      <td>1</td>\n",
       "      <td>0</td>\n",
       "      <td>0</td>\n",
       "      <td>1</td>\n",
       "      <td>0</td>\n",
       "      <td>1</td>\n",
       "      <td>0</td>\n",
       "      <td>1</td>\n",
       "      <td>1</td>\n",
       "      <td>0</td>\n",
       "      <td>0</td>\n",
       "      <td>0.991012</td>\n",
       "      <td>0.008988</td>\n",
       "    </tr>\n",
       "    <tr>\n",
       "      <th>...</th>\n",
       "      <td>...</td>\n",
       "      <td>...</td>\n",
       "      <td>...</td>\n",
       "      <td>...</td>\n",
       "      <td>...</td>\n",
       "      <td>...</td>\n",
       "      <td>...</td>\n",
       "      <td>...</td>\n",
       "      <td>...</td>\n",
       "      <td>...</td>\n",
       "      <td>...</td>\n",
       "      <td>...</td>\n",
       "      <td>...</td>\n",
       "      <td>...</td>\n",
       "    </tr>\n",
       "    <tr>\n",
       "      <th>56</th>\n",
       "      <td>64000</td>\n",
       "      <td>1</td>\n",
       "      <td>1</td>\n",
       "      <td>1</td>\n",
       "      <td>0</td>\n",
       "      <td>0</td>\n",
       "      <td>1</td>\n",
       "      <td>1</td>\n",
       "      <td>0</td>\n",
       "      <td>1</td>\n",
       "      <td>0</td>\n",
       "      <td>0</td>\n",
       "      <td>0.985374</td>\n",
       "      <td>0.014626</td>\n",
       "    </tr>\n",
       "    <tr>\n",
       "      <th>479</th>\n",
       "      <td>45000</td>\n",
       "      <td>0</td>\n",
       "      <td>0</td>\n",
       "      <td>0</td>\n",
       "      <td>0</td>\n",
       "      <td>0</td>\n",
       "      <td>1</td>\n",
       "      <td>1</td>\n",
       "      <td>0</td>\n",
       "      <td>1</td>\n",
       "      <td>0</td>\n",
       "      <td>0</td>\n",
       "      <td>0.985842</td>\n",
       "      <td>0.014158</td>\n",
       "    </tr>\n",
       "    <tr>\n",
       "      <th>274</th>\n",
       "      <td>23000</td>\n",
       "      <td>0</td>\n",
       "      <td>1</td>\n",
       "      <td>0</td>\n",
       "      <td>0</td>\n",
       "      <td>0</td>\n",
       "      <td>1</td>\n",
       "      <td>1</td>\n",
       "      <td>0</td>\n",
       "      <td>1</td>\n",
       "      <td>0</td>\n",
       "      <td>0</td>\n",
       "      <td>0.997940</td>\n",
       "      <td>0.002060</td>\n",
       "    </tr>\n",
       "    <tr>\n",
       "      <th>365</th>\n",
       "      <td>71000</td>\n",
       "      <td>0</td>\n",
       "      <td>0</td>\n",
       "      <td>0</td>\n",
       "      <td>0</td>\n",
       "      <td>0</td>\n",
       "      <td>1</td>\n",
       "      <td>1</td>\n",
       "      <td>0</td>\n",
       "      <td>1</td>\n",
       "      <td>0</td>\n",
       "      <td>0</td>\n",
       "      <td>0.919259</td>\n",
       "      <td>0.080741</td>\n",
       "    </tr>\n",
       "    <tr>\n",
       "      <th>155</th>\n",
       "      <td>124000</td>\n",
       "      <td>0</td>\n",
       "      <td>1</td>\n",
       "      <td>0</td>\n",
       "      <td>0</td>\n",
       "      <td>0</td>\n",
       "      <td>0</td>\n",
       "      <td>1</td>\n",
       "      <td>0</td>\n",
       "      <td>1</td>\n",
       "      <td>1</td>\n",
       "      <td>1</td>\n",
       "      <td>0.093429</td>\n",
       "      <td>0.906571</td>\n",
       "    </tr>\n",
       "  </tbody>\n",
       "</table>\n",
       "<p>127 rows × 14 columns</p>\n",
       "</div>"
      ],
      "text/plain": [
       "     salary_usd  is_married  is_college  ...  Prediction         0         1\n",
       "18         3000           0           0  ...           0  0.996820  0.003180\n",
       "194      124000           1           1  ...           1  0.454368  0.545632\n",
       "104       89000           0           0  ...           0  0.685030  0.314970\n",
       "4         84000           1           0  ...           0  0.619379  0.380621\n",
       "157       48000           1           0  ...           0  0.991012  0.008988\n",
       "..          ...         ...         ...  ...         ...       ...       ...\n",
       "56        64000           1           1  ...           0  0.985374  0.014626\n",
       "479       45000           0           0  ...           0  0.985842  0.014158\n",
       "274       23000           0           1  ...           0  0.997940  0.002060\n",
       "365       71000           0           0  ...           0  0.919259  0.080741\n",
       "155      124000           0           1  ...           1  0.093429  0.906571\n",
       "\n",
       "[127 rows x 14 columns]"
      ]
     },
     "execution_count": 169,
     "metadata": {
      "tags": []
     },
     "output_type": "execute_result"
    }
   ],
   "source": [
    "# make dataframe to show the predictions and probabilities\n",
    "prediction_df2 = pd.DataFrame(transaction_model.predict(X2_test), columns = {'Prediction'}).set_index([pd.Index(X2_test.index)])\n",
    "probability_df2 = pd.DataFrame(transaction_model.predict_proba(X2_test)).set_index([pd.Index(X2_test.index)])\n",
    "all_together_df2 = X2_test.join(y2_test).join(prediction_df2).join(probability_df2)\n",
    "all_together_df2"
   ]
  },
  {
   "cell_type": "markdown",
   "metadata": {
    "colab_type": "text",
    "id": "cH-uwKcp6_3U"
   },
   "source": [
    "# Arbitrary value predictions"
   ]
  },
  {
   "cell_type": "code",
   "execution_count": 0,
   "metadata": {
    "colab": {},
    "colab_type": "code",
    "id": "vHyyewa97Gxx"
   },
   "outputs": [],
   "source": [
    "#make arbitrary variables\n",
    "arbitrary_values2 = pd.DataFrame(data={'salary_usd':[0,5000,120000,50000,150000],'is_married':[1,0,0,1,0],'is_college':[1,1,1,0,1],'is_professional':[1,0,0,0,0],'is_senior':[0,1,1,0,1],'is_employed':[1,1,0,0,1],'is_single_income':[0,0,1,0,0],'is_renter':[0,1,1,0,1],'lives_in_house':[1,1,0,0,1],'is_english_primary_language':[1,0,0,1,1]})\n"
   ]
  },
  {
   "cell_type": "code",
   "execution_count": 0,
   "metadata": {
    "colab": {
     "base_uri": "https://localhost:8080/",
     "height": 224
    },
    "colab_type": "code",
    "id": "BSZCJxqJ7Gtm",
    "outputId": "a03afb18-105b-4691-c075-f2c5f73596c4"
   },
   "outputs": [
    {
     "data": {
      "text/html": [
       "<div>\n",
       "<style scoped>\n",
       "    .dataframe tbody tr th:only-of-type {\n",
       "        vertical-align: middle;\n",
       "    }\n",
       "\n",
       "    .dataframe tbody tr th {\n",
       "        vertical-align: top;\n",
       "    }\n",
       "\n",
       "    .dataframe thead th {\n",
       "        text-align: right;\n",
       "    }\n",
       "</style>\n",
       "<table border=\"1\" class=\"dataframe\">\n",
       "  <thead>\n",
       "    <tr style=\"text-align: right;\">\n",
       "      <th></th>\n",
       "      <th>salary_usd</th>\n",
       "      <th>is_married</th>\n",
       "      <th>is_college</th>\n",
       "      <th>is_professional</th>\n",
       "      <th>is_senior</th>\n",
       "      <th>is_employed</th>\n",
       "      <th>is_single_income</th>\n",
       "      <th>is_renter</th>\n",
       "      <th>lives_in_house</th>\n",
       "      <th>is_english_primary_language</th>\n",
       "    </tr>\n",
       "  </thead>\n",
       "  <tbody>\n",
       "    <tr>\n",
       "      <th>0</th>\n",
       "      <td>0</td>\n",
       "      <td>1</td>\n",
       "      <td>1</td>\n",
       "      <td>1</td>\n",
       "      <td>0</td>\n",
       "      <td>1</td>\n",
       "      <td>0</td>\n",
       "      <td>0</td>\n",
       "      <td>1</td>\n",
       "      <td>1</td>\n",
       "    </tr>\n",
       "    <tr>\n",
       "      <th>1</th>\n",
       "      <td>5000</td>\n",
       "      <td>0</td>\n",
       "      <td>1</td>\n",
       "      <td>0</td>\n",
       "      <td>1</td>\n",
       "      <td>1</td>\n",
       "      <td>0</td>\n",
       "      <td>1</td>\n",
       "      <td>1</td>\n",
       "      <td>0</td>\n",
       "    </tr>\n",
       "    <tr>\n",
       "      <th>2</th>\n",
       "      <td>120000</td>\n",
       "      <td>0</td>\n",
       "      <td>1</td>\n",
       "      <td>0</td>\n",
       "      <td>1</td>\n",
       "      <td>0</td>\n",
       "      <td>1</td>\n",
       "      <td>1</td>\n",
       "      <td>0</td>\n",
       "      <td>0</td>\n",
       "    </tr>\n",
       "    <tr>\n",
       "      <th>3</th>\n",
       "      <td>50000</td>\n",
       "      <td>1</td>\n",
       "      <td>0</td>\n",
       "      <td>0</td>\n",
       "      <td>0</td>\n",
       "      <td>0</td>\n",
       "      <td>0</td>\n",
       "      <td>0</td>\n",
       "      <td>0</td>\n",
       "      <td>1</td>\n",
       "    </tr>\n",
       "    <tr>\n",
       "      <th>4</th>\n",
       "      <td>150000</td>\n",
       "      <td>0</td>\n",
       "      <td>1</td>\n",
       "      <td>0</td>\n",
       "      <td>1</td>\n",
       "      <td>1</td>\n",
       "      <td>0</td>\n",
       "      <td>1</td>\n",
       "      <td>1</td>\n",
       "      <td>1</td>\n",
       "    </tr>\n",
       "  </tbody>\n",
       "</table>\n",
       "</div>"
      ],
      "text/plain": [
       "   salary_usd  is_married  ...  lives_in_house  is_english_primary_language\n",
       "0           0           1  ...               1                            1\n",
       "1        5000           0  ...               1                            0\n",
       "2      120000           0  ...               0                            0\n",
       "3       50000           1  ...               0                            1\n",
       "4      150000           0  ...               1                            1\n",
       "\n",
       "[5 rows x 10 columns]"
      ]
     },
     "execution_count": 195,
     "metadata": {
      "tags": []
     },
     "output_type": "execute_result"
    }
   ],
   "source": [
    "arbitrary_values2"
   ]
  },
  {
   "cell_type": "code",
   "execution_count": 0,
   "metadata": {
    "colab": {
     "base_uri": "https://localhost:8080/",
     "height": 204
    },
    "colab_type": "code",
    "id": "dXkzcZFM7GqM",
    "outputId": "08fcc08c-0274-46e9-de96-4ce4963d4f06"
   },
   "outputs": [
    {
     "data": {
      "text/html": [
       "<div>\n",
       "<style scoped>\n",
       "    .dataframe tbody tr th:only-of-type {\n",
       "        vertical-align: middle;\n",
       "    }\n",
       "\n",
       "    .dataframe tbody tr th {\n",
       "        vertical-align: top;\n",
       "    }\n",
       "\n",
       "    .dataframe thead th {\n",
       "        text-align: right;\n",
       "    }\n",
       "</style>\n",
       "<table border=\"1\" class=\"dataframe\">\n",
       "  <thead>\n",
       "    <tr style=\"text-align: right;\">\n",
       "      <th></th>\n",
       "      <th>0</th>\n",
       "    </tr>\n",
       "  </thead>\n",
       "  <tbody>\n",
       "    <tr>\n",
       "      <th>0</th>\n",
       "      <td>0</td>\n",
       "    </tr>\n",
       "    <tr>\n",
       "      <th>1</th>\n",
       "      <td>0</td>\n",
       "    </tr>\n",
       "    <tr>\n",
       "      <th>2</th>\n",
       "      <td>1</td>\n",
       "    </tr>\n",
       "    <tr>\n",
       "      <th>3</th>\n",
       "      <td>0</td>\n",
       "    </tr>\n",
       "    <tr>\n",
       "      <th>4</th>\n",
       "      <td>1</td>\n",
       "    </tr>\n",
       "  </tbody>\n",
       "</table>\n",
       "</div>"
      ],
      "text/plain": [
       "   0\n",
       "0  0\n",
       "1  0\n",
       "2  1\n",
       "3  0\n",
       "4  1"
      ]
     },
     "execution_count": 196,
     "metadata": {
      "tags": []
     },
     "output_type": "execute_result"
    }
   ],
   "source": [
    "#make predictions\n",
    "pd.DataFrame(transaction_model.predict(arbitrary_values2))"
   ]
  },
  {
   "cell_type": "code",
   "execution_count": 0,
   "metadata": {
    "colab": {},
    "colab_type": "code",
    "id": "tuh_sIHE7Gmq"
   },
   "outputs": [],
   "source": [
    "# make dataframe to show the predictions and probabilities\n",
    "arbitrary_values2_pred=pd.DataFrame(transaction_model.predict(arbitrary_values2),columns=['prediction'])\n",
    "arbitrary_values2_pred_prob=pd.DataFrame(transaction_model.predict_proba(arbitrary_values2))\n",
    "arbitrary_values2_pred_alltogether = pd.concat([arbitrary_values2,arbitrary_values2_pred_prob,arbitrary_values2_pred],axis=1)"
   ]
  },
  {
   "cell_type": "code",
   "execution_count": 0,
   "metadata": {
    "colab": {
     "base_uri": "https://localhost:8080/",
     "height": 224
    },
    "colab_type": "code",
    "id": "9BEVCw4ZCCqI",
    "outputId": "1e3c77e4-7375-4708-d0a1-c089f97a2c79"
   },
   "outputs": [
    {
     "data": {
      "text/html": [
       "<div>\n",
       "<style scoped>\n",
       "    .dataframe tbody tr th:only-of-type {\n",
       "        vertical-align: middle;\n",
       "    }\n",
       "\n",
       "    .dataframe tbody tr th {\n",
       "        vertical-align: top;\n",
       "    }\n",
       "\n",
       "    .dataframe thead th {\n",
       "        text-align: right;\n",
       "    }\n",
       "</style>\n",
       "<table border=\"1\" class=\"dataframe\">\n",
       "  <thead>\n",
       "    <tr style=\"text-align: right;\">\n",
       "      <th></th>\n",
       "      <th>salary_usd</th>\n",
       "      <th>is_married</th>\n",
       "      <th>is_college</th>\n",
       "      <th>is_professional</th>\n",
       "      <th>is_senior</th>\n",
       "      <th>is_employed</th>\n",
       "      <th>is_single_income</th>\n",
       "      <th>is_renter</th>\n",
       "      <th>lives_in_house</th>\n",
       "      <th>is_english_primary_language</th>\n",
       "      <th>0</th>\n",
       "      <th>1</th>\n",
       "      <th>prediction</th>\n",
       "    </tr>\n",
       "  </thead>\n",
       "  <tbody>\n",
       "    <tr>\n",
       "      <th>0</th>\n",
       "      <td>0</td>\n",
       "      <td>1</td>\n",
       "      <td>1</td>\n",
       "      <td>1</td>\n",
       "      <td>0</td>\n",
       "      <td>1</td>\n",
       "      <td>0</td>\n",
       "      <td>0</td>\n",
       "      <td>1</td>\n",
       "      <td>1</td>\n",
       "      <td>0.998929</td>\n",
       "      <td>0.001071</td>\n",
       "      <td>0</td>\n",
       "    </tr>\n",
       "    <tr>\n",
       "      <th>1</th>\n",
       "      <td>5000</td>\n",
       "      <td>0</td>\n",
       "      <td>1</td>\n",
       "      <td>0</td>\n",
       "      <td>1</td>\n",
       "      <td>1</td>\n",
       "      <td>0</td>\n",
       "      <td>1</td>\n",
       "      <td>1</td>\n",
       "      <td>0</td>\n",
       "      <td>0.997041</td>\n",
       "      <td>0.002959</td>\n",
       "      <td>0</td>\n",
       "    </tr>\n",
       "    <tr>\n",
       "      <th>2</th>\n",
       "      <td>120000</td>\n",
       "      <td>0</td>\n",
       "      <td>1</td>\n",
       "      <td>0</td>\n",
       "      <td>1</td>\n",
       "      <td>0</td>\n",
       "      <td>1</td>\n",
       "      <td>1</td>\n",
       "      <td>0</td>\n",
       "      <td>0</td>\n",
       "      <td>0.127704</td>\n",
       "      <td>0.872296</td>\n",
       "      <td>1</td>\n",
       "    </tr>\n",
       "    <tr>\n",
       "      <th>3</th>\n",
       "      <td>50000</td>\n",
       "      <td>1</td>\n",
       "      <td>0</td>\n",
       "      <td>0</td>\n",
       "      <td>0</td>\n",
       "      <td>0</td>\n",
       "      <td>0</td>\n",
       "      <td>0</td>\n",
       "      <td>0</td>\n",
       "      <td>1</td>\n",
       "      <td>0.844935</td>\n",
       "      <td>0.155065</td>\n",
       "      <td>0</td>\n",
       "    </tr>\n",
       "    <tr>\n",
       "      <th>4</th>\n",
       "      <td>150000</td>\n",
       "      <td>0</td>\n",
       "      <td>1</td>\n",
       "      <td>0</td>\n",
       "      <td>1</td>\n",
       "      <td>1</td>\n",
       "      <td>0</td>\n",
       "      <td>1</td>\n",
       "      <td>1</td>\n",
       "      <td>1</td>\n",
       "      <td>0.072905</td>\n",
       "      <td>0.927095</td>\n",
       "      <td>1</td>\n",
       "    </tr>\n",
       "  </tbody>\n",
       "</table>\n",
       "</div>"
      ],
      "text/plain": [
       "   salary_usd  is_married  is_college  ...         0         1  prediction\n",
       "0           0           1           1  ...  0.998929  0.001071           0\n",
       "1        5000           0           1  ...  0.997041  0.002959           0\n",
       "2      120000           0           1  ...  0.127704  0.872296           1\n",
       "3       50000           1           0  ...  0.844935  0.155065           0\n",
       "4      150000           0           1  ...  0.072905  0.927095           1\n",
       "\n",
       "[5 rows x 13 columns]"
      ]
     },
     "execution_count": 198,
     "metadata": {
      "tags": []
     },
     "output_type": "execute_result"
    }
   ],
   "source": [
    "arbitrary_values2_pred_alltogether"
   ]
  },
  {
   "cell_type": "markdown",
   "metadata": {
    "colab_type": "text",
    "id": "DYQQPpb3T0L7"
   },
   "source": [
    "# Logistic Regression model evaluate"
   ]
  },
  {
   "cell_type": "code",
   "execution_count": 0,
   "metadata": {
    "colab": {},
    "colab_type": "code",
    "id": "v52WgfqdUW9a"
   },
   "outputs": [],
   "source": [
    "#make confusion matrix\n",
    "con_mat2 = confusion_matrix(y2_test,predictions2)"
   ]
  },
  {
   "cell_type": "code",
   "execution_count": 0,
   "metadata": {
    "colab": {
     "base_uri": "https://localhost:8080/",
     "height": 51
    },
    "colab_type": "code",
    "id": "zW4cPuKXUDz2",
    "outputId": "a8d4d244-702b-41f0-b6b9-5ab02b418c33"
   },
   "outputs": [
    {
     "data": {
      "text/plain": [
       "array([[100,   3],\n",
       "       [ 10,  14]])"
      ]
     },
     "execution_count": 162,
     "metadata": {
      "tags": []
     },
     "output_type": "execute_result"
    }
   ],
   "source": [
    "con_mat2"
   ]
  },
  {
   "cell_type": "code",
   "execution_count": 0,
   "metadata": {
    "colab": {
     "base_uri": "https://localhost:8080/",
     "height": 358
    },
    "colab_type": "code",
    "id": "DF2dcutwUDwj",
    "outputId": "da78d86e-7593-46a1-87f3-f9129eba46fb"
   },
   "outputs": [
    {
     "data": {
      "text/plain": [
       "Text(0.5, 15.0, 'Predicted label')"
      ]
     },
     "execution_count": 55,
     "metadata": {
      "tags": []
     },
     "output_type": "execute_result"
    },
    {
     "data": {
      "image/png": "[encoded data removed]",
      "text/plain": [
       "<Figure size 576x288 with 2 Axes>"
      ]
     },
     "metadata": {
      "needs_background": "light",
      "tags": []
     },
     "output_type": "display_data"
    }
   ],
   "source": [
    "#Visualizing Confusion Matrix using Heatmap\n",
    "rcParams['figure.figsize'] = (8,4)\n",
    "sns.heatmap(pd.DataFrame(con_mat2), annot=True, cmap=\"coolwarm\",fmt='g')\n",
    "plt.tight_layout()\n",
    "plt.title('Confusion matrix',fontsize=25)\n",
    "plt.ylabel('Actual label',fontsize=20)\n",
    "plt.xlabel('Predicted label',fontsize=20)"
   ]
  },
  {
   "cell_type": "code",
   "execution_count": 0,
   "metadata": {
    "colab": {
     "base_uri": "https://localhost:8080/",
     "height": 170
    },
    "colab_type": "code",
    "id": "jETs9dSRyREY",
    "outputId": "29b12329-88e0-408c-8644-5a3ba50d1043"
   },
   "outputs": [
    {
     "name": "stdout",
     "output_type": "stream",
     "text": [
      "              precision    recall  f1-score   support\n",
      "\n",
      "           0       0.91      0.97      0.94       103\n",
      "           1       0.82      0.58      0.68        24\n",
      "\n",
      "    accuracy                           0.90       127\n",
      "   macro avg       0.87      0.78      0.81       127\n",
      "weighted avg       0.89      0.90      0.89       127\n",
      "\n"
     ]
    }
   ],
   "source": [
    "#print classification report\n",
    "print(classification_report(y2_test,predictions2))"
   ]
  },
  {
   "cell_type": "markdown",
   "metadata": {
    "colab_type": "text",
    "id": "7gKbOChy7NkW"
   },
   "source": [
    "# Conclusion\n",
    "The transaction was largely depending on a customer's salary. A customer has higher salary, are more likely to make transaction.\n",
    "\n",
    "besides, married people, young people, professional people, house-owning peolpe, English as primary language people are more likely to make transaction.\n",
    "\n",
    "Logistic Regression model evaluate:\n",
    "\n",
    "The logsitic regression model accuracy was 0.90\n",
    "\n",
    "The model had a good performance on predicting people who did not make transaction, the precision was 0.91, the recall was 0.97, the f1-score was 0.94.\n",
    "\n",
    "The model made many type II errors. The prediction on make transaction has precision 0.82, recall 0.58, f1-score 0.68.\n",
    "\n"
   ]
  }
 ],
 "metadata": {
  "colab": {
   "collapsed_sections": [],
   "name": "ALY6015_SpringA 2020_Na Qian_Lecture#3Colab.ipynb",
   "provenance": []
  },
  "kernelspec": {
   "display_name": "Python 3",
   "language": "python",
   "name": "python3"
  },
  "language_info": {
   "codemirror_mode": {
    "name": "ipython",
    "version": 3
   },
   "file_extension": ".py",
   "mimetype": "text/x-python",
   "name": "python",
   "nbconvert_exporter": "python",
   "pygments_lexer": "ipython3",
   "version": "3.7.6"
  }
 },
 "nbformat": 4,
 "nbformat_minor": 1
}
